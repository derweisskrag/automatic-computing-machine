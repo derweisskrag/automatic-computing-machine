{
 "cells": [
  {
   "cell_type": "markdown",
   "id": "523917e7",
   "metadata": {},
   "source": [
    "# Imports playground\n",
    "\n",
    "This playground is about studying the imports within the `tomodachi` application. It covers the 4 fundamental approaches:\n",
    "\n",
    "- Deployment: we can deploy certain package and use it everywhere\n",
    "- sys.path: we can append our module to the sys path and import it\n",
    "- pathlib & env: we can re-read or load another .env.* file to configure another environment of our application\n",
    "- importlib.util: we can dynamically import the module and re-use its content (functions, classes, variables, etc)"
   ]
  },
  {
   "cell_type": "markdown",
   "id": "15d2f005",
   "metadata": {},
   "source": [
    "### Using the deployed package:"
   ]
  },
  {
   "cell_type": "code",
   "execution_count": 1,
   "id": "6dba0b03",
   "metadata": {},
   "outputs": [],
   "source": [
    "# uses our deployed one\n",
    "from tomodachi_core.tomodachi.services import PandasService\n",
    "\n",
    "# Shows no error? As long as you installed the deployed package!"
   ]
  },
  {
   "cell_type": "markdown",
   "id": "e3a2238c",
   "metadata": {},
   "source": [
    "### Using `sys` and `os` strategy\n",
    "\n",
    "So, today I wanna check out this strategy:\n"
   ]
  },
  {
   "cell_type": "code",
   "execution_count": 2,
   "id": "c2209801",
   "metadata": {},
   "outputs": [],
   "source": [
    "import sys\n",
    "import os\n",
    "# this is a hack to get the tomodachi_core module to be found\n",
    "# in the parent directory\n",
    "# sys.path.append(os.path.join(os.getcwd(), \"..\"))"
   ]
  },
  {
   "cell_type": "markdown",
   "id": "91569021",
   "metadata": {},
   "source": [
    "### Checking out the directory\n",
    "\n",
    "In order to see all paths, we can use the `sys.path` and print it to the console as follows:"
   ]
  },
  {
   "cell_type": "code",
   "execution_count": 3,
   "id": "02980910",
   "metadata": {},
   "outputs": [
    {
     "name": "stdout",
     "output_type": "stream",
     "text": [
      "['c:\\\\Program Files\\\\Python313\\\\python313.zip',\n",
      " 'c:\\\\Program Files\\\\Python313\\\\DLLs',\n",
      " 'c:\\\\Program Files\\\\Python313\\\\Lib',\n",
      " 'c:\\\\Program Files\\\\Python313',\n",
      " '',\n",
      " 'C:\\\\Users\\\\Lenovo\\\\AppData\\\\Roaming\\\\Python\\\\Python313\\\\site-packages',\n",
      " 'C:\\\\Users\\\\Lenovo\\\\AppData\\\\Roaming\\\\Python\\\\Python313\\\\site-packages\\\\win32',\n",
      " 'C:\\\\Users\\\\Lenovo\\\\AppData\\\\Roaming\\\\Python\\\\Python313\\\\site-packages\\\\win32\\\\lib',\n",
      " 'C:\\\\Users\\\\Lenovo\\\\AppData\\\\Roaming\\\\Python\\\\Python313\\\\site-packages\\\\Pythonwin',\n",
      " 'c:\\\\Program Files\\\\Python313\\\\Lib\\\\site-packages']\n"
     ]
    }
   ],
   "source": [
    "# let us try see what sys does\n",
    "from pprint import pprint\n",
    "pprint(sys.path)"
   ]
  },
  {
   "cell_type": "markdown",
   "id": "3d37fd1e",
   "metadata": {},
   "source": [
    "Let us use the magic line (append to the path)\n",
    "\n",
    "We try to import, say, `test_file.py` which contains `greetings = 'Hello, world!'\n",
    "\n",
    "Let us get it? So far, we know two approaches:\n",
    "\n",
    "- We can use `pathlib` and then use absolute path to the thing.\n",
    "- We can then use `importlib.util` to dynamically import the module & fetch its content\n",
    "\n",
    "And now we try: sys for that."
   ]
  },
  {
   "cell_type": "code",
   "execution_count": 4,
   "id": "9258dc58",
   "metadata": {},
   "outputs": [
    {
     "ename": "ModuleNotFoundError",
     "evalue": "No module named 'test_file'",
     "output_type": "error",
     "traceback": [
      "\u001b[31m---------------------------------------------------------------------------\u001b[39m",
      "\u001b[31mModuleNotFoundError\u001b[39m                       Traceback (most recent call last)",
      "\u001b[36mCell\u001b[39m\u001b[36m \u001b[39m\u001b[32mIn[4]\u001b[39m\u001b[32m, line 7\u001b[39m\n\u001b[32m      1\u001b[39m \u001b[38;5;66;03m# append the path\u001b[39;00m\n\u001b[32m      2\u001b[39m \u001b[38;5;66;03m# Comment out the line below to see what happens and uncomment it (to make it run successfully)\u001b[39;00m\n\u001b[32m      3\u001b[39m \u001b[38;5;66;03m# NB! After you comment it out, you need to restart the kernel for it to take effect\u001b[39;00m\n\u001b[32m      4\u001b[39m \u001b[38;5;66;03m# sys.path.append(os.path.join(os.getcwd(), \"..\"))\u001b[39;00m\n\u001b[32m      5\u001b[39m \n\u001b[32m      6\u001b[39m \u001b[38;5;66;03m# try to import \u001b[39;00m\n\u001b[32m----> \u001b[39m\u001b[32m7\u001b[39m \u001b[38;5;28;01mfrom\u001b[39;00m\u001b[38;5;250m \u001b[39m\u001b[34;01mtest_file\u001b[39;00m\u001b[38;5;250m \u001b[39m\u001b[38;5;28;01mimport\u001b[39;00m greetings\n\u001b[32m      8\u001b[39m pprint(greetings) \u001b[38;5;66;03m# it is a string \u001b[39;00m\n",
      "\u001b[31mModuleNotFoundError\u001b[39m: No module named 'test_file'"
     ]
    }
   ],
   "source": [
    "# append the path\n",
    "# Comment out the line below to see what happens and uncomment it (to make it run successfully)\n",
    "# NB! After you comment it out, you need to restart the kernel for it to take effect\n",
    "# sys.path.append(os.path.join(os.getcwd(), \"..\"))\n",
    "\n",
    "# try to import \n",
    "from test_file import greetings\n",
    "pprint(greetings) # it is a string "
   ]
  },
  {
   "cell_type": "markdown",
   "id": "cd43c1d9",
   "metadata": {},
   "source": [
    "Result? Surprisingly, we got the correct output and we could import the module. \n",
    "\n",
    "Try to rerun the snippet above when commenting out the sys.path.append line? Result? You would see error. It will fail."
   ]
  },
  {
   "cell_type": "markdown",
   "id": "663d3f1c",
   "metadata": {},
   "source": [
    "To provide my teammates with opportunity to run the code, I will use the following logic:\n",
    "\n",
    "- We work around the pathlib.Path(__file__) by using `os.getcwd` instead\n",
    "- We append to the path \n",
    "- Usually, we can already import, but in our case: the file does not exist, as we do not leave junk files\n",
    "- Therefore, we use `with open()` to create a file and write to this (using the found path)\n",
    "- After, we know that the file is guaranteed to exist as long as we specify the correct path, so we import\n",
    "- Next up, we print the variable to the console\n",
    "- Finally, we clean up resoucres by removing the path from sys and deleting the file.\n",
    "\n",
    "You can comment out the deletion if you want to see what happens and check the file."
   ]
  },
  {
   "cell_type": "code",
   "execution_count": 5,
   "id": "60c1be8f",
   "metadata": {},
   "outputs": [
    {
     "name": "stdout",
     "output_type": "stream",
     "text": [
      "'Hello, World!'\n"
     ]
    }
   ],
   "source": [
    "# Try approach 1 solution\n",
    "import pathlib\n",
    "\n",
    "# get the path to the root directory\n",
    "get_current_dir = os.getcwd()\n",
    "root_dir = pathlib.Path(get_current_dir).parents[1].resolve()\n",
    "\n",
    "# but you can fix it by adding it to sys.path\n",
    "sys.path.append(str(root_dir))\n",
    "\n",
    "# we know that our file is located in the root directory\n",
    "# so we can use the path to the file to get the path to the root directory\n",
    "# if the file does not exist, create it and add the following to this file:\n",
    "# greetings: str = \"Hello, World!\"\n",
    "\n",
    "# create the file if it does not exist\n",
    "file_path = root_dir / \"test_file.py\"\n",
    "\n",
    "# write the content to this file\n",
    "if not file_path.exists():\n",
    "    with open(file_path, \"w\") as f:\n",
    "        f.write('greetings: str = \"Hello, World!\"\\n')\n",
    "\n",
    "# try to import the file again\n",
    "from test_file import greetings # Py-lint: shows that file does not exist, as clean-up removes it\n",
    "pprint(greetings)\n",
    "\n",
    "# clean up\n",
    "# remove the path from sys.path\n",
    "sys.path.remove(str(root_dir))\n",
    "\n",
    "# remove the file\n",
    "if file_path.exists():\n",
    "    os.remove(file_path)\n"
   ]
  },
  {
   "cell_type": "markdown",
   "id": "47f3001e",
   "metadata": {},
   "source": [
    "The second approach would be using `importlib.util`, as shown in the `common/load_python_module.py`. You can run the code and see what happens there.\n",
    "\n",
    "Basically, we again use the `pathlib` to get the path to root and then we go from path to the module path. After,\n",
    "we can use this knowledge to import the module.\n",
    "\n",
    "- We have to know: a) root path; b) path to the file\n",
    "- We check if it exists (or we are certain it exists, we simply continue)\n",
    "- We load the module \n",
    "- We use the module."
   ]
  },
  {
   "cell_type": "code",
   "execution_count": null,
   "id": "9296163d",
   "metadata": {},
   "outputs": [
    {
     "name": "stdout",
     "output_type": "stream",
     "text": [
      "Path C:\\Users\\Lenovo\\Desktop\\python_app\\tuuleenergia_tomodachi exists.\n",
      "./shared/data/raw/Synthetic_Wind_Power.csv\n",
      "1 + 2 = 3\n"
     ]
    }
   ],
   "source": [
    "import importlib.util\n",
    "\n",
    "# we already know the current and root directories \n",
    "# from the previous example\n",
    "# get the path to the file\n",
    "\n",
    "file_path = root_dir / \"tomodachi_core\" / \"config_development\" / \"config.py\"\n",
    "\n",
    "# check if the file exists\n",
    "if file_path.exists():\n",
    "    # load the module\n",
    "    spec = importlib.util.spec_from_file_location(\"config\", str(file_path))\n",
    "    config = importlib.util.module_from_spec(spec)\n",
    "    spec.loader.exec_module(config)\n",
    "\n",
    "    # use the module\n",
    "    print(config.CSV_PATH) # it should print the path to the CSV file\n",
    "else:\n",
    "    print(f\"File {file_path} does not exist\")"
   ]
  },
  {
   "cell_type": "markdown",
   "id": "a5fe3249",
   "metadata": {},
   "source": [
    "### Re-reading .env or creating new config\n",
    "\n",
    "I won't do this here. I do not wanna do so here. I cannot as .env is the secret. However, I can and will explain.\n",
    "\n",
    "First, you have to take a look at './common/shared_env_setup.py'. You can imagine that in addition to one .env, we \n",
    "can have another one - dedicated to the specific part of the codebase. In that case, that part of the codebase can\n",
    "have its own config and load environmental variables from that file. "
   ]
  },
  {
   "cell_type": "code",
   "execution_count": null,
   "id": "67d6af9a",
   "metadata": {},
   "outputs": [
    {
     "ename": "ModuleNotFoundError",
     "evalue": "No module named 'playground'",
     "output_type": "error",
     "traceback": [
      "\u001b[31m---------------------------------------------------------------------------\u001b[39m",
      "\u001b[31mModuleNotFoundError\u001b[39m                       Traceback (most recent call last)",
      "\u001b[36mCell\u001b[39m\u001b[36m \u001b[39m\u001b[32mIn[8]\u001b[39m\u001b[32m, line 2\u001b[39m\n\u001b[32m      1\u001b[39m \u001b[38;5;66;03m# get the path from the example\u001b[39;00m\n\u001b[32m----> \u001b[39m\u001b[32m2\u001b[39m \u001b[38;5;28;01mfrom\u001b[39;00m\u001b[38;5;250m \u001b[39m\u001b[34;01mplayground\u001b[39;00m\u001b[34;01m.\u001b[39;00m\u001b[34;01mcommon\u001b[39;00m\u001b[34;01m.\u001b[39;00m\u001b[34;01mshared_env_setup\u001b[39;00m\u001b[38;5;250m \u001b[39m\u001b[38;5;28;01mimport\u001b[39;00m CSV_PATH\n\u001b[32m      4\u001b[39m \u001b[38;5;66;03m# print the path\u001b[39;00m\n\u001b[32m      5\u001b[39m pprint(CSV_PATH) \u001b[38;5;66;03m# it should print the path to the CSV file\u001b[39;00m\n",
      "\u001b[31mModuleNotFoundError\u001b[39m: No module named 'playground'"
     ]
    }
   ],
   "source": [
    "# NB! It will work if you add current directory to sys.path\n",
    "# but it is not a good practice to do so\n",
    "# so use vim to run the code below:\n",
    "# python ./common/shared_env_setup.py\n",
    "# Make sure that you are in \"playground directory\": cd ~/playground\n",
    "\n",
    "# Or run:\n",
    "# python ./common/manual_config_import.py\n",
    "\n",
    "# get the path from the example\n",
    "from common.shared_env_setup import CSV_PATH\n",
    "\n",
    "# print the path\n",
    "pprint(CSV_PATH) # it should print the path to the CSV file"
   ]
  },
  {
   "cell_type": "markdown",
   "id": "ec2d93ca",
   "metadata": {},
   "source": [
    "### Deployed package usage\n",
    "\n",
    "This is final way of using imports. In other words, we tell python that our package is installed, you gotta find it and import it for me.\n",
    "\n",
    "How it works: \n",
    "\n",
    "- You create `pyproject.toml`\n",
    "- You define your project: name, author, version, what to include, what to exlude, dependencies (in our case, we use requirements.txt)\n",
    "- You build the project and if there are no errors, you call `python -m twince upload --repository testpypi dist/*`.\n",
    "- Then you use your API_TOKEN to authorize and push to your cloud storate (TestPyPi)\n",
    "- Once done, you can reuse your package within your application and add it to the depedency. "
   ]
  },
  {
   "cell_type": "code",
   "execution_count": null,
   "id": "cc149ff7",
   "metadata": {},
   "outputs": [],
   "source": [
    "from tomodachi_core.tomodachi.utils.tools import check_timestamp\n",
    "\n",
    "# check the timestamp\n",
    "try:\n",
    "    # mock data\n",
    "    import pandas as pd\n",
    "    data = {\n",
    "        \"Timestamp\": [\"2023-01-01 00:00:00\", \"2023-01-02 00:00:00\", \"2023-01-03 00:00:00\", \"2023-01-04 00:00:00\", \"2023-01-05 00:00:00\"],\n",
    "        \"value\": [10, 20, 30, 40, 50]\n",
    "    }\n",
    "\n",
    "    df = pd.DataFrame(data)\n",
    "    \n",
    "    # call the function \n",
    "    is_valid, _ = check_timestamp(df) # we do not specify column as long as it macthes the default one\n",
    "\n",
    "    # print the result\n",
    "    print(f\"Is the timestamp valid? {is_valid}\")\n",
    "except Exception as e:\n",
    "    print(f\"Invalid timestamp: {e}\")\n",
    "finally:\n",
    "    print(\"Done checking timestamp\")\n"
   ]
  }
 ],
 "metadata": {
  "kernelspec": {
   "display_name": "Python 3",
   "language": "python",
   "name": "python3"
  },
  "language_info": {
   "codemirror_mode": {
    "name": "ipython",
    "version": 3
   },
   "file_extension": ".py",
   "mimetype": "text/x-python",
   "name": "python",
   "nbconvert_exporter": "python",
   "pygments_lexer": "ipython3",
   "version": "3.13.2"
  }
 },
 "nbformat": 4,
 "nbformat_minor": 5
}

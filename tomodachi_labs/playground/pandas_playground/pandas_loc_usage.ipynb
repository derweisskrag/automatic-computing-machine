{
 "cells": [
  {
   "cell_type": "markdown",
   "id": "95a30dd5",
   "metadata": {},
   "source": [
    "# How to use Loc? "
   ]
  },
  {
   "cell_type": "code",
   "execution_count": 2,
   "id": "d04bd4a4",
   "metadata": {},
   "outputs": [
    {
     "name": "stdout",
     "output_type": "stream",
     "text": [
      "      name  age         city\n",
      "0    Alice   30     New York\n",
      "1      Bob   25  Los Angeles\n",
      "2  Charlie   35      Chicago\n",
      "3    David   28      Houston\n",
      "4      Eve   22      Phoenix\n"
     ]
    }
   ],
   "source": [
    "import pandas as pd\n",
    "import numpy as np\n",
    "\n",
    "data = [\n",
    "    {\"name\": \"Alice\", \"age\": 30, \"city\": \"New York\"},\n",
    "    {\"name\": \"Bob\", \"age\": 25, \"city\": \"Los Angeles\"},\n",
    "    {\"name\": \"Charlie\", \"age\": 35, \"city\": \"Chicago\"},\n",
    "    {\"name\": \"David\", \"age\": 28, \"city\": \"Houston\"},\n",
    "    {\"name\": \"Eve\", \"age\": 22, \"city\": \"Phoenix\"},\n",
    "]\n",
    "\n",
    "df = pd.DataFrame(data)\n",
    "print(df.head())"
   ]
  },
  {
   "cell_type": "code",
   "execution_count": null,
   "id": "2f763e6f",
   "metadata": {},
   "outputs": [
    {
     "data": {
      "image/png": "[encoded data removed]",
      "text/plain": [
       "<Figure size 640x480 with 1 Axes>"
      ]
     },
     "metadata": {},
     "output_type": "display_data"
    }
   ],
   "source": [
    "\"\"\"\n",
    "In pandas, you can use the `plot` method to create various types of plots.\n",
    "For example, to create a simple line plot of the 'age' column against the 'name' column, you can do the following:\n",
    "\"\"\"\n",
    "\n",
    "import matplotlib.pyplot as plt\n",
    "\n",
    "df.plot(x=\"name\", y=\"age\")\n",
    "plt.xlabel(\"Name\")\n",
    "plt.ylabel(\"Age\")\n",
    "plt.title(\"Age vs Name\")\n",
    "plt.show()"
   ]
  },
  {
   "cell_type": "code",
   "execution_count": 2,
   "id": "230b8049",
   "metadata": {},
   "outputs": [
    {
     "name": "stdout",
     "output_type": "stream",
     "text": [
      "    name  age      city\n",
      "0  Alice   30  New York\n"
     ]
    }
   ],
   "source": [
    "# Select the row where the name is 'Alice'\n",
    "alice_row = df.loc[df['name'] == 'Alice']\n",
    "print(alice_row)"
   ]
  },
  {
   "cell_type": "code",
   "execution_count": 3,
   "id": "45f72ac1",
   "metadata": {},
   "outputs": [
    {
     "name": "stdout",
     "output_type": "stream",
     "text": [
      "      name  age      city\n",
      "0    Alice   30  New York\n",
      "2  Charlie   35   Chicago\n",
      "3    David   28   Houston\n"
     ]
    }
   ],
   "source": [
    "age_more_than_25_loc = df.loc[df['age'] > 25]\n",
    "print(age_more_than_25_loc)"
   ]
  },
  {
   "cell_type": "code",
   "execution_count": 4,
   "id": "07080e15",
   "metadata": {},
   "outputs": [
    {
     "name": "stdout",
     "output_type": "stream",
     "text": [
      "Using iloc:\n",
      " name       Alice\n",
      "age           30\n",
      "city    New York\n",
      "Name: 0, dtype: object\n",
      "\n",
      "Using xs:\n",
      " name    Charlie\n",
      "age          35\n",
      "city    Chicago\n",
      "Name: 2, dtype: object\n",
      "\n",
      "Using at:\n",
      " New York\n"
     ]
    }
   ],
   "source": [
    "# Example of iloc: Select the first row\n",
    "first_row_iloc = df.iloc[0]\n",
    "print(\"Using iloc:\\n\", first_row_iloc)\n",
    "\n",
    "# Example of xs: Select the row with index 2\n",
    "row_xs = df.xs(2)\n",
    "print(\"\\nUsing xs:\\n\", row_xs)\n",
    "\n",
    "# Example of at: Access the value in the first row and 'city' column\n",
    "city_at = df.at[0, 'city']\n",
    "print(\"\\nUsing at:\\n\", city_at)"
   ]
  },
  {
   "cell_type": "code",
   "execution_count": 6,
   "id": "d4204d59",
   "metadata": {},
   "outputs": [
    {
     "name": "stdout",
     "output_type": "stream",
     "text": [
      "    name  age      city\n",
      "0  Alice   30  New York\n",
      "3  David   28   Houston\n",
      "4    Eve   22   Phoenix\n"
     ]
    }
   ],
   "source": [
    "# Example: Select rows where the age is an even number\n",
    "even_age_condition = np.mod(df['age'], 2) == 0\n",
    "even_age_rows = df.loc[even_age_condition]\n",
    "print(even_age_rows)"
   ]
  },
  {
   "cell_type": "code",
   "execution_count": 7,
   "id": "31849f33",
   "metadata": {},
   "outputs": [
    {
     "name": "stdout",
     "output_type": "stream",
     "text": [
      "      name  age         city age_group\n",
      "0    Alice   30     New York    Senior\n",
      "1      Bob   25  Los Angeles   Mid-age\n",
      "2  Charlie   35      Chicago    Senior\n",
      "3    David   28      Houston   Mid-age\n",
      "4      Eve   22      Phoenix     Young\n"
     ]
    }
   ],
   "source": [
    "# Define conditions and corresponding choices\n",
    "conditions = [\n",
    "    df['age'] < 25,\n",
    "    (df['age'] >= 25) & (df['age'] < 30),\n",
    "    df['age'] >= 30\n",
    "]\n",
    "choices = ['Young', 'Mid-age', 'Senior']\n",
    "\n",
    "# Use numpy.select to create a new column 'age_group'\n",
    "df['age_group'] = np.select(conditions, choices, default='Unknown')\n",
    "print(df)"
   ]
  },
  {
   "cell_type": "code",
   "execution_count": 8,
   "id": "ba904c32",
   "metadata": {},
   "outputs": [
    {
     "name": "stdout",
     "output_type": "stream",
     "text": [
      "      name  age  age_in_5_years_iterrows  age_in_5_years_vectorized\n",
      "0    Alice   30                       35                         35\n",
      "1      Bob   25                       30                         30\n",
      "2  Charlie   35                       40                         40\n",
      "3    David   28                       33                         33\n",
      "4      Eve   22                       27                         27\n"
     ]
    }
   ],
   "source": [
    "# Using df.iterrows (slow)\n",
    "df['age_in_5_years_iterrows'] = [row['age'] + 5 for _, row in df.iterrows()]\n",
    "\n",
    "# Using vectorized operation (fast)\n",
    "df['age_in_5_years_vectorized'] = df['age'] + 5\n",
    "\n",
    "print(df[['name', 'age', 'age_in_5_years_iterrows', 'age_in_5_years_vectorized']])"
   ]
  },
  {
   "cell_type": "markdown",
   "id": "cdae4dad",
   "metadata": {},
   "source": [
    "# Iterating Over DataFrames in Pandas\n",
    "\n",
    "There are several ways to iterate over a DataFrame in Pandas. Below are some common methods:\n",
    "\n",
    "## 1. Using `iterrows()`\n",
    "This method iterates over rows as (index, Series) pairs. It is slow for large DataFrames but useful for row-wise operations.\n",
    "\n",
    "```python\n",
    "for index, row in df.iterrows():\n",
    "    print(f\"Index: {index}, Name: {row['name']}, Age: {row['age']}\")\n",
    "```\n",
    "\n",
    "## 2. Using `itertuples()`\n",
    "This method iterates over rows as namedtuples. It is faster than `iterrows()`.\n",
    "\n",
    "```python\n",
    "for row in df.itertuples():\n",
    "    print(f\"Index: {row.Index}, Name: {row.name}, Age: {row.age}\")\n",
    "```\n",
    "\n",
    "## 3. Using `apply()`\n",
    "For element-wise operations, `apply()` is a vectorized and efficient approach.\n",
    "\n",
    "```python\n",
    "df['age_squared'] = df['age'].apply(lambda x: x ** 2)\n",
    "```\n",
    "\n",
    "## 4. Using `zip()`\n",
    "You can use Python's built-in `zip()` function to iterate over multiple columns simultaneously.\n",
    "\n",
    "```python\n",
    "for name, age in zip(df['name'], df['age']):\n",
    "    print(f\"Name: {name}, Age: {age}\")\n",
    "```\n",
    "\n",
    "## 5. Using `itertools`\n",
    "The `itertools` module can be used for advanced iteration patterns. For example, you can use `itertools.product` to iterate over combinations of rows.\n",
    "\n",
    "```python\n",
    "import itertools\n",
    "\n",
    "for row1, row2 in itertools.combinations(df.iterrows(), 2):\n",
    "    print(f\"Row 1: {row1[1]['name']}, Row 2: {row2[1]['name']}\")\n",
    "```\n",
    "\n",
    "## 6. Using Vectorized Operations (Preferred)\n",
    "Whenever possible, avoid explicit iteration and use vectorized operations for better performance.\n",
    "\n",
    "```python\n",
    "df['age_plus_10'] = df['age'] + 10\n",
    "```\n",
    "\n",
    "## Summary\n",
    "While `iterrows()` and `itertuples()` are useful for small DataFrames or specific use cases, vectorized operations are always preferred for performance. The `itertools` module can be helpful for advanced iteration patterns, but it should be used sparingly to avoid performance bottlenecks.\n"
   ]
  },
  {
   "cell_type": "code",
   "execution_count": null,
   "id": "6443e9e5",
   "metadata": {},
   "outputs": [
    {
     "name": "stdout",
     "output_type": "stream",
     "text": [
      "      name  age  age_plus_10  age_plus_10_eval\n",
      "0    Alice   30           40                40\n",
      "1      Bob   25           35                35\n",
      "2  Charlie   35           45                45\n",
      "3    David   28           38                38\n",
      "4      Eve   22           32                32\n",
      "382 μs ± 23.4 μs per loop (mean ± std. dev. of 7 runs, 1,000 loops each)\n"
     ]
    }
   ],
   "source": [
    "import time\n",
    "\n",
    "# Use pandas.eval to calculate a new column 'age_plus_10' efficiently\n",
    "df['age_plus_10'] = pd.eval('df.age + 10')\n",
    "\n",
    "# Measure the performance of using pandas.eval for the calculation\n",
    "start_time = time.time()\n",
    "df['age_plus_10_eval'] = pd.eval('df.age + 10')\n",
    "end_time = time.time()\n",
    "\n",
    "print(df[['name', 'age', 'age_plus_10', 'age_plus_10_eval']])\n",
    "\n",
    "# Using %timeit for performance measurement\n",
    "%timeit pd.eval('df.age + 10')\n",
    "\n"
   ]
  }
 ],
 "metadata": {
  "kernelspec": {
   "display_name": "Python 3",
   "language": "python",
   "name": "python3"
  },
  "language_info": {
   "codemirror_mode": {
    "name": "ipython",
    "version": 3
   },
   "file_extension": ".py",
   "mimetype": "text/x-python",
   "name": "python",
   "nbconvert_exporter": "python",
   "pygments_lexer": "ipython3",
   "version": "3.13.2"
  }
 },
 "nbformat": 4,
 "nbformat_minor": 5
}

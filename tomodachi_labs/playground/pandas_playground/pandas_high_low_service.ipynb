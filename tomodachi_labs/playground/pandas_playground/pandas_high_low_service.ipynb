{
 "cells": [
  {
   "cell_type": "markdown",
   "id": "3abb6c83",
   "metadata": {},
   "source": [
    "# High low service testing\n",
    "\n",
    "Do not forget to `python -m pip install -e .`"
   ]
  },
  {
   "cell_type": "code",
   "execution_count": 1,
   "id": "778f9818",
   "metadata": {},
   "outputs": [
    {
     "name": "stdout",
     "output_type": "stream",
     "text": [
      "  symbol  price  high   low  profit            datetime\n",
      "0   AAPL    150   155   145       5 2023-10-01 10:00:00\n",
      "1  GOOGL   2800  2900  2700     100 2023-06-01 10:00:00\n",
      "2   AMZN   3400  3500  3300     100 2023-07-01 10:00:00\n",
      "3   MSFT    300   310   290      10 2023-08-01 10:00:00\n",
      "4   TSLA    700   750   650      50 2023-09-01 10:00:00\n",
      "\n",
      "{   'High Threshold': np.float64(66.95485678572079),\n",
      "    'Low Threshold': np.float64(-6.045765876629886),\n",
      "    'Mean Output': np.float64(30.454545454545453),\n",
      "    'Standard Deviation Output': np.float64(36.50031133117534)}\n"
     ]
    }
   ],
   "source": [
    "import pandas as pd\n",
    "from tomodachi_core.tomodachi.services.high_low_profit_service import HighLowProfit\n",
    "from pprint import pprint\n",
    "\n",
    "# I have to create mock df for testing\n",
    "data = [\n",
    "    {'symbol': 'AAPL', 'price': 150, 'high': 155, 'low': 145, 'profit': 5, \"datetime\": '2023-10-01 10:00:00'},\n",
    "    {'symbol': 'GOOGL', 'price': 2800, 'high': 2900, 'low': 2700, 'profit': 100, \"datetime\": '2023-06-01 10:00:00'},\n",
    "    {'symbol': 'AMZN', 'price': 3400, 'high': 3500, 'low': 3300, 'profit': 100, \"datetime\": '2023-07-01 10:00:00'},\n",
    "    {'symbol': 'MSFT', 'price': 300, 'high': 310, 'low': 290, 'profit': 10, \"datetime\": '2023-08-01 10:00:00'},\n",
    "    {'symbol': 'TSLA', 'price': 700, 'high': 750, 'low': 650, 'profit': 50, \"datetime\": '2023-09-01 10:00:00'},\n",
    "    {'symbol': 'NFLX', 'price': 600, 'high': 620, 'low': 580, 'profit': 20, \"datetime\": '2023-10-01 10:00:00'},\n",
    "    {'symbol': 'FB', 'price': 350, 'high': 360, 'low': 340, 'profit': 10, \"datetime\": '2023-2-27 10:00:00'},\n",
    "    {'symbol': 'NVDA', 'price': 200, 'high': 210, 'low': 190, 'profit': 10, \"datetime\": '2023-1-31 10:00:00'},\n",
    "    {'symbol': 'DIS', 'price': 180, 'high': 190, 'low': 170, 'profit': 10, \"datetime\": '2023-10-01 10:00:00'},\n",
    "    {'symbol': 'V', 'price': 220, 'high': 230, 'low': 210, 'profit': 10, \"datetime\": '2023-08-03 10:00:00'},\n",
    "    {'symbol': 'PYPL', 'price': 250, 'high': 260, 'low': 240, 'profit': 10, \"datetime\": '2023-05-24 10:00:00'},\n",
    "]\n",
    "\n",
    "# create the dataframe\n",
    "df = pd.DataFrame(data)\n",
    "\n",
    "# convert the datetime column to datetime format\n",
    "df['datetime'] = pd.to_datetime(df['datetime'], format=\"%Y-%m-%d %H:%M:%S\", errors='coerce')\n",
    "\n",
    "# instantiate the service\n",
    "high_low_profit = HighLowProfit(df)\n",
    "\n",
    "# get the high low profit\n",
    "high_low_profit.calculate_statistics(columns='profit')\n",
    "\n",
    "# print the results\n",
    "print(high_low_profit._df.head(), end=\"\\n\\n\")\n",
    "\n",
    "# print the computed statistics in a more organized way\n",
    "output = {\n",
    "    \"Mean Output\": high_low_profit.mean_output,\n",
    "    \"Standard Deviation Output\": high_low_profit.std_output,\n",
    "    \"Low Threshold\": high_low_profit.low_threshold,\n",
    "    \"High Threshold\": high_low_profit.high_threshold\n",
    "}\n",
    "\n",
    "pprint(output, indent=4)"
   ]
  },
  {
   "cell_type": "markdown",
   "id": "0081f6e8",
   "metadata": {},
   "source": [
    "### Print the information (new method! )"
   ]
  },
  {
   "cell_type": "code",
   "execution_count": 2,
   "id": "2278b4f7",
   "metadata": {},
   "outputs": [
    {
     "name": "stdout",
     "output_type": "stream",
     "text": [
      "\n",
      "        Mean Output: 30.454545454545453\n",
      "\n",
      "        Std Output: 36.50031133117534\n",
      "\n",
      "        High Threshold: 66.95485678572079\n",
      "\n",
      "        Low Threshold: -6.045765876629886\n",
      "\n"
     ]
    }
   ],
   "source": [
    "high_low_profit.print_info()"
   ]
  },
  {
   "cell_type": "markdown",
   "id": "f36725eb",
   "metadata": {},
   "source": [
    "Let us now check what the `classify_data` method does:"
   ]
  },
  {
   "cell_type": "code",
   "execution_count": 3,
   "id": "b7ce7dbf",
   "metadata": {},
   "outputs": [
    {
     "name": "stdout",
     "output_type": "stream",
     "text": [
      "  symbol  price  high   low  profit            datetime  Status\n",
      "0   AAPL    150   155   145       5 2023-10-01 10:00:00  Normal\n",
      "1  GOOGL   2800  2900  2700     100 2023-06-01 10:00:00    High\n",
      "2   AMZN   3400  3500  3300     100 2023-07-01 10:00:00    High\n",
      "3   MSFT    300   310   290      10 2023-08-01 10:00:00  Normal\n",
      "4   TSLA    700   750   650      50 2023-09-01 10:00:00  Normal\n",
      "\n"
     ]
    }
   ],
   "source": [
    "high_low_profit.classify_data(columns='profit')\n",
    "print(high_low_profit._df.head(), end=\"\\n\\n\")"
   ]
  },
  {
   "cell_type": "markdown",
   "id": "f73ec47a",
   "metadata": {},
   "source": [
    "### Finding the periods?\n",
    "\n",
    "The suggested code (vectorized) is much better than the original (Alex) version using `for row in df.iterrows()` for the following reasons:\n",
    "\n",
    "1. **Performance**: Iterating over rows with `iterrows()` is significantly slower, especially for large DataFrames, as it processes rows one by one in Python. The suggested approach leverages vectorized operations in pandas, which are implemented in C and optimized for performance.\n",
    "\n",
    "2. **Readability**: The suggested code is more concise and easier to read. It avoids the boilerplate of manually iterating through rows and maintaining state, making the logic clearer and more maintainable.\n",
    "\n",
    "3. **Scalability**: The vectorized approach scales better with larger datasets. As the size of the DataFrame grows, the performance difference between `iterrows()` and vectorized operations becomes more pronounced.\n",
    "\n",
    "4. **Avoiding Common Pitfalls**: Using `iterrows()` can lead to subtle bugs, as it returns a copy of the row rather than a reference to the original data. This can cause unexpected behavior when modifying data. The suggested approach avoids this issue entirely.\n",
    "\n",
    "5. **Pandas Best Practices**: The pandas library is designed to work efficiently with vectorized operations. Using `iterrows()` is generally discouraged unless absolutely necessary, as it goes against the design philosophy of pandas.\n",
    "\n",
    "#### Sum-up \n",
    "\n",
    "the suggested code is faster, cleaner, and more in line with pandas best practices, making it a superior choice for this task."
   ]
  },
  {
   "cell_type": "code",
   "execution_count": 4,
   "id": "7e7deb10",
   "metadata": {},
   "outputs": [
    {
     "name": "stdout",
     "output_type": "stream",
     "text": [
      "  symbol  price  high   low  profit            datetime  Status\n",
      "0   AAPL    150   155   145       5 2023-10-01 10:00:00  Normal\n",
      "1  GOOGL   2800  2900  2700     100 2023-06-01 10:00:00    High\n",
      "2   AMZN   3400  3500  3300     100 2023-07-01 10:00:00    High\n",
      "3   MSFT    300   310   290      10 2023-08-01 10:00:00  Normal\n",
      "4   TSLA    700   750   650      50 2023-09-01 10:00:00  Normal\n",
      "\n",
      "High Periods:  [(np.int64(1), np.int64(3))]\n",
      "\n",
      "Low Periods:  []\n",
      "\n"
     ]
    }
   ],
   "source": [
    "# Let us run the original version\n",
    "high_low_profit.find_periods() # does not require column (but in future? Maybe)\n",
    "print(high_low_profit._df.head(), end=\"\\n\\n\")\n",
    "\n",
    "# Notice: we save periods to the class, so we can access them later\n",
    "# We have to create a method for that\n",
    "# For now, let us manually access the periods\n",
    "print(\"High Periods: \", high_low_profit.high_periods, end=\"\\n\\n\")\n",
    "print(\"Low Periods: \", high_low_profit.low_periods, end=\"\\n\\n\")"
   ]
  },
  {
   "cell_type": "code",
   "execution_count": 5,
   "id": "1dc4376f",
   "metadata": {},
   "outputs": [
    {
     "name": "stdout",
     "output_type": "stream",
     "text": [
      "  symbol  price  high   low  profit            datetime  Status\n",
      "0   AAPL    150   155   145       5 2023-10-01 10:00:00  Normal\n",
      "1  GOOGL   2800  2900  2700     100 2023-06-01 10:00:00    High\n",
      "2   AMZN   3400  3500  3300     100 2023-07-01 10:00:00    High\n",
      "3   MSFT    300   310   290      10 2023-08-01 10:00:00  Normal\n",
      "4   TSLA    700   750   650      50 2023-09-01 10:00:00  Normal\n",
      "\n",
      "\n",
      "        High Periods: [(np.int64(1), np.int64(3))]\n",
      "\n",
      "        Low Periods: []\n",
      "\n"
     ]
    }
   ],
   "source": [
    "# Find periods\n",
    "high_low_profit.find_periods()\n",
    "print(high_low_profit._df.head(), end=\"\\n\\n\")\n",
    "\n",
    "# Display the periods\n",
    "high_low_profit.print_periods()"
   ]
  },
  {
   "cell_type": "code",
   "execution_count": 6,
   "id": "d01eb98e",
   "metadata": {},
   "outputs": [
    {
     "name": "stdout",
     "output_type": "stream",
     "text": [
      "  Period Type  Start Time  End Time  Duration Hours  Avg_profit  Max_profit  \\\n",
      "0        High           1         3               3        70.0         100   \n",
      "\n",
      "   Min_profit    Avg_price  Max_price  Min_price  \n",
      "0          10  2166.666667       3400        300  \n",
      "\n"
     ]
    }
   ],
   "source": [
    "periods_df = high_low_profit.create_periods_dataframe(['profit', 'price'])\n",
    "print(periods_df.head(), end=\"\\n\\n\")"
   ]
  },
  {
   "cell_type": "code",
   "execution_count": 7,
   "id": "4d518695",
   "metadata": {},
   "outputs": [
    {
     "name": "stdout",
     "output_type": "stream",
     "text": [
      "  symbol  price  high   low  profit            datetime  Status\n",
      "0   AAPL    150   155   145       5 2023-10-01 10:00:00  Normal\n",
      "1  GOOGL   2800  2900  2700     100 2023-06-01 10:00:00    High\n",
      "2   AMZN   3400  3500  3300     100 2023-07-01 10:00:00    High\n",
      "3   MSFT    300   310   290      10 2023-08-01 10:00:00  Normal\n",
      "4   TSLA    700   750   650      50 2023-09-01 10:00:00  Normal\n",
      "\n"
     ]
    }
   ],
   "source": [
    "# try entry point\n",
    "data_with_results = high_low_profit.run_analysis('profit')\n",
    "\n",
    "# print the data \n",
    "print(data_with_results['periods_df'].head(), end=\"\\n\\n\")"
   ]
  },
  {
   "cell_type": "code",
   "execution_count": 8,
   "id": "f0eddbd1",
   "metadata": {},
   "outputs": [
    {
     "name": "stdout",
     "output_type": "stream",
     "text": [
      "{'high_periods': [(np.int64(1), np.int64(3))],\n",
      " 'high_threshold': np.float64(66.95485678572079),\n",
      " 'low_periods': [],\n",
      " 'low_threshold': np.float64(-6.045765876629886),\n",
      " 'mean_output': np.float64(30.454545454545453),\n",
      " 'periods_df':    symbol  price  high   low  profit            datetime  Status\n",
      "0    AAPL    150   155   145       5 2023-10-01 10:00:00  Normal\n",
      "1   GOOGL   2800  2900  2700     100 2023-06-01 10:00:00    High\n",
      "2    AMZN   3400  3500  3300     100 2023-07-01 10:00:00    High\n",
      "3    MSFT    300   310   290      10 2023-08-01 10:00:00  Normal\n",
      "4    TSLA    700   750   650      50 2023-09-01 10:00:00  Normal\n",
      "5    NFLX    600   620   580      20 2023-10-01 10:00:00  Normal\n",
      "6      FB    350   360   340      10 2023-02-27 10:00:00  Normal\n",
      "7    NVDA    200   210   190      10 2023-01-31 10:00:00  Normal\n",
      "8     DIS    180   190   170      10 2023-10-01 10:00:00  Normal\n",
      "9       V    220   230   210      10 2023-08-03 10:00:00  Normal\n",
      "10   PYPL    250   260   240      10 2023-05-24 10:00:00  Normal,\n",
      " 'std_output': np.float64(36.50031133117534)}\n"
     ]
    }
   ],
   "source": [
    "pprint(data_with_results)"
   ]
  },
  {
   "cell_type": "code",
   "execution_count": 13,
   "id": "aff8c5f5",
   "metadata": {},
   "outputs": [
    {
     "data": {
      "text/plain": [
       "<Axes: xlabel='datetime', ylabel='profit'>"
      ]
     },
     "execution_count": 13,
     "metadata": {},
     "output_type": "execute_result"
    },
    {
     "data": {
      "image/png": "[encoded data removed]",
      "text/plain": [
       "<Figure size 640x480 with 1 Axes>"
      ]
     },
     "metadata": {},
     "output_type": "display_data"
    }
   ],
   "source": [
    "# visualize using seaborn\n",
    "import seaborn as sns\n",
    "import matplotlib.pyplot as plt\n",
    "\n",
    "sns.lineplot(data=data_with_results['periods_df'][['datetime', 'profit']], x=\"datetime\", y=\"profit\")"
   ]
  },
  {
   "cell_type": "code",
   "execution_count": 18,
   "id": "8782a107",
   "metadata": {},
   "outputs": [
    {
     "data": {
      "text/plain": [
       "<Axes: xlabel='datetime', ylabel='profit'>"
      ]
     },
     "execution_count": 18,
     "metadata": {},
     "output_type": "execute_result"
    },
    {
     "data": {
      "image/png": "[encoded data removed]",
      "text/plain": [
       "<Figure size 640x480 with 1 Axes>"
      ]
     },
     "metadata": {},
     "output_type": "display_data"
    }
   ],
   "source": [
    "sns.scatterplot(data=data_with_results['periods_df'][['datetime', 'profit']], x=\"datetime\", y=\"profit\", markers=[\"o\", \"X\"], s=100)"
   ]
  },
  {
   "cell_type": "code",
   "execution_count": 19,
   "id": "ede40c66",
   "metadata": {},
   "outputs": [
    {
     "data": {
      "text/plain": [
       "<Axes: xlabel='profit', ylabel='Count'>"
      ]
     },
     "execution_count": 19,
     "metadata": {},
     "output_type": "execute_result"
    },
    {
     "data": {
      "image/png": "[encoded data removed]",
      "text/plain": [
       "<Figure size 640x480 with 1 Axes>"
      ]
     },
     "metadata": {},
     "output_type": "display_data"
    }
   ],
   "source": [
    "sns.histplot(data_with_results['periods_df'][\"profit\"], bins=10, kde=True)"
   ]
  },
  {
   "cell_type": "code",
   "execution_count": 20,
   "id": "3f8fef5f",
   "metadata": {},
   "outputs": [
    {
     "data": {
      "text/plain": [
       "<Axes: xlabel='symbol', ylabel='profit'>"
      ]
     },
     "execution_count": 20,
     "metadata": {},
     "output_type": "execute_result"
    },
    {
     "data": {
      "image/png": "[encoded data removed]",
      "text/plain": [
       "<Figure size 640x480 with 1 Axes>"
      ]
     },
     "metadata": {},
     "output_type": "display_data"
    }
   ],
   "source": [
    "sns.boxplot(data_with_results['periods_df'], x=\"symbol\", y=\"profit\")\n"
   ]
  },
  {
   "cell_type": "code",
   "execution_count": 21,
   "id": "6331af14",
   "metadata": {},
   "outputs": [
    {
     "data": {
      "application/vnd.plotly.v1+json": {
       "config": {
        "plotlyServerURL": "https://plot.ly"
       },
       "data": [
        {
         "hovertemplate": "Status=Normal<br>datetime=%{x}<br>profit=%{y}<extra></extra>",
         "legendgroup": "Normal",
         "marker": {
          "color": "#636efa",
          "symbol": "circle"
         },
         "mode": "markers",
         "name": "Normal",
         "orientation": "v",
         "showlegend": true,
         "type": "scatter",
         "x": [
          "2023-10-01T10:00:00.000000000",
          "2023-08-01T10:00:00.000000000",
          "2023-09-01T10:00:00.000000000",
          "2023-10-01T10:00:00.000000000",
          "2023-02-27T10:00:00.000000000",
          "2023-01-31T10:00:00.000000000",
          "2023-10-01T10:00:00.000000000",
          "2023-08-03T10:00:00.000000000",
          "2023-05-24T10:00:00.000000000"
         ],
         "xaxis": "x",
         "y": {
          "bdata": "BQoyFAoKCgoK",
          "dtype": "i1"
         },
         "yaxis": "y"
        },
        {
         "hovertemplate": "Status=High<br>datetime=%{x}<br>profit=%{y}<extra></extra>",
         "legendgroup": "High",
         "marker": {
          "color": "#EF553B",
          "symbol": "diamond"
         },
         "mode": "markers",
         "name": "High",
         "orientation": "v",
         "showlegend": true,
         "type": "scatter",
         "x": [
          "2023-06-01T10:00:00.000000000",
          "2023-07-01T10:00:00.000000000"
         ],
         "xaxis": "x",
         "y": {
          "bdata": "ZGQ=",
          "dtype": "i1"
         },
         "yaxis": "y"
        }
       ],
       "layout": {
        "legend": {
         "title": {
          "text": "Status"
         },
         "tracegroupgap": 0
        },
        "margin": {
         "t": 60
        },
        "template": {
         "data": {
          "bar": [
           {
            "error_x": {
             "color": "#2a3f5f"
            },
            "error_y": {
             "color": "#2a3f5f"
            },
            "marker": {
             "line": {
              "color": "#E5ECF6",
              "width": 0.5
             },
             "pattern": {
              "fillmode": "overlay",
              "size": 10,
              "solidity": 0.2
             }
            },
            "type": "bar"
           }
          ],
          "barpolar": [
           {
            "marker": {
             "line": {
              "color": "#E5ECF6",
              "width": 0.5
             },
             "pattern": {
              "fillmode": "overlay",
              "size": 10,
              "solidity": 0.2
             }
            },
            "type": "barpolar"
           }
          ],
          "carpet": [
           {
            "aaxis": {
             "endlinecolor": "#2a3f5f",
             "gridcolor": "white",
             "linecolor": "white",
             "minorgridcolor": "white",
             "startlinecolor": "#2a3f5f"
            },
            "baxis": {
             "endlinecolor": "#2a3f5f",
             "gridcolor": "white",
             "linecolor": "white",
             "minorgridcolor": "white",
             "startlinecolor": "#2a3f5f"
            },
            "type": "carpet"
           }
          ],
          "choropleth": [
           {
            "colorbar": {
             "outlinewidth": 0,
             "ticks": ""
            },
            "type": "choropleth"
           }
          ],
          "contour": [
           {
            "colorbar": {
             "outlinewidth": 0,
             "ticks": ""
            },
            "colorscale": [
             [
              0,
              "#0d0887"
             ],
             [
              0.1111111111111111,
              "#46039f"
             ],
             [
              0.2222222222222222,
              "#7201a8"
             ],
             [
              0.3333333333333333,
              "#9c179e"
             ],
             [
              0.4444444444444444,
              "#bd3786"
             ],
             [
              0.5555555555555556,
              "#d8576b"
             ],
             [
              0.6666666666666666,
              "#ed7953"
             ],
             [
              0.7777777777777778,
              "#fb9f3a"
             ],
             [
              0.8888888888888888,
              "#fdca26"
             ],
             [
              1,
              "#f0f921"
             ]
            ],
            "type": "contour"
           }
          ],
          "contourcarpet": [
           {
            "colorbar": {
             "outlinewidth": 0,
             "ticks": ""
            },
            "type": "contourcarpet"
           }
          ],
          "heatmap": [
           {
            "colorbar": {
             "outlinewidth": 0,
             "ticks": ""
            },
            "colorscale": [
             [
              0,
              "#0d0887"
             ],
             [
              0.1111111111111111,
              "#46039f"
             ],
             [
              0.2222222222222222,
              "#7201a8"
             ],
             [
              0.3333333333333333,
              "#9c179e"
             ],
             [
              0.4444444444444444,
              "#bd3786"
             ],
             [
              0.5555555555555556,
              "#d8576b"
             ],
             [
              0.6666666666666666,
              "#ed7953"
             ],
             [
              0.7777777777777778,
              "#fb9f3a"
             ],
             [
              0.8888888888888888,
              "#fdca26"
             ],
             [
              1,
              "#f0f921"
             ]
            ],
            "type": "heatmap"
           }
          ],
          "histogram": [
           {
            "marker": {
             "pattern": {
              "fillmode": "overlay",
              "size": 10,
              "solidity": 0.2
             }
            },
            "type": "histogram"
           }
          ],
          "histogram2d": [
           {
            "colorbar": {
             "outlinewidth": 0,
             "ticks": ""
            },
            "colorscale": [
             [
              0,
              "#0d0887"
             ],
             [
              0.1111111111111111,
              "#46039f"
             ],
             [
              0.2222222222222222,
              "#7201a8"
             ],
             [
              0.3333333333333333,
              "#9c179e"
             ],
             [
              0.4444444444444444,
              "#bd3786"
             ],
             [
              0.5555555555555556,
              "#d8576b"
             ],
             [
              0.6666666666666666,
              "#ed7953"
             ],
             [
              0.7777777777777778,
              "#fb9f3a"
             ],
             [
              0.8888888888888888,
              "#fdca26"
             ],
             [
              1,
              "#f0f921"
             ]
            ],
            "type": "histogram2d"
           }
          ],
          "histogram2dcontour": [
           {
            "colorbar": {
             "outlinewidth": 0,
             "ticks": ""
            },
            "colorscale": [
             [
              0,
              "#0d0887"
             ],
             [
              0.1111111111111111,
              "#46039f"
             ],
             [
              0.2222222222222222,
              "#7201a8"
             ],
             [
              0.3333333333333333,
              "#9c179e"
             ],
             [
              0.4444444444444444,
              "#bd3786"
             ],
             [
              0.5555555555555556,
              "#d8576b"
             ],
             [
              0.6666666666666666,
              "#ed7953"
             ],
             [
              0.7777777777777778,
              "#fb9f3a"
             ],
             [
              0.8888888888888888,
              "#fdca26"
             ],
             [
              1,
              "#f0f921"
             ]
            ],
            "type": "histogram2dcontour"
           }
          ],
          "mesh3d": [
           {
            "colorbar": {
             "outlinewidth": 0,
             "ticks": ""
            },
            "type": "mesh3d"
           }
          ],
          "parcoords": [
           {
            "line": {
             "colorbar": {
              "outlinewidth": 0,
              "ticks": ""
             }
            },
            "type": "parcoords"
           }
          ],
          "pie": [
           {
            "automargin": true,
            "type": "pie"
           }
          ],
          "scatter": [
           {
            "fillpattern": {
             "fillmode": "overlay",
             "size": 10,
             "solidity": 0.2
            },
            "type": "scatter"
           }
          ],
          "scatter3d": [
           {
            "line": {
             "colorbar": {
              "outlinewidth": 0,
              "ticks": ""
             }
            },
            "marker": {
             "colorbar": {
              "outlinewidth": 0,
              "ticks": ""
             }
            },
            "type": "scatter3d"
           }
          ],
          "scattercarpet": [
           {
            "marker": {
             "colorbar": {
              "outlinewidth": 0,
              "ticks": ""
             }
            },
            "type": "scattercarpet"
           }
          ],
          "scattergeo": [
           {
            "marker": {
             "colorbar": {
              "outlinewidth": 0,
              "ticks": ""
             }
            },
            "type": "scattergeo"
           }
          ],
          "scattergl": [
           {
            "marker": {
             "colorbar": {
              "outlinewidth": 0,
              "ticks": ""
             }
            },
            "type": "scattergl"
           }
          ],
          "scattermap": [
           {
            "marker": {
             "colorbar": {
              "outlinewidth": 0,
              "ticks": ""
             }
            },
            "type": "scattermap"
           }
          ],
          "scattermapbox": [
           {
            "marker": {
             "colorbar": {
              "outlinewidth": 0,
              "ticks": ""
             }
            },
            "type": "scattermapbox"
           }
          ],
          "scatterpolar": [
           {
            "marker": {
             "colorbar": {
              "outlinewidth": 0,
              "ticks": ""
             }
            },
            "type": "scatterpolar"
           }
          ],
          "scatterpolargl": [
           {
            "marker": {
             "colorbar": {
              "outlinewidth": 0,
              "ticks": ""
             }
            },
            "type": "scatterpolargl"
           }
          ],
          "scatterternary": [
           {
            "marker": {
             "colorbar": {
              "outlinewidth": 0,
              "ticks": ""
             }
            },
            "type": "scatterternary"
           }
          ],
          "surface": [
           {
            "colorbar": {
             "outlinewidth": 0,
             "ticks": ""
            },
            "colorscale": [
             [
              0,
              "#0d0887"
             ],
             [
              0.1111111111111111,
              "#46039f"
             ],
             [
              0.2222222222222222,
              "#7201a8"
             ],
             [
              0.3333333333333333,
              "#9c179e"
             ],
             [
              0.4444444444444444,
              "#bd3786"
             ],
             [
              0.5555555555555556,
              "#d8576b"
             ],
             [
              0.6666666666666666,
              "#ed7953"
             ],
             [
              0.7777777777777778,
              "#fb9f3a"
             ],
             [
              0.8888888888888888,
              "#fdca26"
             ],
             [
              1,
              "#f0f921"
             ]
            ],
            "type": "surface"
           }
          ],
          "table": [
           {
            "cells": {
             "fill": {
              "color": "#EBF0F8"
             },
             "line": {
              "color": "white"
             }
            },
            "header": {
             "fill": {
              "color": "#C8D4E3"
             },
             "line": {
              "color": "white"
             }
            },
            "type": "table"
           }
          ]
         },
         "layout": {
          "annotationdefaults": {
           "arrowcolor": "#2a3f5f",
           "arrowhead": 0,
           "arrowwidth": 1
          },
          "autotypenumbers": "strict",
          "coloraxis": {
           "colorbar": {
            "outlinewidth": 0,
            "ticks": ""
           }
          },
          "colorscale": {
           "diverging": [
            [
             0,
             "#8e0152"
            ],
            [
             0.1,
             "#c51b7d"
            ],
            [
             0.2,
             "#de77ae"
            ],
            [
             0.3,
             "#f1b6da"
            ],
            [
             0.4,
             "#fde0ef"
            ],
            [
             0.5,
             "#f7f7f7"
            ],
            [
             0.6,
             "#e6f5d0"
            ],
            [
             0.7,
             "#b8e186"
            ],
            [
             0.8,
             "#7fbc41"
            ],
            [
             0.9,
             "#4d9221"
            ],
            [
             1,
             "#276419"
            ]
           ],
           "sequential": [
            [
             0,
             "#0d0887"
            ],
            [
             0.1111111111111111,
             "#46039f"
            ],
            [
             0.2222222222222222,
             "#7201a8"
            ],
            [
             0.3333333333333333,
             "#9c179e"
            ],
            [
             0.4444444444444444,
             "#bd3786"
            ],
            [
             0.5555555555555556,
             "#d8576b"
            ],
            [
             0.6666666666666666,
             "#ed7953"
            ],
            [
             0.7777777777777778,
             "#fb9f3a"
            ],
            [
             0.8888888888888888,
             "#fdca26"
            ],
            [
             1,
             "#f0f921"
            ]
           ],
           "sequentialminus": [
            [
             0,
             "#0d0887"
            ],
            [
             0.1111111111111111,
             "#46039f"
            ],
            [
             0.2222222222222222,
             "#7201a8"
            ],
            [
             0.3333333333333333,
             "#9c179e"
            ],
            [
             0.4444444444444444,
             "#bd3786"
            ],
            [
             0.5555555555555556,
             "#d8576b"
            ],
            [
             0.6666666666666666,
             "#ed7953"
            ],
            [
             0.7777777777777778,
             "#fb9f3a"
            ],
            [
             0.8888888888888888,
             "#fdca26"
            ],
            [
             1,
             "#f0f921"
            ]
           ]
          },
          "colorway": [
           "#636efa",
           "#EF553B",
           "#00cc96",
           "#ab63fa",
           "#FFA15A",
           "#19d3f3",
           "#FF6692",
           "#B6E880",
           "#FF97FF",
           "#FECB52"
          ],
          "font": {
           "color": "#2a3f5f"
          },
          "geo": {
           "bgcolor": "white",
           "lakecolor": "white",
           "landcolor": "#E5ECF6",
           "showlakes": true,
           "showland": true,
           "subunitcolor": "white"
          },
          "hoverlabel": {
           "align": "left"
          },
          "hovermode": "closest",
          "mapbox": {
           "style": "light"
          },
          "paper_bgcolor": "white",
          "plot_bgcolor": "#E5ECF6",
          "polar": {
           "angularaxis": {
            "gridcolor": "white",
            "linecolor": "white",
            "ticks": ""
           },
           "bgcolor": "#E5ECF6",
           "radialaxis": {
            "gridcolor": "white",
            "linecolor": "white",
            "ticks": ""
           }
          },
          "scene": {
           "xaxis": {
            "backgroundcolor": "#E5ECF6",
            "gridcolor": "white",
            "gridwidth": 2,
            "linecolor": "white",
            "showbackground": true,
            "ticks": "",
            "zerolinecolor": "white"
           },
           "yaxis": {
            "backgroundcolor": "#E5ECF6",
            "gridcolor": "white",
            "gridwidth": 2,
            "linecolor": "white",
            "showbackground": true,
            "ticks": "",
            "zerolinecolor": "white"
           },
           "zaxis": {
            "backgroundcolor": "#E5ECF6",
            "gridcolor": "white",
            "gridwidth": 2,
            "linecolor": "white",
            "showbackground": true,
            "ticks": "",
            "zerolinecolor": "white"
           }
          },
          "shapedefaults": {
           "line": {
            "color": "#2a3f5f"
           }
          },
          "ternary": {
           "aaxis": {
            "gridcolor": "white",
            "linecolor": "white",
            "ticks": ""
           },
           "baxis": {
            "gridcolor": "white",
            "linecolor": "white",
            "ticks": ""
           },
           "bgcolor": "#E5ECF6",
           "caxis": {
            "gridcolor": "white",
            "linecolor": "white",
            "ticks": ""
           }
          },
          "title": {
           "x": 0.05
          },
          "xaxis": {
           "automargin": true,
           "gridcolor": "white",
           "linecolor": "white",
           "ticks": "",
           "title": {
            "standoff": 15
           },
           "zerolinecolor": "white",
           "zerolinewidth": 2
          },
          "yaxis": {
           "automargin": true,
           "gridcolor": "white",
           "linecolor": "white",
           "ticks": "",
           "title": {
            "standoff": 15
           },
           "zerolinecolor": "white",
           "zerolinewidth": 2
          }
         }
        },
        "xaxis": {
         "anchor": "y",
         "domain": [
          0,
          1
         ],
         "title": {
          "text": "datetime"
         }
        },
        "yaxis": {
         "anchor": "x",
         "domain": [
          0,
          1
         ],
         "title": {
          "text": "profit"
         }
        }
       }
      }
     },
     "metadata": {},
     "output_type": "display_data"
    }
   ],
   "source": [
    "import plotly.express as px\n",
    "fig = px.scatter(data_with_results['periods_df'][['datetime', 'profit', 'Status']], x=\"datetime\", y=\"profit\", color=\"Status\", symbol=\"Status\")\n",
    "fig.show()\n"
   ]
  },
  {
   "cell_type": "code",
   "execution_count": 22,
   "id": "4f9daf27",
   "metadata": {},
   "outputs": [
    {
     "data": {
      "text/plain": [
       "<Axes: >"
      ]
     },
     "execution_count": 22,
     "metadata": {},
     "output_type": "execute_result"
    },
    {
     "data": {
      "image/png": "[encoded data removed]",
      "text/plain": [
       "<Figure size 640x480 with 2 Axes>"
      ]
     },
     "metadata": {},
     "output_type": "display_data"
    }
   ],
   "source": [
    "sns.heatmap(data_with_results['periods_df'][['price', 'high', 'low', 'profit']].corr(), annot=True)\n"
   ]
  },
  {
   "cell_type": "code",
   "execution_count": 23,
   "id": "d26e449a",
   "metadata": {},
   "outputs": [
    {
     "data": {
      "text/plain": [
       "<Axes: xlabel='Status', ylabel='profit'>"
      ]
     },
     "execution_count": 23,
     "metadata": {},
     "output_type": "execute_result"
    },
    {
     "data": {
      "image/png": "[encoded data removed]",
      "text/plain": [
       "<Figure size 640x480 with 1 Axes>"
      ]
     },
     "metadata": {},
     "output_type": "display_data"
    }
   ],
   "source": [
    "sns.barplot(data=data_with_results['periods_df'], x=\"Status\", y=\"profit\")\n"
   ]
  }
 ],
 "metadata": {
  "kernelspec": {
   "display_name": "Python 3",
   "language": "python",
   "name": "python3"
  },
  "language_info": {
   "codemirror_mode": {
    "name": "ipython",
    "version": 3
   },
   "file_extension": ".py",
   "mimetype": "text/x-python",
   "name": "python",
   "nbconvert_exporter": "python",
   "pygments_lexer": "ipython3",
   "version": "3.13.2"
  }
 },
 "nbformat": 4,
 "nbformat_minor": 5
}

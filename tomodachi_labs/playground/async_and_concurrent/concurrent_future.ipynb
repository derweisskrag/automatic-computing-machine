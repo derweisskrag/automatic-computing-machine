{
 "cells": [
  {
   "cell_type": "code",
   "execution_count": 1,
   "id": "1b54754e",
   "metadata": {},
   "outputs": [
    {
     "name": "stdout",
     "output_type": "stream",
     "text": [
      "[0, 1, 4, 9, 16]\n"
     ]
    }
   ],
   "source": [
    "from concurrent.futures import ThreadPoolExecutor\n",
    "\n",
    "def square(x):\n",
    "    return x * x\n",
    "\n",
    "# Create an executor with 2 threads\n",
    "with ThreadPoolExecutor(max_workers=2) as executor:\n",
    "    # Submit tasks to the executor\n",
    "    futures = [executor.submit(square, i) for i in range(5)]\n",
    "    \n",
    "    # Get the results of the tasks\n",
    "    results = [future.result() for future in futures]\n",
    "    \n",
    "    print(results)  # Output: [0, 1, 4, 9, 16]\n"
   ]
  },
  {
   "cell_type": "code",
   "execution_count": null,
   "id": "a4e44eba",
   "metadata": {},
   "outputs": [],
   "source": []
  }
 ],
 "metadata": {
  "kernelspec": {
   "display_name": "Python 3",
   "language": "python",
   "name": "python3"
  },
  "language_info": {
   "codemirror_mode": {
    "name": "ipython",
    "version": 3
   },
   "file_extension": ".py",
   "mimetype": "text/x-python",
   "name": "python",
   "nbconvert_exporter": "python",
   "pygments_lexer": "ipython3",
   "version": "3.13.2"
  }
 },
 "nbformat": 4,
 "nbformat_minor": 5
}

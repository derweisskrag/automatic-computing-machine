{
 "cells": [
  {
   "cell_type": "markdown",
   "id": "abb13480",
   "metadata": {},
   "source": [
    "# This book was used to test my own Python library.\n",
    "\n",
    "## Conclusion\n",
    "\n",
    "It worked yet I encountered some interesting aspects but my old code, however, I leave it here temporarily\n",
    "\n",
    "Install: pip install -i https://test.pypi.org/simple/ dsa-kuuking"
   ]
  },
  {
   "cell_type": "code",
   "execution_count": null,
   "id": "d6dd32c4",
   "metadata": {},
   "outputs": [
    {
     "name": "stdout",
     "output_type": "stream",
     "text": [
      "Node(data=5)->Node(data=4)->Node(data=3)->Node(data=2)->Node(data=1)->Node(data=0)\n",
      "Node(data=5)<-->Node(data=4)<-->Node(data=3)<-->Node(data=2)<-->Node(data=1)<-->Node(data=0)\n",
      "Node(data=5)<-->Node(data=4)<-->Node(data=3)<-->Node(data=2)<-->Node(data=1)<-->Node(data=0)<-->Node(data=5)\n",
      "CPU times: total: 0 ns\n",
      "Wall time: 6.91 μs\n"
     ]
    }
   ],
   "source": [
    "from dsa_kuuking.linked_lists.linked_list.implementation.linked_list import LinkedList\n",
    "from dsa_kuuking.linked_lists.doubly_linked_list.implementation.doubly_linked_list import DoublyLinkedList\n",
    "from dsa_kuuking.linked_lists.circular_linked_list.implementation.circular_linked_list import CircularLinkedList\n",
    "\n",
    "cl = CircularLinkedList[int]()\n",
    "dl = DoublyLinkedList[int]()\n",
    "ll = LinkedList[int]()\n",
    "\n",
    "for i in range(6):\n",
    "    ll.add_to_front(i)\n",
    "ll.display()\n",
    "\n",
    "for i in range(6):\n",
    "    dl.add_to_front(i)\n",
    "dl.display()\n",
    "\n",
    "for i in range(6):\n",
    "    cl.add_to_front(i)\n",
    "cl.display()\n",
    "\n",
    "%time\n"
   ]
  },
  {
   "cell_type": "code",
   "execution_count": 4,
   "id": "1fe79d19",
   "metadata": {},
   "outputs": [
    {
     "name": "stdout",
     "output_type": "stream",
     "text": [
      "Success! The value has been enqueued!\n",
      "Success! The value has been enqueued!\n",
      "Success! The value has been enqueued!\n",
      "Success! The value has been enqueued!\n",
      "Success! The value has been enqueued!\n",
      "Success! The value has been enqueued!\n",
      "[5, 4, 3, 2, 1, 0]\n",
      "Success! The value has been dequeued!\n",
      "[4, 3, 2, 1, 0]\n",
      "CPU times: total: 0 ns\n",
      "Wall time: 5.25 μs\n"
     ]
    }
   ],
   "source": [
    "from dsa_kuuking.queues.queue.implementation.queue_list import Queue\n",
    "\n",
    "q = Queue[int]()\n",
    "for i in range(6):\n",
    "    q.enqueue(i)\n",
    "q.display()\n",
    "q.dequeue()\n",
    "q.display()\n",
    "\n",
    "%time"
   ]
  },
  {
   "cell_type": "code",
   "execution_count": 5,
   "id": "4e4355d4",
   "metadata": {},
   "outputs": [
    {
     "name": "stdout",
     "output_type": "stream",
     "text": [
      "CPU times: total: 93.8 ms\n",
      "Wall time: 101 ms\n"
     ]
    },
    {
     "data": {
      "text/plain": [
       "<dsa_kuuking.linked_lists.linked_list.implementation.linked_list.LinkedList at 0x1baf8497230>"
      ]
     },
     "execution_count": 5,
     "metadata": {},
     "output_type": "execute_result"
    }
   ],
   "source": [
    "# test linked list from list\n",
    "ll = LinkedList[int]()\n",
    "ll.from_list([i for i in range(100000)])\n",
    "%time ll.from_list([i for i in range(100000)])"
   ]
  },
  {
   "cell_type": "code",
   "execution_count": 6,
   "id": "7451751d",
   "metadata": {},
   "outputs": [
    {
     "name": "stdout",
     "output_type": "stream",
     "text": [
      "CPU times: total: 0 ns\n",
      "Wall time: 779 μs\n"
     ]
    },
    {
     "data": {
      "text/plain": [
       "Series([], dtype: object)"
      ]
     },
     "execution_count": 6,
     "metadata": {},
     "output_type": "execute_result"
    }
   ],
   "source": [
    "import pandas as pd\n",
    "%time pd.Series(ll.to_list())\n",
    "\n",
    "#%time pd.Series(list(range(100000)))"
   ]
  },
  {
   "cell_type": "code",
   "execution_count": 7,
   "id": "f2aaaf91",
   "metadata": {},
   "outputs": [
    {
     "name": "stdout",
     "output_type": "stream",
     "text": [
      "CPU times: total: 18.3 s\n",
      "Wall time: 19.8 s\n"
     ]
    },
    {
     "data": {
      "text/plain": [
       "Node(data=50000000)"
      ]
     },
     "execution_count": 7,
     "metadata": {},
     "output_type": "execute_result"
    }
   ],
   "source": [
    "my_list = LinkedList[int]()\n",
    "for i in range(100000000):\n",
    "    my_list.add_to_front(i)\n",
    "\n",
    "%time my_list.remove_by_data(50000000)"
   ]
  },
  {
   "cell_type": "code",
   "execution_count": 9,
   "id": "28ad5faa",
   "metadata": {},
   "outputs": [
    {
     "name": "stdout",
     "output_type": "stream",
     "text": [
      "Processing task: Send welcome email to user_1\n",
      "Processing task: Log Login time for user_5\n",
      "Processing task: Push notification to user_20\n",
      "Top active users: [<dsa_kuuking.types.ResultType.ResultType object at 0x000001BAF851BC50>, <dsa_kuuking.types.nodes.red_black_tree_node.Node object at 0x000001BFB03CCC50>, <dsa_kuuking.types.nodes.red_black_tree_node.Node object at 0x000001BFB03CCC50>, <dsa_kuuking.types.nodes.red_black_tree_node.Node object at 0x000001BFB03CCC50>, <dsa_kuuking.types.nodes.red_black_tree_node.Node object at 0x000001BFB03CCC50>]\n",
      "Current users in DB:\n",
      "UserID: 1, Username: user_1, LastActivity: 6282\n",
      "UserID: 2, Username: user_2, LastActivity: 3912\n",
      "UserID: 4, Username: user_4, LastActivity: 565\n",
      "UserID: 5, Username: user_5, LastActivity: 518\n",
      "UserID: 6, Username: user_6, LastActivity: 3865\n",
      "UserID: 7, Username: user_7, LastActivity: 7481\n",
      "UserID: 8, Username: user_8, LastActivity: 4412\n",
      "UserID: 9, Username: user_9, LastActivity: 5653\n",
      "UserID: 10, Username: user_10, LastActivity: 7818\n",
      "UserID: 11, Username: user_11, LastActivity: 6208\n",
      "UserID: 12, Username: user_12, LastActivity: 1091\n",
      "UserID: 13, Username: user_13, LastActivity: 8046\n",
      "UserID: 14, Username: user_14, LastActivity: 2314\n",
      "UserID: 15, Username: user_15, LastActivity: 3826\n",
      "UserID: 16, Username: user_16, LastActivity: 9107\n",
      "UserID: 17, Username: user_17, LastActivity: 7354\n",
      "UserID: 18, Username: user_18, LastActivity: 5792\n",
      "UserID: 19, Username: user_19, LastActivity: 9785\n",
      "UserID: 20, Username: user_20, LastActivity: 3732\n",
      "UserID: 21, Username: user_21, LastActivity: 5048\n",
      "UserID: 22, Username: user_22, LastActivity: 772\n",
      "UserID: 23, Username: user_23, LastActivity: 7419\n",
      "UserID: 24, Username: user_24, LastActivity: 8645\n",
      "UserID: 25, Username: user_25, LastActivity: 1465\n",
      "UserID: 26, Username: user_26, LastActivity: 2048\n",
      "UserID: 27, Username: user_27, LastActivity: 8631\n",
      "UserID: 28, Username: user_28, LastActivity: 4942\n",
      "UserID: 29, Username: user_29, LastActivity: 5935\n",
      "UserID: 30, Username: user_30, LastActivity: 2218\n",
      "UserID: 31, Username: user_31, LastActivity: 7631\n",
      "UserID: 32, Username: user_32, LastActivity: 8098\n",
      "UserID: 33, Username: user_33, LastActivity: 2360\n",
      "UserID: 34, Username: user_34, LastActivity: 2888\n",
      "UserID: 35, Username: user_35, LastActivity: 5829\n",
      "UserID: 36, Username: user_36, LastActivity: 888\n",
      "UserID: 37, Username: user_37, LastActivity: 3764\n",
      "UserID: 38, Username: user_38, LastActivity: 966\n",
      "UserID: 39, Username: user_39, LastActivity: 4274\n",
      "UserID: 40, Username: user_40, LastActivity: 3165\n",
      "UserID: 41, Username: user_41, LastActivity: 8281\n",
      "UserID: 42, Username: user_42, LastActivity: 1854\n",
      "UserID: 43, Username: user_43, LastActivity: 2255\n",
      "UserID: 44, Username: user_44, LastActivity: 5299\n",
      "UserID: 45, Username: user_45, LastActivity: 1602\n",
      "UserID: 46, Username: user_46, LastActivity: 2132\n",
      "UserID: 47, Username: user_47, LastActivity: 8641\n",
      "UserID: 48, Username: user_48, LastActivity: 2247\n",
      "UserID: 49, Username: user_49, LastActivity: 4302\n",
      "UserID: 50, Username: user_50, LastActivity: 2768\n",
      "UserID: 51, Username: user_51, LastActivity: 2902\n",
      "UserID: 52, Username: user_52, LastActivity: 4375\n",
      "UserID: 53, Username: user_53, LastActivity: 9293\n",
      "UserID: 54, Username: user_54, LastActivity: 63\n",
      "UserID: 55, Username: user_55, LastActivity: 4546\n",
      "UserID: 56, Username: user_56, LastActivity: 3406\n",
      "UserID: 57, Username: user_57, LastActivity: 729\n",
      "UserID: 58, Username: user_58, LastActivity: 9491\n",
      "UserID: 59, Username: user_59, LastActivity: 5996\n",
      "UserID: 60, Username: user_60, LastActivity: 583\n",
      "UserID: 61, Username: user_61, LastActivity: 1644\n",
      "UserID: 62, Username: user_62, LastActivity: 5585\n",
      "UserID: 63, Username: user_63, LastActivity: 9902\n",
      "UserID: 64, Username: user_64, LastActivity: 590\n",
      "UserID: 65, Username: user_65, LastActivity: 9020\n",
      "UserID: 66, Username: user_66, LastActivity: 5829\n",
      "UserID: 67, Username: user_67, LastActivity: 1894\n",
      "UserID: 68, Username: user_68, LastActivity: 2569\n",
      "UserID: 69, Username: user_69, LastActivity: 2307\n",
      "UserID: 70, Username: user_70, LastActivity: 4386\n",
      "UserID: 71, Username: user_71, LastActivity: 7115\n",
      "UserID: 72, Username: user_72, LastActivity: 6905\n",
      "UserID: 73, Username: user_73, LastActivity: 8742\n",
      "UserID: 74, Username: user_74, LastActivity: 1089\n",
      "UserID: 75, Username: user_75, LastActivity: 5557\n",
      "UserID: 76, Username: user_76, LastActivity: 5394\n",
      "UserID: 77, Username: user_77, LastActivity: 8849\n",
      "UserID: 78, Username: user_78, LastActivity: 6317\n",
      "UserID: 79, Username: user_79, LastActivity: 4596\n",
      "UserID: 80, Username: user_80, LastActivity: 7446\n",
      "UserID: 81, Username: user_81, LastActivity: 6454\n",
      "UserID: 82, Username: user_82, LastActivity: 4486\n",
      "UserID: 83, Username: user_83, LastActivity: 3208\n",
      "UserID: 84, Username: user_84, LastActivity: 9011\n",
      "UserID: 85, Username: user_85, LastActivity: 6852\n",
      "UserID: 86, Username: user_86, LastActivity: 856\n",
      "UserID: 87, Username: user_87, LastActivity: 6689\n",
      "UserID: 88, Username: user_88, LastActivity: 4338\n",
      "UserID: 89, Username: user_89, LastActivity: 9760\n",
      "UserID: 90, Username: user_90, LastActivity: 9068\n",
      "UserID: 91, Username: user_91, LastActivity: 4741\n",
      "UserID: 92, Username: user_92, LastActivity: 4363\n",
      "UserID: 93, Username: user_93, LastActivity: 9420\n",
      "UserID: 94, Username: user_94, LastActivity: 5145\n",
      "UserID: 95, Username: user_95, LastActivity: 790\n",
      "UserID: 96, Username: user_96, LastActivity: 1776\n",
      "UserID: 97, Username: user_97, LastActivity: 8656\n",
      "UserID: 98, Username: user_98, LastActivity: 2835\n",
      "UserID: 99, Username: user_99, LastActivity: 4358\n",
      "UserID: 100, Username: user_100, LastActivity: 4944\n"
     ]
    }
   ],
   "source": [
    "import sqlite3\n",
    "from collections import deque\n",
    "from dsa_kuuking.trees.red_black_tree.implementation.red_black_tree import  RBTree\n",
    "\n",
    "class BackendApp:\n",
    "    def __init__(self):\n",
    "        self.db = sqlite3.connect('app_2.db')\n",
    "        self.cursor = self.db.cursor()\n",
    "        self.user_sessions = RBTree()\n",
    "        self.task_queue = deque()\n",
    "        self.max_users = 10000\n",
    "\n",
    "    def setup_database(self):\n",
    "        self.cursor.execute('''\n",
    "            CREATE TABLE IF NOT EXISTS users (\n",
    "                user_id INTEGER PRIMARY KEY,\n",
    "                username TEXT NOT NULL,\n",
    "                last_activity INTEGER NOT NULL\n",
    "            )\n",
    "        ''')\n",
    "        self.db.commit()\n",
    "\n",
    "\n",
    "    def debug_users_table(self):\n",
    "        self.cursor.execute('SELECT * FROM users')\n",
    "        rows = self.cursor.fetchall()\n",
    "        print(\"Current users in DB:\")\n",
    "        for row in rows:\n",
    "            print(f\"UserID: {row[0]}, Username: {row[1]}, LastActivity: {row[2]}\")\n",
    "\n",
    "    def add_user(self, user_id, username, last_activity, commit=True):\n",
    "        self.cursor.execute(\n",
    "            'INSERT INTO users (user_id, username, last_activity) VALUES (?, ?, ?)',\n",
    "            (user_id, username, last_activity)\n",
    "        )\n",
    "        if commit:\n",
    "            self.db.commit()\n",
    "        self.user_sessions.add(last_activity, user_id)\n",
    "\n",
    "    def get_active_users(self, n = 10):\n",
    "        # my RBTree does not contain top_n_elements\n",
    "        \"\"\"\n",
    "            I attempt to get nodes and fill in the list -> bad but okay for now\n",
    "\n",
    "        \"\"\"\n",
    "\n",
    "        root_user = self.user_sessions.get_root()\n",
    "        active_users = [root_user]\n",
    "        for i in range(2, n + 1):\n",
    "            active_users.append(self.user_sessions.find_by_key(i))\n",
    "        return active_users\n",
    "    \n",
    "    def add_task(self, task):\n",
    "        self.task_queue.append(task)\n",
    "\n",
    "\n",
    "    def process_tasks(self):\n",
    "        while self.task_queue:\n",
    "            task = self.task_queue.popleft()\n",
    "            # Process the task\n",
    "            print(f\"Processing task: {task}\")\n",
    "\n",
    "    def user_logout(self, user_id):\n",
    "        self.cursor.execute('DELETE FROM users WHERE user_id = ?', (user_id,))\n",
    "        self.db.commit()\n",
    "        # Remove from RBTree\n",
    "        self.user_sessions.remove(user_id)\n",
    "\n",
    "    def close(self):\n",
    "        self.db.close()\n",
    "\n",
    "\n",
    "app = BackendApp()\n",
    "app.setup_database()\n",
    "\n",
    "import random\n",
    "for i in range(1, 101):\n",
    "    app.add_user(i, f'user_{i}', random.randint(1, 10000), commit=False)\n",
    "\n",
    "app.db.commit()\n",
    "\n",
    "app.add_task(\"Send welcome email to user_1\")\n",
    "app.add_task(\"Log Login time for user_5\")\n",
    "app.add_task(\"Push notification to user_20\")\n",
    "app.process_tasks()\n",
    "\n",
    "top_active_users = app.get_active_users(5)\n",
    "print(\"Top active users:\", top_active_users)\n",
    "\n",
    "\n",
    "\n",
    "app.user_logout(3)\n",
    "\n",
    "\n",
    "app.debug_users_table()\n",
    "app.close()"
   ]
  },
  {
   "cell_type": "code",
   "execution_count": 31,
   "id": "361b0820",
   "metadata": {},
   "outputs": [
    {
     "name": "stdout",
     "output_type": "stream",
     "text": [
      "Request History (Most Recent First):\n",
      "Node(data=request_3)<-->Node(data=request_2)<-->Node(data=request_1)\n",
      "Request History (Most Recent First):\n",
      "Node(data=request_1)<-->Node(data=request_2)\n"
     ]
    }
   ],
   "source": [
    "class RequestHistory:\n",
    "    def __init__(self):\n",
    "        self.history = DoublyLinkedList()\n",
    "\n",
    "    # Add a request to history\n",
    "    def add_request(self, request_id):\n",
    "        if self.history.is_empty():\n",
    "            self.history.add_to_front(request_id)\n",
    "        else:\n",
    "            self.history.add_to_end(request_id)\n",
    "\n",
    "    # Print the history of requests from newest to oldest\n",
    "    def print_history(self):\n",
    "        print(\"Request History (Most Recent First):\")\n",
    "        reversed_history = self.history.reverse()\n",
    "        reversed_history.display()\n",
    "\n",
    "    # Remove the most recent request (undo last action)\n",
    "    def undo_request(self):\n",
    "        if self.history.get_head().unwrap():\n",
    "            self.history.remove_by_data(self.history.get_tail().unwrap().data)\n",
    "\n",
    "\n",
    "history = RequestHistory()\n",
    "history.add_request(\"request_1\")\n",
    "history.add_request(\"request_2\")\n",
    "history.add_request(\"request_3\")\n",
    "history.print_history()\n",
    "\n",
    "history.undo_request()\n",
    "history.print_history()"
   ]
  },
  {
   "cell_type": "code",
   "execution_count": 35,
   "id": "e8356c4f",
   "metadata": {},
   "outputs": [
    {
     "name": "stdout",
     "output_type": "stream",
     "text": [
      "Next worker for task: worker_3\n",
      "Next worker for task: worker_2\n",
      "Next worker for task: worker_1\n",
      "Next worker for task: worker_3\n",
      "\n",
      "Current workers (circular):\n",
      "Node(data=worker_2)<-->Node(data=worker_1)<-->Node(data=worker_3)<-->Node(data=worker_2)\n"
     ]
    }
   ],
   "source": [
    "class RoundRobinScheduler:\n",
    "    def __init__(self):\n",
    "        self.workers = CircularLinkedList()\n",
    "\n",
    "    # Add worker to the scheduler\n",
    "    def add_worker(self, worker_id):\n",
    "        self.workers.add_to_front(worker_id)\n",
    "\n",
    "    # Get the next worker for a task\n",
    "    def get_next_worker(self):\n",
    "        if not self.workers.get_head:\n",
    "            print(\"No workers available\")\n",
    "            return None\n",
    "        worker = self.workers.get_head().unwrap().data\n",
    "\n",
    "        # try \n",
    "        self.workers._head = self.workers._head.next  # Move to next worker (circular)\n",
    "\n",
    "        # return\n",
    "        return worker\n",
    "\n",
    "    # Print workers in a circular order\n",
    "    def print_workers(self):\n",
    "        self.workers.display()\n",
    "\n",
    "\n",
    "scheduler = RoundRobinScheduler()\n",
    "scheduler.add_worker(\"worker_1\")\n",
    "scheduler.add_worker(\"worker_2\")\n",
    "scheduler.add_worker(\"worker_3\")\n",
    "\n",
    "print(\"Next worker for task:\", scheduler.get_next_worker())\n",
    "print(\"Next worker for task:\", scheduler.get_next_worker())\n",
    "print(\"Next worker for task:\", scheduler.get_next_worker())\n",
    "print(\"Next worker for task:\", scheduler.get_next_worker())\n",
    "\n",
    "print(\"\\nCurrent workers (circular):\")\n",
    "scheduler.print_workers()\n"
   ]
  }
 ],
 "metadata": {
  "kernelspec": {
   "display_name": "Python 3",
   "language": "python",
   "name": "python3"
  },
  "language_info": {
   "codemirror_mode": {
    "name": "ipython",
    "version": 3
   },
   "file_extension": ".py",
   "mimetype": "text/x-python",
   "name": "python",
   "nbconvert_exporter": "python",
   "pygments_lexer": "ipython3",
   "version": "3.13.2"
  }
 },
 "nbformat": 4,
 "nbformat_minor": 5
}

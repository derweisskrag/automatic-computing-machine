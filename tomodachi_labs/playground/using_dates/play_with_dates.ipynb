{
 "cells": [
  {
   "cell_type": "markdown",
   "id": "1cf58f9d",
   "metadata": {},
   "source": [
    "# Working with dates\n",
    "\n",
    "## Objective\n",
    "\n",
    "The purpose is gain insights into how Python's datetime and dateutil works\n",
    "\n",
    "Please, notice! We cannot use the our modules (because not deployed)\n"
   ]
  },
  {
   "cell_type": "code",
   "execution_count": null,
   "id": "c89e6a9b",
   "metadata": {},
   "outputs": [],
   "source": [
    "import datetime\n",
    "import dateutil"
   ]
  },
  {
   "cell_type": "markdown",
   "id": "a34210df",
   "metadata": {},
   "source": [
    "After we imported these too, we can read documentation about these two or watch a video\n",
    "\n",
    "TODO: Finish off this thing."
   ]
  }
 ],
 "metadata": {
  "kernelspec": {
   "display_name": "Python 3",
   "language": "python",
   "name": "python3"
  },
  "language_info": {
   "codemirror_mode": {
    "name": "ipython",
    "version": 3
   },
   "file_extension": ".py",
   "mimetype": "text/x-python",
   "name": "python",
   "nbconvert_exporter": "python",
   "pygments_lexer": "ipython3",
   "version": "3.13.2"
  }
 },
 "nbformat": 4,
 "nbformat_minor": 5
}

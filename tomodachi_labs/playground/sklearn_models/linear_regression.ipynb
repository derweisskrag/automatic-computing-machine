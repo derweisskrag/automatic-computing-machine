{
 "cells": [
  {
   "cell_type": "markdown",
   "id": "33a6cb35",
   "metadata": {},
   "source": [
    "# Linear Regression\n",
    "\n",
    "## This playground helps me to understand Semen's code even better."
   ]
  },
  {
   "cell_type": "code",
   "execution_count": 10,
   "id": "1c6b48b3",
   "metadata": {},
   "outputs": [],
   "source": [
    "import pandas as pd\n",
    "import numpy as np\n",
    "from sklearn.metrics import root_mean_squared_error as rmse\n",
    "from sklearn.metrics import mean_absolute_error as mae\n",
    "from sklearn.metrics import r2_score, roc_auc_score\n",
    "from sklearn.linear_model import LinearRegression, LogisticRegression\n",
    "from sklearn.model_selection import train_test_split\n",
    "\n",
    "# import the interactive visualizer\n",
    "from ipywidgets import interactive\n",
    "import matplotlib.pyplot as plt"
   ]
  },
  {
   "cell_type": "code",
   "execution_count": 2,
   "id": "a71e2ab9",
   "metadata": {},
   "outputs": [
    {
     "name": "stdout",
     "output_type": "stream",
     "text": [
      "     x  y\n",
      "0  0.1  0\n",
      "1  1.3  0\n",
      "2  2.0  1\n",
      "3  2.9  0\n",
      "4  3.6  1\n"
     ]
    }
   ],
   "source": [
    "# my data\n",
    "# {\"x\": [0.1, 0.5, 1.3, 2.0, 3.5, 4.0, 5.1, 6.0, 7.2, 8.0],\n",
    "#                   \"y\": [0.2, 0.6, 1.5, 2.1, 3.8, 4.5, 5.9, 6.8, 7.5, 8.2]}\n",
    "\n",
    "\n",
    "df = pd.DataFrame({\"x\": [0.1, 1.3, 2, 2.9, 3.6, 5.1], \"y\": [0, 0, 1, 0, 1, 1]})\n",
    "\n",
    "print(df.head())"
   ]
  },
  {
   "cell_type": "code",
   "execution_count": 3,
   "id": "81553a13",
   "metadata": {},
   "outputs": [
    {
     "data": {
      "image/png": "[encoded data removed]",
      "text/plain": [
       "<Figure size 800x600 with 1 Axes>"
      ]
     },
     "metadata": {},
     "output_type": "display_data"
    }
   ],
   "source": [
    "df.plot.scatter(x=\"x\", y=\"y\", grid=True, figsize=(8, 6), title=\"Scatter plot of x and y\")\n",
    "plt.show()"
   ]
  },
  {
   "cell_type": "markdown",
   "id": "4e45c490",
   "metadata": {},
   "source": [
    "### Interesting function I leave it for now"
   ]
  },
  {
   "cell_type": "code",
   "execution_count": 4,
   "id": "841e5f73",
   "metadata": {},
   "outputs": [],
   "source": [
    "def f(m, b):\n",
    "    \"\"\"Create a linear regression model with slope m and intercept b.\"\"\"\n",
    "    # Create the model\n",
    "    model = LinearRegression()\n",
    "    # Create the data\n",
    "    X = df[[\"x\"]]\n",
    "    y = df[\"y\"]\n",
    "    # Fit the model\n",
    "    model.fit(X, y)\n",
    "    # Make predictions\n",
    "    y_pred = model.predict(X)\n",
    "    \n",
    "    # Calculate metrics\n",
    "    rmse_val = rmse(y, y_pred)\n",
    "    mae_val = mae(y, y_pred)\n",
    "    r2_val = r2_score(y, y_pred)\n",
    "    \n",
    "    # Print metrics\n",
    "    print(f\"RMSE: {rmse_val:.2f}\")\n",
    "    print(f\"MAE: {mae_val:.2f}\")\n",
    "    print(f\"R^2: {r2_val:.2f}\")"
   ]
  },
  {
   "cell_type": "markdown",
   "id": "78c7cd8a",
   "metadata": {},
   "source": [
    "### My intention is to add widgets to the plot"
   ]
  },
  {
   "cell_type": "code",
   "execution_count": 5,
   "id": "d1336dae",
   "metadata": {},
   "outputs": [
    {
     "data": {
      "application/vnd.jupyter.widget-view+json": {
       "model_id": "f24eaeb7077b4cce8f996349fb1da6e5",
       "version_major": 2,
       "version_minor": 0
      },
      "text/plain": [
       "interactive(children=(FloatSlider(value=0.0, description='m', max=2.0, min=-2.0), FloatSlider(value=0.0, descr…"
      ]
     },
     "execution_count": 5,
     "metadata": {},
     "output_type": "execute_result"
    }
   ],
   "source": [
    "def f(m, b):\n",
    "    plt.figure(2)\n",
    "    x = np.linspace(-10, 10, num=1000)\n",
    "    plt.grid()\n",
    "    plt.plot(x, m*x + b, label=\"y = mx + b\")\n",
    "    plt.scatter(df[\"x\"], df[\"y\"], color=\"red\", label=\"Data\")\n",
    "    plt.title(\"Linear Regression Model\")\n",
    "    plt.xlim(-1, 7)\n",
    "    plt.ylim(-1, 3)\n",
    "    plt.show()\n",
    "\n",
    "interactive_plot = interactive(f, m=(-2.0, 2.0), b=(-3, 3, 0.5))\n",
    "output = interactive_plot.children[-1]\n",
    "output.layout.height = '400px'\n",
    "interactive_plot\n"
   ]
  },
  {
   "cell_type": "code",
   "execution_count": 6,
   "id": "220857a9",
   "metadata": {},
   "outputs": [
    {
     "name": "stdout",
     "output_type": "stream",
     "text": [
      "2.275\n",
      "0.5035555555555556\n",
      "0.3471111111111111\n",
      "0.3872222222222224\n",
      "0.35888888888888903\n",
      "0.3588888888888888\n",
      "0.3588888888888886\n",
      "0.3588888888888884\n",
      "0.3588888888888882\n",
      "0.358888888888888\n"
     ]
    }
   ],
   "source": [
    "# weights\n",
    "m, b = 1, 1\n",
    "\n",
    "# steps\n",
    "n = 100\n",
    "\n",
    "# Prediction\n",
    "df['pred'] = m*df['x'] + b\n",
    "\n",
    "# learning rate\n",
    "nu = 0.1\n",
    "\n",
    "# compute the error\n",
    "for i in range(n):\n",
    "    df[\"error\"] = df[\"y\"] - df[\"pred\"]\n",
    "\n",
    "    df['m_change'] = df['x'] * np.sign(df[\"error\"])\n",
    "    df['b_change'] = np.sign(df[\"error\"])\n",
    "\n",
    "    m += nu * df['m_change'].mean()\n",
    "    b += nu * df['b_change'].mean()\n",
    "\n",
    "    df['pred'] = m * df['x'] + b\n",
    "    df['error'] = df['y'] - df['pred']\n",
    "    df['error_abs'] = np.abs(df['error'])\n",
    "\n",
    "    if i % 10 == 0:\n",
    "        print(df['error_abs'].mean())\n"
   ]
  },
  {
   "cell_type": "markdown",
   "id": "2f00b046",
   "metadata": {},
   "source": [
    "### Log the df and study what we got"
   ]
  },
  {
   "cell_type": "code",
   "execution_count": 7,
   "id": "8d1dcd73",
   "metadata": {},
   "outputs": [
    {
     "name": "stdout",
     "output_type": "stream",
     "text": [
      "     x  y      pred     error  m_change  b_change  error_abs\n",
      "0  0.1  0 -0.015667  0.015667       0.1       1.0   0.015667\n",
      "1  1.3  0  0.196333 -0.196333      -1.3      -1.0   0.196333\n",
      "2  2.0  1  0.320000  0.680000       2.0       1.0   0.680000\n",
      "3  2.9  0  0.479000 -0.479000      -2.9      -1.0   0.479000\n",
      "4  3.6  1  0.602667  0.397333       3.6       1.0   0.397333\n",
      "5  5.1  1  0.867667  0.132333      -5.1      -1.0   0.132333\n"
     ]
    }
   ],
   "source": [
    "print(df)"
   ]
  },
  {
   "cell_type": "markdown",
   "id": "ff87a8c7",
   "metadata": {},
   "source": [
    "## Explanation about how ROC AUC works\n",
    "\n",
    "### Formula\n",
    "\n",
    "```\n",
    "df['y_pred'] = df['pred'] > pred_value\n",
    "```\n",
    "\n",
    "where `pred_value` is taken first:\n",
    "\n",
    "-0.015667, then 0.196333 and etc \n",
    "\n",
    "Each time we update the `y_pred`\n",
    "\n",
    "This is how `ROC AUC` works"
   ]
  },
  {
   "cell_type": "code",
   "execution_count": null,
   "id": "59a4a684",
   "metadata": {},
   "outputs": [
    {
     "name": "stdout",
     "output_type": "stream",
     "text": [
      "     x  y      pred  y_pred\n",
      "0  0.1  0 -0.015667    True\n",
      "1  1.3  0  0.196333    True\n",
      "2  2.0  1  0.320000    True\n",
      "3  2.9  0  0.479000    True\n",
      "4  3.6  1  0.602667    True\n",
      "5  5.1  1  0.867667    True\n"
     ]
    }
   ],
   "source": [
    "df['y_pred'] = df['pred'] > -0.015667\n",
    "print(df[['x', 'y', 'pred', 'y_pred']])"
   ]
  },
  {
   "cell_type": "code",
   "execution_count": 8,
   "id": "7b221715",
   "metadata": {},
   "outputs": [
    {
     "name": "stdout",
     "output_type": "stream",
     "text": [
      "ROC AUC Score: 0.888888888888889\n"
     ]
    }
   ],
   "source": [
    "# print the roc auc score\n",
    "print(\"ROC AUC Score:\", roc_auc_score(df[\"y\"], df[\"pred\"]))"
   ]
  },
  {
   "cell_type": "code",
   "execution_count": 16,
   "id": "687e0da4",
   "metadata": {},
   "outputs": [
    {
     "name": "stdout",
     "output_type": "stream",
     "text": [
      "LogisticRegression()\n"
     ]
    }
   ],
   "source": [
    "ls = LogisticRegression()\n",
    "ls.fit(df[[\"x\"]], df[\"y\"])\n",
    "print(ls)"
   ]
  },
  {
   "cell_type": "code",
   "execution_count": 17,
   "id": "742d3fe0",
   "metadata": {},
   "outputs": [
    {
     "name": "stdout",
     "output_type": "stream",
     "text": [
      "[[0.86302186 0.13697814]\n",
      " [0.71353003 0.28646997]\n",
      " [0.59175887 0.40824113]\n",
      " [0.41951135 0.58048865]\n",
      " [0.29606037 0.70393963]\n",
      " [0.11648312 0.88351688]]\n"
     ]
    }
   ],
   "source": [
    "print(ls.predict_proba(df[[\"x\"]]))"
   ]
  },
  {
   "cell_type": "markdown",
   "id": "7a6c8e10",
   "metadata": {},
   "source": [
    "### Our predict vs what actual is\n",
    "\n",
    "#### Observation\n",
    "\n",
    "We see that our `pred` is similar to `lr_pred`: they both increase `x` grows\n",
    "\n",
    "\n",
    "#### Principle\n",
    "\n",
    "recency frequency monetary = rfm"
   ]
  },
  {
   "cell_type": "code",
   "execution_count": 19,
   "id": "6fe2599f",
   "metadata": {},
   "outputs": [
    {
     "name": "stdout",
     "output_type": "stream",
     "text": [
      "     x  y      pred   lr_pred\n",
      "0  0.1  0 -0.015667  0.136978\n",
      "1  1.3  0  0.196333  0.286470\n",
      "2  2.0  1  0.320000  0.408241\n",
      "3  2.9  0  0.479000  0.580489\n",
      "4  3.6  1  0.602667  0.703940\n",
      "5  5.1  1  0.867667  0.883517\n"
     ]
    }
   ],
   "source": [
    "df['lr_pred'] = ls.predict_proba(df[[\"x\"]])[:, 1]\n",
    "print(df[['x', 'y', 'pred', 'lr_pred']])"
   ]
  },
  {
   "cell_type": "code",
   "execution_count": 21,
   "id": "e9adbd32",
   "metadata": {},
   "outputs": [
    {
     "data": {
      "text/plain": [
       "<matplotlib.collections.PathCollection at 0x2d4a7f1c690>"
      ]
     },
     "execution_count": 21,
     "metadata": {},
     "output_type": "execute_result"
    },
    {
     "data": {
      "image/png": "[encoded data removed]",
      "text/plain": [
       "<Figure size 640x480 with 1 Axes>"
      ]
     },
     "metadata": {},
     "output_type": "display_data"
    }
   ],
   "source": [
    "x = np.linspace(-10, 10, num=1000)\n",
    "plt.plot(x, m * x + b, label=\"y = mx + b\")\n",
    "plt.scatter(df[\"x\"], df[\"y\"], color=\"red\", label=\"Data\")"
   ]
  },
  {
   "cell_type": "code",
   "execution_count": 24,
   "id": "690f6deb",
   "metadata": {},
   "outputs": [
    {
     "name": "stdout",
     "output_type": "stream",
     "text": [
      "ROC AUC: nan\n"
     ]
    },
    {
     "name": "stderr",
     "output_type": "stream",
     "text": [
      "C:\\Users\\Lenovo\\AppData\\Roaming\\Python\\Python313\\site-packages\\sklearn\\metrics\\_ranking.py:379: UndefinedMetricWarning: Only one class is present in y_true. ROC AUC score is not defined in that case.\n",
      "  warnings.warn(\n"
     ]
    }
   ],
   "source": [
    "X = df[[\"x\"]]\n",
    "y = df[\"y\"]\n",
    "X_train, X_test, y_train, y_test = train_test_split(X, y, test_size=0.3, random_state=42)\n",
    "model = LogisticRegression()\n",
    "model.fit(X_train, y_train)\n",
    "y_pred_proba = model.predict_proba(X_test)[:,1]\n",
    "\n",
    "# ROC AUC Score\n",
    "roc_auc = roc_auc_score(y_test, y_pred_proba)\n",
    "print(\"ROC AUC:\", roc_auc)"
   ]
  }
 ],
 "metadata": {
  "kernelspec": {
   "display_name": "Python 3",
   "language": "python",
   "name": "python3"
  },
  "language_info": {
   "codemirror_mode": {
    "name": "ipython",
    "version": 3
   },
   "file_extension": ".py",
   "mimetype": "text/x-python",
   "name": "python",
   "nbconvert_exporter": "python",
   "pygments_lexer": "ipython3",
   "version": "3.13.2"
  }
 },
 "nbformat": 4,
 "nbformat_minor": 5
}

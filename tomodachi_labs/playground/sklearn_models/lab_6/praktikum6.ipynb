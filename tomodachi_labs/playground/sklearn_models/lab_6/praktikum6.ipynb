{
 "cells": [
  {
   "cell_type": "code",
   "execution_count": 1,
   "id": "initial_id",
   "metadata": {
    "ExecuteTime": {
     "end_time": "2025-04-26T13:10:26.625584Z",
     "start_time": "2025-04-26T13:10:25.307874Z"
    },
    "collapsed": true
   },
   "outputs": [],
   "source": [
    "from sklearn.datasets import fetch_california_housing"
   ]
  },
  {
   "cell_type": "code",
   "execution_count": 6,
   "id": "c3b4b29f4f33d480",
   "metadata": {
    "ExecuteTime": {
     "end_time": "2025-04-26T13:10:26.651786Z",
     "start_time": "2025-04-26T13:10:26.637015Z"
    }
   },
   "outputs": [
    {
     "data": {
      "text/plain": [
       "<function sklearn.datasets._california_housing.fetch_california_housing(*, data_home=None, download_if_missing=True, return_X_y=False, as_frame=False, n_retries=3, delay=1.0)>"
      ]
     },
     "execution_count": 6,
     "metadata": {},
     "output_type": "execute_result"
    }
   ],
   "source": [
    "fetch_california_housing"
   ]
  },
  {
   "cell_type": "code",
   "execution_count": 7,
   "id": "59318ec33752dfbd",
   "metadata": {
    "ExecuteTime": {
     "end_time": "2025-04-26T13:11:13.645762Z",
     "start_time": "2025-04-26T13:11:12.172453Z"
    }
   },
   "outputs": [
    {
     "name": "stdout",
     "output_type": "stream",
     "text": [
      "Andmestiku mõõtmed: (20640, 9)\n"
     ]
    },
    {
     "data": {
      "text/html": [
       "<div>\n",
       "<style scoped>\n",
       "    .dataframe tbody tr th:only-of-type {\n",
       "        vertical-align: middle;\n",
       "    }\n",
       "\n",
       "    .dataframe tbody tr th {\n",
       "        vertical-align: top;\n",
       "    }\n",
       "\n",
       "    .dataframe thead th {\n",
       "        text-align: right;\n",
       "    }\n",
       "</style>\n",
       "<table border=\"1\" class=\"dataframe\">\n",
       "  <thead>\n",
       "    <tr style=\"text-align: right;\">\n",
       "      <th></th>\n",
       "      <th>MedInc</th>\n",
       "      <th>HouseAge</th>\n",
       "      <th>AveRooms</th>\n",
       "      <th>AveBedrms</th>\n",
       "      <th>Population</th>\n",
       "      <th>AveOccup</th>\n",
       "      <th>Latitude</th>\n",
       "      <th>Longitude</th>\n",
       "      <th>MedHouseVal</th>\n",
       "    </tr>\n",
       "  </thead>\n",
       "  <tbody>\n",
       "    <tr>\n",
       "      <th>0</th>\n",
       "      <td>8.3252</td>\n",
       "      <td>41.0</td>\n",
       "      <td>6.984127</td>\n",
       "      <td>1.023810</td>\n",
       "      <td>322.0</td>\n",
       "      <td>2.555556</td>\n",
       "      <td>37.88</td>\n",
       "      <td>-122.23</td>\n",
       "      <td>4.526</td>\n",
       "    </tr>\n",
       "    <tr>\n",
       "      <th>1</th>\n",
       "      <td>8.3014</td>\n",
       "      <td>21.0</td>\n",
       "      <td>6.238137</td>\n",
       "      <td>0.971880</td>\n",
       "      <td>2401.0</td>\n",
       "      <td>2.109842</td>\n",
       "      <td>37.86</td>\n",
       "      <td>-122.22</td>\n",
       "      <td>3.585</td>\n",
       "    </tr>\n",
       "    <tr>\n",
       "      <th>2</th>\n",
       "      <td>7.2574</td>\n",
       "      <td>52.0</td>\n",
       "      <td>8.288136</td>\n",
       "      <td>1.073446</td>\n",
       "      <td>496.0</td>\n",
       "      <td>2.802260</td>\n",
       "      <td>37.85</td>\n",
       "      <td>-122.24</td>\n",
       "      <td>3.521</td>\n",
       "    </tr>\n",
       "    <tr>\n",
       "      <th>3</th>\n",
       "      <td>5.6431</td>\n",
       "      <td>52.0</td>\n",
       "      <td>5.817352</td>\n",
       "      <td>1.073059</td>\n",
       "      <td>558.0</td>\n",
       "      <td>2.547945</td>\n",
       "      <td>37.85</td>\n",
       "      <td>-122.25</td>\n",
       "      <td>3.413</td>\n",
       "    </tr>\n",
       "    <tr>\n",
       "      <th>4</th>\n",
       "      <td>3.8462</td>\n",
       "      <td>52.0</td>\n",
       "      <td>6.281853</td>\n",
       "      <td>1.081081</td>\n",
       "      <td>565.0</td>\n",
       "      <td>2.181467</td>\n",
       "      <td>37.85</td>\n",
       "      <td>-122.25</td>\n",
       "      <td>3.422</td>\n",
       "    </tr>\n",
       "  </tbody>\n",
       "</table>\n",
       "</div>"
      ],
      "text/plain": [
       "   MedInc  HouseAge  AveRooms  AveBedrms  Population  AveOccup  Latitude  \\\n",
       "0  8.3252      41.0  6.984127   1.023810       322.0  2.555556     37.88   \n",
       "1  8.3014      21.0  6.238137   0.971880      2401.0  2.109842     37.86   \n",
       "2  7.2574      52.0  8.288136   1.073446       496.0  2.802260     37.85   \n",
       "3  5.6431      52.0  5.817352   1.073059       558.0  2.547945     37.85   \n",
       "4  3.8462      52.0  6.281853   1.081081       565.0  2.181467     37.85   \n",
       "\n",
       "   Longitude  MedHouseVal  \n",
       "0    -122.23        4.526  \n",
       "1    -122.22        3.585  \n",
       "2    -122.24        3.521  \n",
       "3    -122.25        3.413  \n",
       "4    -122.25        3.422  "
      ]
     },
     "execution_count": 7,
     "metadata": {},
     "output_type": "execute_result"
    }
   ],
   "source": [
    "# as_frame=True tagastab DataFrame’i\n",
    "data = fetch_california_housing(as_frame=True)\n",
    "df   = data.frame\n",
    "\n",
    "print(\"Andmestiku mõõtmed:\", df.shape)\n",
    "df.head()"
   ]
  },
  {
   "cell_type": "markdown",
   "id": "c01c89549b83d2ee",
   "metadata": {},
   "source": [
    "MedHouseVal – sihtmuutuja (tuhandetes dollarites).\n",
    "\n",
    "Ülejäänud 8 veergu on numbrilised tunnused."
   ]
  },
  {
   "cell_type": "markdown",
   "id": "962801fbed394644",
   "metadata": {},
   "source": [
    "### Loo kolm erinevat ML mudelit (RandomForest, GradientBoosting, XgBoost) MedHouseVal prognoosimiseks ning võrdle tulemusi. Katseta mudelite parameetreid parema tulemuse saamiseks"
   ]
  },
  {
   "cell_type": "code",
   "execution_count": 4,
   "id": "c8b28eadbcf01073",
   "metadata": {
    "ExecuteTime": {
     "end_time": "2025-04-29T18:34:05.444055Z",
     "start_time": "2025-04-29T18:34:05.414623Z"
    }
   },
   "outputs": [],
   "source": [
    "import pandas as pd\n",
    "import numpy as np\n",
    "from sklearn.model_selection import train_test_split\n",
    "from sklearn.impute import SimpleImputer\n",
    "from sklearn.ensemble import RandomForestRegressor, GradientBoostingRegressor\n",
    "import xgboost as xgb\n",
    "from sklearn.preprocessing import LabelEncoder\n",
    "from sklearn.ensemble import VotingRegressor\n",
    "import joblib\n",
    "import pathlib"
   ]
  },
  {
   "cell_type": "code",
   "execution_count": 17,
   "id": "191e6792b3892826",
   "metadata": {},
   "outputs": [],
   "source": [
    "from sklearn.metrics import r2_score, root_mean_squared_error, roc_auc_score\n",
    "from sklearn.preprocessing import StandardScaler\n",
    "from sklearn.compose import ColumnTransformer\n",
    "from sklearn.pipeline import make_pipeline\n",
    "from sklearn.model_selection import RandomizedSearchCV"
   ]
  },
  {
   "cell_type": "markdown",
   "id": "8971fe46",
   "metadata": {},
   "source": [
    "# Lab 6\n",
    "\n",
    "## We have to try out 3 different models based on data we got from `sklearn.dataset.fetch_california_housing`.\n",
    "\n",
    "We will have to use different models:\n",
    "\n",
    "- XGBoost (gradient boosting by the third-party library called XGBoost)\n",
    "- DecisionTreeClassifier + manual gradient boosting\n",
    "- Forests\n",
    "\n",
    "We create an UI/UX for this to predict the model results."
   ]
  },
  {
   "cell_type": "markdown",
   "id": "37b0601b",
   "metadata": {},
   "source": [
    "## Gradient Boosting - XGBoost\n",
    "\n",
    "> We do not re-use PandasService here, as redundant but we can preprocess if need to"
   ]
  },
  {
   "cell_type": "code",
   "execution_count": 8,
   "id": "329aa083",
   "metadata": {},
   "outputs": [
    {
     "data": {
      "text/html": [
       "<div>\n",
       "<style scoped>\n",
       "    .dataframe tbody tr th:only-of-type {\n",
       "        vertical-align: middle;\n",
       "    }\n",
       "\n",
       "    .dataframe tbody tr th {\n",
       "        vertical-align: top;\n",
       "    }\n",
       "\n",
       "    .dataframe thead th {\n",
       "        text-align: right;\n",
       "    }\n",
       "</style>\n",
       "<table border=\"1\" class=\"dataframe\">\n",
       "  <thead>\n",
       "    <tr style=\"text-align: right;\">\n",
       "      <th></th>\n",
       "      <th>MedInc</th>\n",
       "      <th>HouseAge</th>\n",
       "      <th>AveRooms</th>\n",
       "      <th>AveBedrms</th>\n",
       "      <th>Population</th>\n",
       "      <th>AveOccup</th>\n",
       "      <th>Latitude</th>\n",
       "      <th>Longitude</th>\n",
       "      <th>MedHouseVal</th>\n",
       "    </tr>\n",
       "  </thead>\n",
       "  <tbody>\n",
       "    <tr>\n",
       "      <th>0</th>\n",
       "      <td>8.3252</td>\n",
       "      <td>41.0</td>\n",
       "      <td>6.984127</td>\n",
       "      <td>1.023810</td>\n",
       "      <td>322.0</td>\n",
       "      <td>2.555556</td>\n",
       "      <td>37.88</td>\n",
       "      <td>-122.23</td>\n",
       "      <td>4.526</td>\n",
       "    </tr>\n",
       "    <tr>\n",
       "      <th>1</th>\n",
       "      <td>8.3014</td>\n",
       "      <td>21.0</td>\n",
       "      <td>6.238137</td>\n",
       "      <td>0.971880</td>\n",
       "      <td>2401.0</td>\n",
       "      <td>2.109842</td>\n",
       "      <td>37.86</td>\n",
       "      <td>-122.22</td>\n",
       "      <td>3.585</td>\n",
       "    </tr>\n",
       "    <tr>\n",
       "      <th>2</th>\n",
       "      <td>7.2574</td>\n",
       "      <td>52.0</td>\n",
       "      <td>8.288136</td>\n",
       "      <td>1.073446</td>\n",
       "      <td>496.0</td>\n",
       "      <td>2.802260</td>\n",
       "      <td>37.85</td>\n",
       "      <td>-122.24</td>\n",
       "      <td>3.521</td>\n",
       "    </tr>\n",
       "    <tr>\n",
       "      <th>3</th>\n",
       "      <td>5.6431</td>\n",
       "      <td>52.0</td>\n",
       "      <td>5.817352</td>\n",
       "      <td>1.073059</td>\n",
       "      <td>558.0</td>\n",
       "      <td>2.547945</td>\n",
       "      <td>37.85</td>\n",
       "      <td>-122.25</td>\n",
       "      <td>3.413</td>\n",
       "    </tr>\n",
       "    <tr>\n",
       "      <th>4</th>\n",
       "      <td>3.8462</td>\n",
       "      <td>52.0</td>\n",
       "      <td>6.281853</td>\n",
       "      <td>1.081081</td>\n",
       "      <td>565.0</td>\n",
       "      <td>2.181467</td>\n",
       "      <td>37.85</td>\n",
       "      <td>-122.25</td>\n",
       "      <td>3.422</td>\n",
       "    </tr>\n",
       "    <tr>\n",
       "      <th>...</th>\n",
       "      <td>...</td>\n",
       "      <td>...</td>\n",
       "      <td>...</td>\n",
       "      <td>...</td>\n",
       "      <td>...</td>\n",
       "      <td>...</td>\n",
       "      <td>...</td>\n",
       "      <td>...</td>\n",
       "      <td>...</td>\n",
       "    </tr>\n",
       "    <tr>\n",
       "      <th>20635</th>\n",
       "      <td>1.5603</td>\n",
       "      <td>25.0</td>\n",
       "      <td>5.045455</td>\n",
       "      <td>1.133333</td>\n",
       "      <td>845.0</td>\n",
       "      <td>2.560606</td>\n",
       "      <td>39.48</td>\n",
       "      <td>-121.09</td>\n",
       "      <td>0.781</td>\n",
       "    </tr>\n",
       "    <tr>\n",
       "      <th>20636</th>\n",
       "      <td>2.5568</td>\n",
       "      <td>18.0</td>\n",
       "      <td>6.114035</td>\n",
       "      <td>1.315789</td>\n",
       "      <td>356.0</td>\n",
       "      <td>3.122807</td>\n",
       "      <td>39.49</td>\n",
       "      <td>-121.21</td>\n",
       "      <td>0.771</td>\n",
       "    </tr>\n",
       "    <tr>\n",
       "      <th>20637</th>\n",
       "      <td>1.7000</td>\n",
       "      <td>17.0</td>\n",
       "      <td>5.205543</td>\n",
       "      <td>1.120092</td>\n",
       "      <td>1007.0</td>\n",
       "      <td>2.325635</td>\n",
       "      <td>39.43</td>\n",
       "      <td>-121.22</td>\n",
       "      <td>0.923</td>\n",
       "    </tr>\n",
       "    <tr>\n",
       "      <th>20638</th>\n",
       "      <td>1.8672</td>\n",
       "      <td>18.0</td>\n",
       "      <td>5.329513</td>\n",
       "      <td>1.171920</td>\n",
       "      <td>741.0</td>\n",
       "      <td>2.123209</td>\n",
       "      <td>39.43</td>\n",
       "      <td>-121.32</td>\n",
       "      <td>0.847</td>\n",
       "    </tr>\n",
       "    <tr>\n",
       "      <th>20639</th>\n",
       "      <td>2.3886</td>\n",
       "      <td>16.0</td>\n",
       "      <td>5.254717</td>\n",
       "      <td>1.162264</td>\n",
       "      <td>1387.0</td>\n",
       "      <td>2.616981</td>\n",
       "      <td>39.37</td>\n",
       "      <td>-121.24</td>\n",
       "      <td>0.894</td>\n",
       "    </tr>\n",
       "  </tbody>\n",
       "</table>\n",
       "<p>20640 rows × 9 columns</p>\n",
       "</div>"
      ],
      "text/plain": [
       "       MedInc  HouseAge  AveRooms  AveBedrms  Population  AveOccup  Latitude  \\\n",
       "0      8.3252      41.0  6.984127   1.023810       322.0  2.555556     37.88   \n",
       "1      8.3014      21.0  6.238137   0.971880      2401.0  2.109842     37.86   \n",
       "2      7.2574      52.0  8.288136   1.073446       496.0  2.802260     37.85   \n",
       "3      5.6431      52.0  5.817352   1.073059       558.0  2.547945     37.85   \n",
       "4      3.8462      52.0  6.281853   1.081081       565.0  2.181467     37.85   \n",
       "...       ...       ...       ...        ...         ...       ...       ...   \n",
       "20635  1.5603      25.0  5.045455   1.133333       845.0  2.560606     39.48   \n",
       "20636  2.5568      18.0  6.114035   1.315789       356.0  3.122807     39.49   \n",
       "20637  1.7000      17.0  5.205543   1.120092      1007.0  2.325635     39.43   \n",
       "20638  1.8672      18.0  5.329513   1.171920       741.0  2.123209     39.43   \n",
       "20639  2.3886      16.0  5.254717   1.162264      1387.0  2.616981     39.37   \n",
       "\n",
       "       Longitude  MedHouseVal  \n",
       "0        -122.23        4.526  \n",
       "1        -122.22        3.585  \n",
       "2        -122.24        3.521  \n",
       "3        -122.25        3.413  \n",
       "4        -122.25        3.422  \n",
       "...          ...          ...  \n",
       "20635    -121.09        0.781  \n",
       "20636    -121.21        0.771  \n",
       "20637    -121.22        0.923  \n",
       "20638    -121.32        0.847  \n",
       "20639    -121.24        0.894  \n",
       "\n",
       "[20640 rows x 9 columns]"
      ]
     },
     "execution_count": 8,
     "metadata": {},
     "output_type": "execute_result"
    }
   ],
   "source": [
    "df"
   ]
  },
  {
   "cell_type": "code",
   "execution_count": 12,
   "id": "1987b22b",
   "metadata": {},
   "outputs": [
    {
     "name": "stdout",
     "output_type": "stream",
     "text": [
      "Count NaN:  0\n",
      "MedInc         float64\n",
      "HouseAge       float64\n",
      "AveRooms       float64\n",
      "AveBedrms      float64\n",
      "Population     float64\n",
      "AveOccup       float64\n",
      "Latitude       float64\n",
      "Longitude      float64\n",
      "MedHouseVal    float64\n",
      "dtype: object\n"
     ]
    }
   ],
   "source": [
    "print(\"Count NaN: \", df.isna().sum().sum())\n",
    "print(df.dtypes)"
   ]
  },
  {
   "cell_type": "code",
   "execution_count": 13,
   "id": "18f19265",
   "metadata": {},
   "outputs": [],
   "source": [
    "y = df[\"MedHouseVal\"]\n",
    "X = df.drop(\"MedHouseVal\", axis=1)"
   ]
  },
  {
   "cell_type": "code",
   "execution_count": null,
   "id": "4119597f",
   "metadata": {},
   "outputs": [
    {
     "name": "stdout",
     "output_type": "stream",
     "text": [
      "X_train:         MedInc  HouseAge  AveRooms  AveBedrms  Population  AveOccup  Latitude  \\\n",
      "14196  3.2596      33.0  5.017657   1.006421      2300.0  3.691814     32.71   \n",
      "8267   3.8125      49.0  4.473545   1.041005      1314.0  1.738095     33.77   \n",
      "17445  4.1563       4.0  5.645833   0.985119       915.0  2.723214     34.66   \n",
      "14265  1.9425      36.0  4.002817   1.033803      1418.0  3.994366     32.69   \n",
      "2271   3.5542      43.0  6.268421   1.134211       874.0  2.300000     36.78   \n",
      "...       ...       ...       ...        ...         ...       ...       ...   \n",
      "11284  6.3700      35.0  6.129032   0.926267       658.0  3.032258     33.78   \n",
      "11964  3.0500      33.0  6.868597   1.269488      1753.0  3.904232     34.02   \n",
      "5390   2.9344      36.0  3.986717   1.079696      1756.0  3.332068     34.03   \n",
      "860    5.7192      15.0  6.395349   1.067979      1777.0  3.178891     37.58   \n",
      "15795  2.5755      52.0  3.402576   1.058776      2619.0  2.108696     37.77   \n",
      "\n",
      "       Longitude  \n",
      "14196    -117.03  \n",
      "8267     -118.16  \n",
      "17445    -120.48  \n",
      "14265    -117.11  \n",
      "2271     -119.80  \n",
      "...          ...  \n",
      "11284    -117.96  \n",
      "11964    -117.43  \n",
      "5390     -118.38  \n",
      "860      -121.96  \n",
      "15795    -122.42  \n",
      "\n",
      "[16512 rows x 8 columns]\n"
     ]
    }
   ],
   "source": [
    "X_train, X_test, y_train, y_test = train_test_split(X, y, test_size=0.2, random_state=42)\n",
    "print(\"X_train: \", X_train)"
   ]
  },
  {
   "cell_type": "code",
   "execution_count": 16,
   "id": "3a54a2b0",
   "metadata": {},
   "outputs": [
    {
     "name": "stdout",
     "output_type": "stream",
     "text": [
      "\n",
      "RandomForest\n",
      "R2 Score: 0.8052747336256919\n",
      "RMSE: 0.5051432839771741\n",
      "\n",
      "GradientBoosting\n",
      "R2 Score: 0.7756433164710084\n",
      "RMSE: 0.5422167577867202\n",
      "\n",
      "XGBoost\n",
      "R2 Score: 0.8301370561019205\n",
      "RMSE: 0.4717943691423984\n"
     ]
    }
   ],
   "source": [
    "scaler = StandardScaler()\n",
    "models = {\n",
    "    \"RandomForest\": make_pipeline(scaler, RandomForestRegressor(random_state=42)),\n",
    "    \"GradientBoosting\": make_pipeline(scaler, GradientBoostingRegressor(random_state=42)),\n",
    "    \"XGBoost\": make_pipeline(scaler, xgb.XGBRegressor(random_state=42))\n",
    "}\n",
    "\n",
    "for name, model in models.items():\n",
    "    model.fit(X_train, y_train)\n",
    "    preds = model.predict(X_test)\n",
    "    print(f\"\\n{name}\")\n",
    "    print(\"R2 Score:\", r2_score(y_test, preds))\n",
    "    print(\"RMSE:\", root_mean_squared_error(y_test, preds))"
   ]
  },
  {
   "cell_type": "code",
   "execution_count": 19,
   "id": "d5b7b38e",
   "metadata": {},
   "outputs": [
    {
     "name": "stdout",
     "output_type": "stream",
     "text": [
      "Best XGBoost params: {'xgbregressor__n_estimators': 300, 'xgbregressor__max_depth': 5, 'xgbregressor__learning_rate': 0.2}\n"
     ]
    }
   ],
   "source": [
    "param_dist = {\n",
    "    \"xgbregressor__n_estimators\": [100, 200, 300],\n",
    "    \"xgbregressor__max_depth\": [3, 5, 7],\n",
    "    \"xgbregressor__learning_rate\": [0.01, 0.1, 0.2],\n",
    "}\n",
    "\n",
    "search = RandomizedSearchCV(models[\"XGBoost\"], param_distributions=param_dist, cv=3)\n",
    "search.fit(X_train, y_train)\n",
    "print(\"Best XGBoost params:\", search.best_params_)"
   ]
  },
  {
   "cell_type": "code",
   "execution_count": null,
   "id": "663849ec",
   "metadata": {},
   "outputs": [],
   "source": [
    "#joblib.dump(models[\"XGBoost\"], \"xgboost_model.joblib\")\n",
    "#joblib.dump(models[\"RandomForest\"], \"rf_model.joblib\")\n",
    "#joblib.dump(models[\"GradientBoosting\"], \"gb_model.joblib\")"
   ]
  },
  {
   "cell_type": "code",
   "execution_count": 20,
   "id": "18019ce0",
   "metadata": {},
   "outputs": [
    {
     "name": "stdout",
     "output_type": "stream",
     "text": [
      "VotingRegressor R2 Score: 0.8239044743682735\n",
      "VotingRegressor RMSE: 0.4803718953226395\n"
     ]
    }
   ],
   "source": [
    "voting_reg = VotingRegressor(\n",
    "    estimators=[\n",
    "        ('rf', models[\"RandomForest\"]),\n",
    "        ('gb', models[\"GradientBoosting\"]),\n",
    "        ('xgb', models[\"XGBoost\"])\n",
    "    ]\n",
    ")\n",
    "\n",
    "voting_reg.fit(X_train, y_train)\n",
    "\n",
    "y_pred = voting_reg.predict(X_test)\n",
    "\n",
    "print(\"VotingRegressor R2 Score:\", r2_score(y_test, y_pred))\n",
    "print(\"VotingRegressor RMSE:\", root_mean_squared_error(y_test, y_pred))"
   ]
  },
  {
   "cell_type": "code",
   "execution_count": 23,
   "id": "8e870916",
   "metadata": {},
   "outputs": [
    {
     "name": "stdout",
     "output_type": "stream",
     "text": [
      "Best RandomForest params: {'randomforestregressor__max_depth': 20, 'randomforestregressor__min_samples_split': 2, 'randomforestregressor__n_estimators': 300}\n",
      "Best R2: 0.8025522812775104\n"
     ]
    }
   ],
   "source": [
    "from sklearn.model_selection import GridSearchCV\n",
    "\n",
    "param_grid = {\n",
    "    'randomforestregressor__n_estimators': [100, 200, 300],\n",
    "    'randomforestregressor__max_depth': [5, 10, 20],\n",
    "    'randomforestregressor__min_samples_split': [2, 5],\n",
    "}\n",
    "\n",
    "pipeline = make_pipeline(StandardScaler(), RandomForestRegressor())\n",
    "\n",
    "grid_search = GridSearchCV(pipeline, param_grid, cv=3, scoring='r2')\n",
    "grid_search.fit(X_train, y_train)\n",
    "\n",
    "print(\"Best RandomForest params:\", grid_search.best_params_)\n",
    "print(\"Best R2:\", grid_search.best_score_)\n"
   ]
  },
  {
   "cell_type": "code",
   "execution_count": 24,
   "id": "ed50a023",
   "metadata": {},
   "outputs": [
    {
     "name": "stdout",
     "output_type": "stream",
     "text": [
      "Tuned RandomForest R2 on Test: 0.8071700006799537\n",
      "Tuned RandomForest RMSE on Test: 0.5026789854202931\n"
     ]
    }
   ],
   "source": [
    "best_rf = grid_search.best_estimator_\n",
    "y_pred_rf = best_rf.predict(X_test)\n",
    "\n",
    "print(\"Tuned RandomForest R2 on Test:\", r2_score(y_test, y_pred_rf))\n",
    "print(\"Tuned RandomForest RMSE on Test:\", root_mean_squared_error(y_test, y_pred_rf))"
   ]
  },
  {
   "cell_type": "code",
   "execution_count": 25,
   "id": "548d68d8",
   "metadata": {},
   "outputs": [
    {
     "data": {
      "image/png": "[encoded data removed]",
      "text/plain": [
       "<Figure size 640x480 with 1 Axes>"
      ]
     },
     "metadata": {},
     "output_type": "display_data"
    }
   ],
   "source": [
    "import matplotlib.pyplot as plt\n",
    "\n",
    "plt.scatter(y_test, y_pred_rf, alpha=0.5)\n",
    "plt.xlabel(\"True Values\")\n",
    "plt.ylabel(\"Predicted Values\")\n",
    "plt.title(\"RandomForest Predictions vs True MedHouseVal\")\n",
    "plt.plot([y_test.min(), y_test.max()], [y_test.min(), y_test.max()], color='red')\n",
    "plt.grid()\n",
    "plt.show()"
   ]
  },
  {
   "cell_type": "code",
   "execution_count": 26,
   "id": "fa37a8b0",
   "metadata": {},
   "outputs": [
    {
     "name": "stdout",
     "output_type": "stream",
     "text": [
      "      Feature  Importance\n",
      "0      MedInc    0.526368\n",
      "5    AveOccup    0.138464\n",
      "6    Latitude    0.089500\n",
      "7   Longitude    0.089014\n",
      "1    HouseAge    0.053747\n",
      "2    AveRooms    0.043251\n",
      "4  Population    0.030619\n",
      "3   AveBedrms    0.029037\n"
     ]
    }
   ],
   "source": [
    "rf_model = best_rf.named_steps['randomforestregressor']\n",
    "importances = rf_model.feature_importances_\n",
    "feature_names = X_train.columns\n",
    "\n",
    "importance_df = pd.DataFrame({'Feature': feature_names, 'Importance': importances})\n",
    "print(importance_df.sort_values(by='Importance', ascending=False))"
   ]
  }
 ],
 "metadata": {
  "kernelspec": {
   "display_name": "Python 3",
   "language": "python",
   "name": "python3"
  },
  "language_info": {
   "codemirror_mode": {
    "name": "ipython",
    "version": 3
   },
   "file_extension": ".py",
   "mimetype": "text/x-python",
   "name": "python",
   "nbconvert_exporter": "python",
   "pygments_lexer": "ipython3",
   "version": "3.13.2"
  }
 },
 "nbformat": 4,
 "nbformat_minor": 5
}

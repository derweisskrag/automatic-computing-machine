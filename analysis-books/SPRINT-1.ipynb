{
 "cells": [
  {
   "cell_type": "markdown",
   "id": "d5b5ba6e",
   "metadata": {},
   "source": [
    "# Preprocessing our file\n",
    "\n",
    "## Steps\n",
    "\n",
    "- remove duplicates\n",
    "- check datatimes\n",
    "- handle na\n",
    "- check and standardize category labels (e.g., unify “mm” and “Millimeter” in precipitation units).\n",
    "- Ensure all columns meet expectations (e.g., numerical data should not contain text).\n",
    "- Save the cleaned dataset as cleaned_Synthetic_Wind_Power.csv.\n",
    "\n",
    "## How we handle it?\n",
    "\n",
    "It appears that all we have to is to import our API and then just use. We do not need anything more.\n",
    "Currently: we can work with datetime format, handle na values, and remove duplicates. We need the last\n",
    "puzzle: handle types."
   ]
  },
  {
   "cell_type": "markdown",
   "id": "8d407d17",
   "metadata": {},
   "source": [
    "Import all the packages"
   ]
  },
  {
   "cell_type": "code",
   "execution_count": 1,
   "id": "e78f9ef7",
   "metadata": {},
   "outputs": [
    {
     "name": "stdout",
     "output_type": "stream",
     "text": [
      "Path C:\\Users\\Lenovo\\Desktop\\python_app\\tuuleenergia_tomodachi exists.\n"
     ]
    }
   ],
   "source": [
    "# import all package functions\n",
    "from tomodachi_core.tomodachi.services import PandasService, DatetimeService\n",
    "from tomodachi_core.tomodachi.services.preprocess import PreprocessData\n",
    "from tomodachi_core.tomodachi.utils.check_data import validate\n",
    "from tomodachi_core.tomodachi.utils import SUBSETS\n",
    "from config_loader import load_config\n",
    "\n",
    "# prepare to import the file\n",
    "import os\n",
    "import pathlib\n",
    "\n",
    "# get curr dir\n",
    "current_dir = os.getcwd()\n",
    "\n",
    "# find the root using patlihb\n",
    "root_dir = pathlib.Path(current_dir).parents[0].resolve()\n",
    "\n",
    "# path to the config\n",
    "config_path = (root_dir / \"tomodachi_core\" / \"config_development\" / \"config.py\").resolve()\n",
    "\n",
    "# load the config\n",
    "config = load_config(config_path)\n",
    "\n",
    "# Grab the CSV_PATH\n",
    "DIRTY_PATH = config.CSV_PATH\n",
    "\n",
    "# Finally, we have to combine the path\n",
    "DIRTY_PATH = (root_dir / DIRTY_PATH).resolve()"
   ]
  },
  {
   "cell_type": "code",
   "execution_count": 2,
   "id": "f64a5d11",
   "metadata": {},
   "outputs": [],
   "source": [
    "# Initialize services\n",
    "pandas_service = PandasService(str(DIRTY_PATH))\n",
    "loaded_data = pandas_service.load_csv_data()\n",
    "\n",
    "if pandas_service.is_dataframe(loaded_data).is_ok():\n",
    "    df = loaded_data\n",
    "else:\n",
    "    print(\"Could not load the data: \", loaded_data.unwrap())\n",
    "\n"
   ]
  },
  {
   "cell_type": "code",
   "execution_count": 3,
   "id": "3f3f3f9a",
   "metadata": {},
   "outputs": [
    {
     "data": {
      "text/html": [
       "<div>\n",
       "<style scoped>\n",
       "    .dataframe tbody tr th:only-of-type {\n",
       "        vertical-align: middle;\n",
       "    }\n",
       "\n",
       "    .dataframe tbody tr th {\n",
       "        vertical-align: top;\n",
       "    }\n",
       "\n",
       "    .dataframe thead th {\n",
       "        text-align: right;\n",
       "    }\n",
       "</style>\n",
       "<table border=\"1\" class=\"dataframe\">\n",
       "  <thead>\n",
       "    <tr style=\"text-align: right;\">\n",
       "      <th></th>\n",
       "      <th>Timestamp</th>\n",
       "      <th>Wind_Speed</th>\n",
       "      <th>Wind_Gust</th>\n",
       "      <th>Wind_Direction</th>\n",
       "      <th>Temperature</th>\n",
       "      <th>Humidity</th>\n",
       "      <th>Precipitation</th>\n",
       "      <th>Pressure</th>\n",
       "      <th>Cloud_Cover</th>\n",
       "      <th>Solar_Radiation</th>\n",
       "      <th>Hour_of_Day</th>\n",
       "      <th>Day_of_Week</th>\n",
       "      <th>Month</th>\n",
       "      <th>Wind_Speed_Squared</th>\n",
       "      <th>Wind_Speed_Cubed</th>\n",
       "      <th>Power_Output</th>\n",
       "      <th>Precipitation_Unit</th>\n",
       "    </tr>\n",
       "  </thead>\n",
       "  <tbody>\n",
       "    <tr>\n",
       "      <th>0</th>\n",
       "      <td>2020-01-01 00:00:00</td>\n",
       "      <td>0.265077</td>\n",
       "      <td>4.876651</td>\n",
       "      <td>274</td>\n",
       "      <td>2.152885</td>\n",
       "      <td>88.345267</td>\n",
       "      <td>8.519070</td>\n",
       "      <td>997.887007</td>\n",
       "      <td>18.112024</td>\n",
       "      <td>359.985040</td>\n",
       "      <td>0</td>\n",
       "      <td>2</td>\n",
       "      <td>1</td>\n",
       "      <td>0.070266</td>\n",
       "      <td>0.018626</td>\n",
       "      <td>6.001146</td>\n",
       "      <td>mm</td>\n",
       "    </tr>\n",
       "    <tr>\n",
       "      <th>1</th>\n",
       "      <td>2020-01-01 01:00:00</td>\n",
       "      <td>10.727089</td>\n",
       "      <td>13.030088</td>\n",
       "      <td>232</td>\n",
       "      <td>-9.783598</td>\n",
       "      <td>70.172549</td>\n",
       "      <td>0.604355</td>\n",
       "      <td>1021.258081</td>\n",
       "      <td>76.901148</td>\n",
       "      <td>414.169416</td>\n",
       "      <td>1</td>\n",
       "      <td>2</td>\n",
       "      <td>1</td>\n",
       "      <td>115.070448</td>\n",
       "      <td>1234.370982</td>\n",
       "      <td>128.699686</td>\n",
       "      <td>mm</td>\n",
       "    </tr>\n",
       "    <tr>\n",
       "      <th>2</th>\n",
       "      <td>2020-01-01 02:00:00</td>\n",
       "      <td>16.280163</td>\n",
       "      <td>17.651853</td>\n",
       "      <td>175</td>\n",
       "      <td>2.125048</td>\n",
       "      <td>73.305597</td>\n",
       "      <td>2.239670</td>\n",
       "      <td>983.310126</td>\n",
       "      <td>49.615723</td>\n",
       "      <td>150.986509</td>\n",
       "      <td>2</td>\n",
       "      <td>2</td>\n",
       "      <td>1</td>\n",
       "      <td>265.043714</td>\n",
       "      <td>4314.954915</td>\n",
       "      <td>370.222084</td>\n",
       "      <td>mm</td>\n",
       "    </tr>\n",
       "    <tr>\n",
       "      <th>3</th>\n",
       "      <td>2020-01-01 03:00:00</td>\n",
       "      <td>5.110434</td>\n",
       "      <td>9.387124</td>\n",
       "      <td>235</td>\n",
       "      <td>-0.174307</td>\n",
       "      <td>60.924091</td>\n",
       "      <td>1.314233</td>\n",
       "      <td>1032.161577</td>\n",
       "      <td>48.975636</td>\n",
       "      <td>879.761958</td>\n",
       "      <td>3</td>\n",
       "      <td>2</td>\n",
       "      <td>1</td>\n",
       "      <td>26.116535</td>\n",
       "      <td>133.466829</td>\n",
       "      <td>-30.746944</td>\n",
       "      <td>mm</td>\n",
       "    </tr>\n",
       "    <tr>\n",
       "      <th>4</th>\n",
       "      <td>2020-01-01 04:00:00</td>\n",
       "      <td>16.444265</td>\n",
       "      <td>20.349305</td>\n",
       "      <td>1</td>\n",
       "      <td>1.881483</td>\n",
       "      <td>78.893660</td>\n",
       "      <td>9.442267</td>\n",
       "      <td>951.217727</td>\n",
       "      <td>48.506623</td>\n",
       "      <td>752.151006</td>\n",
       "      <td>4</td>\n",
       "      <td>2</td>\n",
       "      <td>1</td>\n",
       "      <td>270.413853</td>\n",
       "      <td>4446.757073</td>\n",
       "      <td>495.256687</td>\n",
       "      <td>mm</td>\n",
       "    </tr>\n",
       "    <tr>\n",
       "      <th>...</th>\n",
       "      <td>...</td>\n",
       "      <td>...</td>\n",
       "      <td>...</td>\n",
       "      <td>...</td>\n",
       "      <td>...</td>\n",
       "      <td>...</td>\n",
       "      <td>...</td>\n",
       "      <td>...</td>\n",
       "      <td>...</td>\n",
       "      <td>...</td>\n",
       "      <td>...</td>\n",
       "      <td>...</td>\n",
       "      <td>...</td>\n",
       "      <td>...</td>\n",
       "      <td>...</td>\n",
       "      <td>...</td>\n",
       "      <td>...</td>\n",
       "    </tr>\n",
       "    <tr>\n",
       "      <th>30295</th>\n",
       "      <td>2023-03-09 00:00:00</td>\n",
       "      <td>19.155799</td>\n",
       "      <td>21.753286</td>\n",
       "      <td>48</td>\n",
       "      <td>NaN</td>\n",
       "      <td>71.432872</td>\n",
       "      <td>8.045355</td>\n",
       "      <td>970.138601</td>\n",
       "      <td>19.993591</td>\n",
       "      <td>981.661646</td>\n",
       "      <td>0</td>\n",
       "      <td>3</td>\n",
       "      <td>3</td>\n",
       "      <td>366.944632</td>\n",
       "      <td>7029.117569</td>\n",
       "      <td>697.938093</td>\n",
       "      <td>mm</td>\n",
       "    </tr>\n",
       "    <tr>\n",
       "      <th>30296</th>\n",
       "      <td>2021-06-20 04:00:00</td>\n",
       "      <td>4.255135</td>\n",
       "      <td>6.760641</td>\n",
       "      <td>143</td>\n",
       "      <td>29.918565</td>\n",
       "      <td>68.584030</td>\n",
       "      <td>3.477158</td>\n",
       "      <td>962.814249</td>\n",
       "      <td>22.214235</td>\n",
       "      <td>437.033112</td>\n",
       "      <td>4</td>\n",
       "      <td>6</td>\n",
       "      <td>6</td>\n",
       "      <td>18.106171</td>\n",
       "      <td>77.044199</td>\n",
       "      <td>28.517725</td>\n",
       "      <td>mm</td>\n",
       "    </tr>\n",
       "    <tr>\n",
       "      <th>30297</th>\n",
       "      <td>2021-03-26 06:00:00</td>\n",
       "      <td>14.315677</td>\n",
       "      <td>15.489399</td>\n",
       "      <td>47</td>\n",
       "      <td>3.875054</td>\n",
       "      <td>50.875164</td>\n",
       "      <td>1.915244</td>\n",
       "      <td>1014.743275</td>\n",
       "      <td>98.855762</td>\n",
       "      <td>162.440760</td>\n",
       "      <td>6</td>\n",
       "      <td>4</td>\n",
       "      <td>3</td>\n",
       "      <td>204.938595</td>\n",
       "      <td>2933.834635</td>\n",
       "      <td>362.628620</td>\n",
       "      <td>mm</td>\n",
       "    </tr>\n",
       "    <tr>\n",
       "      <th>30298</th>\n",
       "      <td>2020-03-27 13:00:00</td>\n",
       "      <td>18.209074</td>\n",
       "      <td>23.172418</td>\n",
       "      <td>71</td>\n",
       "      <td>7.155587</td>\n",
       "      <td>64.865156</td>\n",
       "      <td>5.935101</td>\n",
       "      <td>1035.863647</td>\n",
       "      <td>20.872151</td>\n",
       "      <td>953.018941</td>\n",
       "      <td>13</td>\n",
       "      <td>4</td>\n",
       "      <td>3</td>\n",
       "      <td>331.570365</td>\n",
       "      <td>6037.589202</td>\n",
       "      <td>607.445627</td>\n",
       "      <td>mm</td>\n",
       "    </tr>\n",
       "    <tr>\n",
       "      <th>30299</th>\n",
       "      <td>2022-12-03 09:00:00</td>\n",
       "      <td>2.660925</td>\n",
       "      <td>5.066079</td>\n",
       "      <td>191</td>\n",
       "      <td>1.515736</td>\n",
       "      <td>63.662077</td>\n",
       "      <td>1.218030</td>\n",
       "      <td>969.038910</td>\n",
       "      <td>44.053325</td>\n",
       "      <td>102.506264</td>\n",
       "      <td>9</td>\n",
       "      <td>5</td>\n",
       "      <td>12</td>\n",
       "      <td>7.080524</td>\n",
       "      <td>18.840748</td>\n",
       "      <td>-41.994970</td>\n",
       "      <td>mm</td>\n",
       "    </tr>\n",
       "  </tbody>\n",
       "</table>\n",
       "<p>30300 rows × 17 columns</p>\n",
       "</div>"
      ],
      "text/plain": [
       "                Timestamp  Wind_Speed  Wind_Gust  Wind_Direction  Temperature  \\\n",
       "0     2020-01-01 00:00:00    0.265077   4.876651             274     2.152885   \n",
       "1     2020-01-01 01:00:00   10.727089  13.030088             232    -9.783598   \n",
       "2     2020-01-01 02:00:00   16.280163  17.651853             175     2.125048   \n",
       "3     2020-01-01 03:00:00    5.110434   9.387124             235    -0.174307   \n",
       "4     2020-01-01 04:00:00   16.444265  20.349305               1     1.881483   \n",
       "...                   ...         ...        ...             ...          ...   \n",
       "30295 2023-03-09 00:00:00   19.155799  21.753286              48          NaN   \n",
       "30296 2021-06-20 04:00:00    4.255135   6.760641             143    29.918565   \n",
       "30297 2021-03-26 06:00:00   14.315677  15.489399              47     3.875054   \n",
       "30298 2020-03-27 13:00:00   18.209074  23.172418              71     7.155587   \n",
       "30299 2022-12-03 09:00:00    2.660925   5.066079             191     1.515736   \n",
       "\n",
       "        Humidity  Precipitation     Pressure  Cloud_Cover  Solar_Radiation  \\\n",
       "0      88.345267       8.519070   997.887007    18.112024       359.985040   \n",
       "1      70.172549       0.604355  1021.258081    76.901148       414.169416   \n",
       "2      73.305597       2.239670   983.310126    49.615723       150.986509   \n",
       "3      60.924091       1.314233  1032.161577    48.975636       879.761958   \n",
       "4      78.893660       9.442267   951.217727    48.506623       752.151006   \n",
       "...          ...            ...          ...          ...              ...   \n",
       "30295  71.432872       8.045355   970.138601    19.993591       981.661646   \n",
       "30296  68.584030       3.477158   962.814249    22.214235       437.033112   \n",
       "30297  50.875164       1.915244  1014.743275    98.855762       162.440760   \n",
       "30298  64.865156       5.935101  1035.863647    20.872151       953.018941   \n",
       "30299  63.662077       1.218030   969.038910    44.053325       102.506264   \n",
       "\n",
       "       Hour_of_Day  Day_of_Week  Month  Wind_Speed_Squared  Wind_Speed_Cubed  \\\n",
       "0                0            2      1            0.070266          0.018626   \n",
       "1                1            2      1          115.070448       1234.370982   \n",
       "2                2            2      1          265.043714       4314.954915   \n",
       "3                3            2      1           26.116535        133.466829   \n",
       "4                4            2      1          270.413853       4446.757073   \n",
       "...            ...          ...    ...                 ...               ...   \n",
       "30295            0            3      3          366.944632       7029.117569   \n",
       "30296            4            6      6           18.106171         77.044199   \n",
       "30297            6            4      3          204.938595       2933.834635   \n",
       "30298           13            4      3          331.570365       6037.589202   \n",
       "30299            9            5     12            7.080524         18.840748   \n",
       "\n",
       "       Power_Output Precipitation_Unit  \n",
       "0          6.001146                 mm  \n",
       "1        128.699686                 mm  \n",
       "2        370.222084                 mm  \n",
       "3        -30.746944                 mm  \n",
       "4        495.256687                 mm  \n",
       "...             ...                ...  \n",
       "30295    697.938093                 mm  \n",
       "30296     28.517725                 mm  \n",
       "30297    362.628620                 mm  \n",
       "30298    607.445627                 mm  \n",
       "30299    -41.994970                 mm  \n",
       "\n",
       "[30300 rows x 17 columns]"
      ]
     },
     "execution_count": 3,
     "metadata": {},
     "output_type": "execute_result"
    }
   ],
   "source": [
    "df"
   ]
  },
  {
   "cell_type": "code",
   "execution_count": 4,
   "id": "afb953f7",
   "metadata": {},
   "outputs": [
    {
     "data": {
      "text/plain": [
       "Timestamp             datetime64[ns]\n",
       "Wind_Speed                   float64\n",
       "Wind_Gust                    float64\n",
       "Wind_Direction                 int64\n",
       "Temperature                  float64\n",
       "Humidity                     float64\n",
       "Precipitation                float64\n",
       "Pressure                     float64\n",
       "Cloud_Cover                  float64\n",
       "Solar_Radiation              float64\n",
       "Hour_of_Day                    int64\n",
       "Day_of_Week                    int64\n",
       "Month                          int64\n",
       "Wind_Speed_Squared           float64\n",
       "Wind_Speed_Cubed             float64\n",
       "Power_Output                 float64\n",
       "Precipitation_Unit            object\n",
       "dtype: object"
      ]
     },
     "execution_count": 4,
     "metadata": {},
     "output_type": "execute_result"
    }
   ],
   "source": [
    "df.dtypes"
   ]
  },
  {
   "cell_type": "markdown",
   "id": "db75fbf6",
   "metadata": {},
   "source": [
    "## Here we can show that:\n",
    "\n",
    "- All datetimes are automatically converted to `Datetime[ns64]` type by Pandas & Numpy\n",
    "- There are no `Unnamed: 0` Columns!\n",
    "- There are no `millimeters` instead of `mm` \n",
    "- There are no missing values like NaT, NaN or None -> Using Pandas, Scipy, we ensure type safety!"
   ]
  },
  {
   "cell_type": "code",
   "execution_count": 5,
   "id": "e1f849fc",
   "metadata": {},
   "outputs": [
    {
     "data": {
      "text/plain": [
       "Ok(                Timestamp  Wind_Speed  Wind_Gust  Wind_Direction  Temperature  \\\n",
       "0     2020-01-01 00:00:00    0.265077   4.876651             274     2.152885   \n",
       "1     2020-01-01 01:00:00   10.727089  13.030088             232    -9.783598   \n",
       "2     2020-01-01 02:00:00   16.280163  17.651853             175     2.125048   \n",
       "3     2020-01-01 03:00:00    5.110434   9.387124             235    -0.174307   \n",
       "4     2020-01-01 04:00:00   16.444265  20.349305               1     1.881483   \n",
       "...                   ...         ...        ...             ...          ...   \n",
       "30295 2023-03-09 00:00:00   19.155799  21.753286              48          NaN   \n",
       "30296 2021-06-20 04:00:00    4.255135   6.760641             143    29.918565   \n",
       "30297 2021-03-26 06:00:00   14.315677  15.489399              47     3.875054   \n",
       "30298 2020-03-27 13:00:00   18.209074  23.172418              71     7.155587   \n",
       "30299 2022-12-03 09:00:00    2.660925   5.066079             191     1.515736   \n",
       "\n",
       "        Humidity  Precipitation     Pressure  Cloud_Cover  Solar_Radiation  \\\n",
       "0      88.345267       8.519070   997.887007    18.112024       359.985040   \n",
       "1      70.172549       0.604355  1021.258081    76.901148       414.169416   \n",
       "2      73.305597       2.239670   983.310126    49.615723       150.986509   \n",
       "3      60.924091       1.314233  1032.161577    48.975636       879.761958   \n",
       "4      78.893660       9.442267   951.217727    48.506623       752.151006   \n",
       "...          ...            ...          ...          ...              ...   \n",
       "30295  71.432872       8.045355   970.138601    19.993591       981.661646   \n",
       "30296  68.584030       3.477158   962.814249    22.214235       437.033112   \n",
       "30297  50.875164       1.915244  1014.743275    98.855762       162.440760   \n",
       "30298  64.865156       5.935101  1035.863647    20.872151       953.018941   \n",
       "30299  63.662077       1.218030   969.038910    44.053325       102.506264   \n",
       "\n",
       "       Hour_of_Day  Day_of_Week  Month  Wind_Speed_Squared  Wind_Speed_Cubed  \\\n",
       "0                0            2      1            0.070266          0.018626   \n",
       "1                1            2      1          115.070448       1234.370982   \n",
       "2                2            2      1          265.043714       4314.954915   \n",
       "3                3            2      1           26.116535        133.466829   \n",
       "4                4            2      1          270.413853       4446.757073   \n",
       "...            ...          ...    ...                 ...               ...   \n",
       "30295            0            3      3          366.944632       7029.117569   \n",
       "30296            4            6      6           18.106171         77.044199   \n",
       "30297            6            4      3          204.938595       2933.834635   \n",
       "30298           13            4      3          331.570365       6037.589202   \n",
       "30299            9            5     12            7.080524         18.840748   \n",
       "\n",
       "       Power_Output Precipitation_Unit  \n",
       "0          6.001146                 mm  \n",
       "1        128.699686                 mm  \n",
       "2        370.222084                 mm  \n",
       "3        -30.746944                 mm  \n",
       "4        495.256687                 mm  \n",
       "...             ...                ...  \n",
       "30295    697.938093                 mm  \n",
       "30296     28.517725                 mm  \n",
       "30297    362.628620                 mm  \n",
       "30298    607.445627                 mm  \n",
       "30299    -41.994970                 mm  \n",
       "\n",
       "[30300 rows x 17 columns])"
      ]
     },
     "execution_count": 5,
     "metadata": {},
     "output_type": "execute_result"
    }
   ],
   "source": [
    "pandas_service.get_df()"
   ]
  },
  {
   "cell_type": "code",
   "execution_count": 6,
   "id": "cad07793",
   "metadata": {},
   "outputs": [],
   "source": [
    "# MORE EXPLICITLY:\n",
    "precipitation_units_df = pandas_service.get_df().unwrap()['Precipitation_Unit'] # We removed millimeters? Hm. But we did not call a single function."
   ]
  },
  {
   "cell_type": "code",
   "execution_count": 7,
   "id": "f063872b",
   "metadata": {},
   "outputs": [
    {
     "name": "stdout",
     "output_type": "stream",
     "text": [
      "We have millimeters at all? False\n"
     ]
    }
   ],
   "source": [
    "print(\"We have millimeters at all?\", any(wrong_unit in precipitation_units_df for wrong_unit in [\"mL\", \"mM\", \"milimeter\"]))"
   ]
  },
  {
   "cell_type": "code",
   "execution_count": 8,
   "id": "e165c3cf",
   "metadata": {},
   "outputs": [
    {
     "data": {
      "text/plain": [
       "False"
      ]
     },
     "execution_count": 8,
     "metadata": {},
     "output_type": "execute_result"
    }
   ],
   "source": [
    "\"Mm\" in precipitation_units_df"
   ]
  },
  {
   "cell_type": "code",
   "execution_count": 9,
   "id": "eb1e9227",
   "metadata": {},
   "outputs": [
    {
     "name": "stdout",
     "output_type": "stream",
     "text": [
      "How many NaNs we got there? Your guess?\n",
      "Actual:  Timestamp                0\n",
      "Wind_Speed            1520\n",
      "Wind_Gust                0\n",
      "Wind_Direction           0\n",
      "Temperature           1522\n",
      "Humidity              1514\n",
      "Precipitation            0\n",
      "Pressure                 0\n",
      "Cloud_Cover              0\n",
      "Solar_Radiation       1517\n",
      "Hour_of_Day              0\n",
      "Day_of_Week              0\n",
      "Month                    0\n",
      "Wind_Speed_Squared       0\n",
      "Wind_Speed_Cubed         0\n",
      "Power_Output          1511\n",
      "Precipitation_Unit       0\n",
      "dtype: int64\n"
     ]
    }
   ],
   "source": [
    "our_loaded_df = pandas_service.get_df().expect(\"DataFrame is not empty\")\n",
    "print(\"How many NaNs we got there? Your guess?\") # 0\n",
    "print(\"Actual: \", our_loaded_df.isna().sum()) # Holy! There are indeed zero! Wow! We did something insanely hard!"
   ]
  },
  {
   "cell_type": "markdown",
   "id": "8d3eaaa9",
   "metadata": {},
   "source": [
    "#### At this point, we handle duplicate values\n",
    "\n",
    "\n",
    "Notice that we store current subsets of our models. The function is generic (accepts columns as input, rather hard-coded)\n",
    "\n",
    "We match the result (if succeded to remove) to get Ok(()) and then update. If we encounter an error, we have two ways:\n",
    "\n",
    "- Shut down the application or our analysis\n",
    "- Propagate the error from lower layer to higher and then study what happened -> fix."
   ]
  },
  {
   "cell_type": "code",
   "execution_count": 10,
   "id": "07602ac7",
   "metadata": {},
   "outputs": [
    {
     "data": {
      "text/plain": [
       "{'subsets': ['Timestamp', 'Wind_Speed', 'Wind_Gust', 'Wind_Direction']}"
      ]
     },
     "execution_count": 10,
     "metadata": {},
     "output_type": "execute_result"
    }
   ],
   "source": [
    "SUBSETS"
   ]
  },
  {
   "cell_type": "code",
   "execution_count": 11,
   "id": "7da60c99",
   "metadata": {},
   "outputs": [
    {
     "data": {
      "text/plain": [
       "np.int64(300)"
      ]
     },
     "execution_count": 11,
     "metadata": {},
     "output_type": "execute_result"
    }
   ],
   "source": [
    "pandas_service.get_df().unwrap().duplicated(subset=SUBSETS.get(\"subsets\", [\"Timestamp\"])).sum().sum()"
   ]
  },
  {
   "cell_type": "code",
   "execution_count": 12,
   "id": "05b5483c",
   "metadata": {},
   "outputs": [],
   "source": [
    "response = pandas_service.remove_duplicates(subset=SUBSETS.get(\"subsets\", [\"Timestamp\"]))"
   ]
  },
  {
   "cell_type": "code",
   "execution_count": 13,
   "id": "0a7ea938",
   "metadata": {},
   "outputs": [
    {
     "data": {
      "text/plain": [
       "Ok(                Timestamp  Wind_Speed  Wind_Gust  Wind_Direction  Temperature  \\\n",
       "0     2020-01-01 00:00:00    0.265077   4.876651             274     2.152885   \n",
       "1     2020-01-01 01:00:00   10.727089  13.030088             232    -9.783598   \n",
       "2     2020-01-01 02:00:00   16.280163  17.651853             175     2.125048   \n",
       "3     2020-01-01 03:00:00    5.110434   9.387124             235    -0.174307   \n",
       "4     2020-01-01 04:00:00   16.444265  20.349305               1     1.881483   \n",
       "...                   ...         ...        ...             ...          ...   \n",
       "29995 2023-06-03 19:00:00   14.038603  15.448871              33    17.966169   \n",
       "29996 2023-06-03 20:00:00         NaN  20.936323             113    20.851254   \n",
       "29997 2023-06-03 21:00:00    7.267274   9.518739             294    26.768642   \n",
       "29998 2023-06-03 22:00:00   17.993004  20.718309             332    28.712751   \n",
       "29999 2023-06-03 23:00:00   18.313681  18.322069              69    12.556596   \n",
       "\n",
       "        Humidity  Precipitation     Pressure  Cloud_Cover  Solar_Radiation  \\\n",
       "0      88.345267       8.519070   997.887007    18.112024       359.985040   \n",
       "1      70.172549       0.604355  1021.258081    76.901148       414.169416   \n",
       "2      73.305597       2.239670   983.310126    49.615723       150.986509   \n",
       "3      60.924091       1.314233  1032.161577    48.975636       879.761958   \n",
       "4      78.893660       9.442267   951.217727    48.506623       752.151006   \n",
       "...          ...            ...          ...          ...              ...   \n",
       "29995  58.951727       1.671178   974.805014    96.604976       327.931566   \n",
       "29996  45.662581       5.376946  1010.168380    45.460144       124.431132   \n",
       "29997  54.446902       4.640283  1030.399016    74.430948       363.282709   \n",
       "29998  42.605638       1.539080   993.555765    41.156055       791.169689   \n",
       "29999  45.204016       3.150872   988.756583    43.568507       663.982303   \n",
       "\n",
       "       Hour_of_Day  Day_of_Week  Month  Wind_Speed_Squared  Wind_Speed_Cubed  \\\n",
       "0                0            2      1            0.070266          0.018626   \n",
       "1                1            2      1          115.070448       1234.370982   \n",
       "2                2            2      1          265.043714       4314.954915   \n",
       "3                3            2      1           26.116535        133.466829   \n",
       "4                4            2      1          270.413853       4446.757073   \n",
       "...            ...          ...    ...                 ...               ...   \n",
       "29995           19            5      6          197.082370       2766.761113   \n",
       "29996           20            5      6          355.631369       6706.564301   \n",
       "29997           21            5      6           52.813270        383.808500   \n",
       "29998           22            5      6          323.748190       5825.202451   \n",
       "29999           23            5      6          335.390923       6142.242479   \n",
       "\n",
       "       Power_Output Precipitation_Unit  \n",
       "0          6.001146                 mm  \n",
       "1        128.699686                 mm  \n",
       "2        370.222084                 mm  \n",
       "3        -30.746944                 mm  \n",
       "4        495.256687                 mm  \n",
       "...             ...                ...  \n",
       "29995    396.956699                 mm  \n",
       "29996    653.633256                 mm  \n",
       "29997     46.179854                 mm  \n",
       "29998    517.191273                 mm  \n",
       "29999    572.325512                 mm  \n",
       "\n",
       "[30000 rows x 17 columns])"
      ]
     },
     "execution_count": 13,
     "metadata": {},
     "output_type": "execute_result"
    }
   ],
   "source": [
    "response"
   ]
  },
  {
   "cell_type": "code",
   "execution_count": 14,
   "id": "f4bb3c15",
   "metadata": {},
   "outputs": [],
   "source": [
    "cleaned_df = response.unwrap()"
   ]
  },
  {
   "cell_type": "code",
   "execution_count": 15,
   "id": "71f56647",
   "metadata": {},
   "outputs": [
    {
     "data": {
      "text/plain": [
       "Timestamp             datetime64[ns]\n",
       "Wind_Speed                   float64\n",
       "Wind_Gust                    float64\n",
       "Wind_Direction                 int64\n",
       "Temperature                  float64\n",
       "Humidity                     float64\n",
       "Precipitation                float64\n",
       "Pressure                     float64\n",
       "Cloud_Cover                  float64\n",
       "Solar_Radiation              float64\n",
       "Hour_of_Day                    int64\n",
       "Day_of_Week                    int64\n",
       "Month                          int64\n",
       "Wind_Speed_Squared           float64\n",
       "Wind_Speed_Cubed             float64\n",
       "Power_Output                 float64\n",
       "Precipitation_Unit            object\n",
       "dtype: object"
      ]
     },
     "execution_count": 15,
     "metadata": {},
     "output_type": "execute_result"
    }
   ],
   "source": [
    "cleaned_df.dtypes"
   ]
  },
  {
   "cell_type": "code",
   "execution_count": null,
   "id": "8cc77e92",
   "metadata": {},
   "outputs": [],
   "source": []
  },
  {
   "cell_type": "markdown",
   "id": "2947aba1",
   "metadata": {},
   "source": [
    "At this point we simply check types and finish off the preprocessing"
   ]
  },
  {
   "cell_type": "code",
   "execution_count": 16,
   "id": "3a0b26fc",
   "metadata": {},
   "outputs": [],
   "source": [
    "is_validated = validate(cleaned_df) # we can create Getter\n",
    "if not is_validated:\n",
    "    print(\"Failure! Some types are invalid!\")"
   ]
  },
  {
   "cell_type": "code",
   "execution_count": 17,
   "id": "c952e6ee",
   "metadata": {},
   "outputs": [
    {
     "data": {
      "text/plain": [
       "Timestamp                0\n",
       "Wind_Speed            1500\n",
       "Wind_Gust                0\n",
       "Wind_Direction           0\n",
       "Temperature           1500\n",
       "Humidity              1500\n",
       "Precipitation            0\n",
       "Pressure                 0\n",
       "Cloud_Cover              0\n",
       "Solar_Radiation       1500\n",
       "Hour_of_Day              0\n",
       "Day_of_Week              0\n",
       "Month                    0\n",
       "Wind_Speed_Squared       0\n",
       "Wind_Speed_Cubed         0\n",
       "Power_Output          1500\n",
       "Precipitation_Unit       0\n",
       "dtype: int64"
      ]
     },
     "execution_count": 17,
     "metadata": {},
     "output_type": "execute_result"
    }
   ],
   "source": [
    "cleaned_df.isna().sum()"
   ]
  },
  {
   "cell_type": "code",
   "execution_count": 18,
   "id": "38a230fa",
   "metadata": {},
   "outputs": [],
   "source": [
    "# We can use Imputer\n",
    "from tomodachi_core.common_types.option import Some\n",
    "from tomodachi_core.common_types.result import Ok, Err\n",
    "imputed_df = None\n",
    "\n",
    "# print(pandas_service.preprocess_df(cleaned_df, \"mean\", None))\n",
    "\n",
    "result = pandas_service.preprocess_df(cleaned_df, \"mean\", None)\n",
    "\n",
    "match result:\n",
    "    case some_df if some_df.is_some():\n",
    "        imputed_df = some_df\n",
    "    case None:\n",
    "        print(\"We could not impute the dataframe\")\n",
    "\n"
   ]
  },
  {
   "cell_type": "code",
   "execution_count": 19,
   "id": "93627a80",
   "metadata": {},
   "outputs": [
    {
     "data": {
      "text/plain": [
       "Some(                Timestamp  Wind_Speed  Wind_Gust  Wind_Direction  Temperature  \\\n",
       "0     2020-01-01 00:00:00    0.265077   4.876651           274.0     2.152885   \n",
       "1     2020-01-01 01:00:00   10.727089  13.030088           232.0    -9.783598   \n",
       "2     2020-01-01 02:00:00   16.280163  17.651853           175.0     2.125048   \n",
       "3     2020-01-01 03:00:00    5.110434   9.387124           235.0    -0.174307   \n",
       "4     2020-01-01 04:00:00   16.444265  20.349305             1.0     1.881483   \n",
       "...                   ...         ...        ...             ...          ...   \n",
       "29995 2023-06-03 19:00:00   14.038603  15.448871            33.0    17.966169   \n",
       "29996 2023-06-03 20:00:00   11.994570  20.936323           113.0    20.851254   \n",
       "29997 2023-06-03 21:00:00    7.267274   9.518739           294.0    26.768642   \n",
       "29998 2023-06-03 22:00:00   17.993004  20.718309           332.0    28.712751   \n",
       "29999 2023-06-03 23:00:00   18.313681  18.322069            69.0    12.556596   \n",
       "\n",
       "        Humidity  Precipitation     Pressure  Cloud_Cover  Solar_Radiation  \\\n",
       "0      88.345267       8.519070   997.887007    18.112024       359.985040   \n",
       "1      70.172549       0.604355  1021.258081    76.901148       414.169416   \n",
       "2      73.305597       2.239670   983.310126    49.615723       150.986509   \n",
       "3      60.924091       1.314233  1032.161577    48.975636       879.761958   \n",
       "4      78.893660       9.442267   951.217727    48.506623       752.151006   \n",
       "...          ...            ...          ...          ...              ...   \n",
       "29995  58.951727       1.671178   974.805014    96.604976       327.931566   \n",
       "29996  45.662581       5.376946  1010.168380    45.460144       124.431132   \n",
       "29997  54.446902       4.640283  1030.399016    74.430948       363.282709   \n",
       "29998  42.605638       1.539080   993.555765    41.156055       791.169689   \n",
       "29999  45.204016       3.150872   988.756583    43.568507       663.982303   \n",
       "\n",
       "       Hour_of_Day  Day_of_Week  Month  Wind_Speed_Squared  Wind_Speed_Cubed  \\\n",
       "0              0.0          2.0    1.0            0.070266          0.018626   \n",
       "1              1.0          2.0    1.0          115.070448       1234.370982   \n",
       "2              2.0          2.0    1.0          265.043714       4314.954915   \n",
       "3              3.0          2.0    1.0           26.116535        133.466829   \n",
       "4              4.0          2.0    1.0          270.413853       4446.757073   \n",
       "...            ...          ...    ...                 ...               ...   \n",
       "29995         19.0          5.0    6.0          197.082370       2766.761113   \n",
       "29996         20.0          5.0    6.0          355.631369       6706.564301   \n",
       "29997         21.0          5.0    6.0           52.813270        383.808500   \n",
       "29998         22.0          5.0    6.0          323.748190       5825.202451   \n",
       "29999         23.0          5.0    6.0          335.390923       6142.242479   \n",
       "\n",
       "       Power_Output Precipitation_Unit  \n",
       "0          6.001146                 mm  \n",
       "1        128.699686                 mm  \n",
       "2        370.222084                 mm  \n",
       "3        -30.746944                 mm  \n",
       "4        495.256687                 mm  \n",
       "...             ...                ...  \n",
       "29995    396.956699                 mm  \n",
       "29996    653.633256                 mm  \n",
       "29997     46.179854                 mm  \n",
       "29998    517.191273                 mm  \n",
       "29999    572.325512                 mm  \n",
       "\n",
       "[30000 rows x 17 columns])"
      ]
     },
     "execution_count": 19,
     "metadata": {},
     "output_type": "execute_result"
    }
   ],
   "source": [
    "imputed_df"
   ]
  },
  {
   "cell_type": "code",
   "execution_count": 20,
   "id": "01f9d198",
   "metadata": {},
   "outputs": [
    {
     "data": {
      "text/plain": [
       "Timestamp             0\n",
       "Wind_Speed            0\n",
       "Wind_Gust             0\n",
       "Wind_Direction        0\n",
       "Temperature           0\n",
       "Humidity              0\n",
       "Precipitation         0\n",
       "Pressure              0\n",
       "Cloud_Cover           0\n",
       "Solar_Radiation       0\n",
       "Hour_of_Day           0\n",
       "Day_of_Week           0\n",
       "Month                 0\n",
       "Wind_Speed_Squared    0\n",
       "Wind_Speed_Cubed      0\n",
       "Power_Output          0\n",
       "Precipitation_Unit    0\n",
       "dtype: int64"
      ]
     },
     "execution_count": 20,
     "metadata": {},
     "output_type": "execute_result"
    }
   ],
   "source": [
    "imputed_df.unwrap().isna().sum()"
   ]
  },
  {
   "cell_type": "markdown",
   "id": "27cabef4",
   "metadata": {},
   "source": [
    "#### Why is going on? We showcase that we can use multiple columns differently imputed."
   ]
  },
  {
   "cell_type": "code",
   "execution_count": 21,
   "id": "3d8d2365",
   "metadata": {},
   "outputs": [],
   "source": [
    "# We can also choose different strategies: \n",
    "Temperatures = cleaned_df[[\"Temperature\"]]\n",
    "Wind_Speed = cleaned_df[[\"Wind_Speed\"]]\n",
    "Humidity = cleaned_df[[\"Humidity\"]]\n",
    "\n",
    "imputed_temperatures = pandas_service.preprocess_df(Temperatures, \"median\", None).unwrap()\n",
    "imputed_wind_speed = pandas_service.preprocess_df(Wind_Speed, \"mean\", None).unwrap()\n",
    "imputed_humidity = pandas_service.preprocess_df(Humidity, \"most_frequent\", None).unwrap() # Some(Humidity_def)\n",
    "new_imputed_df = cleaned_df.copy()"
   ]
  },
  {
   "cell_type": "code",
   "execution_count": 22,
   "id": "1a6ca72a",
   "metadata": {},
   "outputs": [],
   "source": [
    "columns_to_impute = [\n",
    "    (\"Temperature\", imputed_temperatures),\n",
    "    (\"Wind_Speed\", imputed_wind_speed),\n",
    "    (\"Humidity\", imputed_humidity),\n",
    "]\n",
    "\n",
    "for col, result in columns_to_impute:\n",
    "    new_imputed_df[col] = result"
   ]
  },
  {
   "cell_type": "code",
   "execution_count": 23,
   "id": "247e06a2",
   "metadata": {},
   "outputs": [
    {
     "data": {
      "text/plain": [
       "Timestamp                0\n",
       "Wind_Speed               0\n",
       "Wind_Gust                0\n",
       "Wind_Direction           0\n",
       "Temperature              0\n",
       "Humidity                 0\n",
       "Precipitation            0\n",
       "Pressure                 0\n",
       "Cloud_Cover              0\n",
       "Solar_Radiation       1500\n",
       "Hour_of_Day              0\n",
       "Day_of_Week              0\n",
       "Month                    0\n",
       "Wind_Speed_Squared       0\n",
       "Wind_Speed_Cubed         0\n",
       "Power_Output          1500\n",
       "Precipitation_Unit       0\n",
       "dtype: int64"
      ]
     },
     "execution_count": 23,
     "metadata": {},
     "output_type": "execute_result"
    }
   ],
   "source": [
    "new_imputed_df.isna().sum()"
   ]
  },
  {
   "cell_type": "markdown",
   "id": "5536ce96",
   "metadata": {},
   "source": [
    "### The end. We just save the file\n",
    "\n",
    "It is commented out because we do not want to save it everytime. Okay? So, we keep it one time only."
   ]
  },
  {
   "cell_type": "code",
   "execution_count": 25,
   "id": "a8e313f0",
   "metadata": {},
   "outputs": [
    {
     "name": "stderr",
     "output_type": "stream",
     "text": [
      "INFO:root:DataFrame updated successfully.\n"
     ]
    },
    {
     "data": {
      "text/plain": [
       "<tomodachi_core.tomodachi.services.pandas_service.PandasService at 0x1d3963df770>"
      ]
     },
     "execution_count": 25,
     "metadata": {},
     "output_type": "execute_result"
    }
   ],
   "source": [
    "# Update the df\n",
    "pandas_service.update_dataframe(imputed_df.unwrap())"
   ]
  },
  {
   "cell_type": "code",
   "execution_count": 26,
   "id": "085f6e77",
   "metadata": {},
   "outputs": [
    {
     "data": {
      "text/plain": [
       "Timestamp             0\n",
       "Wind_Speed            0\n",
       "Wind_Gust             0\n",
       "Wind_Direction        0\n",
       "Temperature           0\n",
       "Humidity              0\n",
       "Precipitation         0\n",
       "Pressure              0\n",
       "Cloud_Cover           0\n",
       "Solar_Radiation       0\n",
       "Hour_of_Day           0\n",
       "Day_of_Week           0\n",
       "Month                 0\n",
       "Wind_Speed_Squared    0\n",
       "Wind_Speed_Cubed      0\n",
       "Power_Output          0\n",
       "Precipitation_Unit    0\n",
       "dtype: int64"
      ]
     },
     "execution_count": 26,
     "metadata": {},
     "output_type": "execute_result"
    }
   ],
   "source": [
    "pandas_service.get_df().unwrap().isna().sum()"
   ]
  },
  {
   "cell_type": "code",
   "execution_count": null,
   "id": "8aa1c3b8",
   "metadata": {},
   "outputs": [
    {
     "name": "stderr",
     "output_type": "stream",
     "text": [
      "INFO:root:DataFrame saved successfully to C:\\Users\\Lenovo\\Desktop\\python_app\\tuuleenergia_tomodachi\\shared\\data\\processed\\cleaned_Synthetic_Wind_Power.csv.\n"
     ]
    },
    {
     "data": {
      "text/plain": [
       "<tomodachi_core.tomodachi.services.pandas_service.PandasService at 0x1d3963df770>"
      ]
     },
     "execution_count": 27,
     "metadata": {},
     "output_type": "execute_result"
    }
   ],
   "source": [
    "# At this point our job is done.\n",
    "# We keep this commented out because we do NOT save the file everytime\n",
    "#path_to_save = (root_dir / \"shared\" / \"data\" / \"processed\" / \"cleaned_Synthetic_Wind_Power.csv\").resolve()\n",
    "#pandas_service.save_dataframe(path_to_save)"
   ]
  }
 ],
 "metadata": {
  "kernelspec": {
   "display_name": "Python 3",
   "language": "python",
   "name": "python3"
  },
  "language_info": {
   "codemirror_mode": {
    "name": "ipython",
    "version": 3
   },
   "file_extension": ".py",
   "mimetype": "text/x-python",
   "name": "python",
   "nbconvert_exporter": "python",
   "pygments_lexer": "ipython3",
   "version": "3.13.2"
  }
 },
 "nbformat": 4,
 "nbformat_minor": 5
}

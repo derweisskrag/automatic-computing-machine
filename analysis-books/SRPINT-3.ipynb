{
 "cells": [
  {
   "cell_type": "markdown",
   "id": "556c386d",
   "metadata": {},
   "source": [
    "**Sprint 3: Machine Learning Preparation**\n",
    "**Goal:** Develop model inputs and target variables.\n",
    "\n",
    "**Tasks:**\n",
    "\n",
    "1. **Creating the Target Variable: Energy Output Prediction**\n",
    "\n",
    "   * Create the target variable `Power_Output`, which predicts the next hour's energy production.\n",
    "\n",
    "2. **Creating Time and Weather-Dependent Features**\n",
    "\n",
    "   * Extract features such as day of the week, hour, and average weather conditions over the past 6 hours.\n",
    "\n",
    "3. **Encoding Categorical Features**\n",
    "\n",
    "   * Convert weather categories into a format suitable for the model (e.g., using one-hot encoding).\n",
    "\n",
    "4. **Normalizing and Scaling Features**\n",
    "\n",
    "   * Normalize all numerical features using either MinMaxScaler or StandardScaler.\n",
    "\n",
    "5. **Splitting the Dataset into Training and Test Sets**\n",
    "\n",
    "   * Split the dataset into 80% training and 20% testing in a time-ordered manner."
   ]
  },
  {
   "cell_type": "markdown",
   "id": "6acb85a4",
   "metadata": {},
   "source": [
    "### Small comment:\n",
    "\n",
    "Just like before, we handle paths and then load our thing. I have to think how to fix this to be scalable. \n",
    "\n",
    "So, one good point is now we should not have the `Unnamed: 0` column at all."
   ]
  },
  {
   "cell_type": "code",
   "execution_count": 19,
   "id": "2b514a14",
   "metadata": {},
   "outputs": [
    {
     "name": "stdout",
     "output_type": "stream",
     "text": [
      "Path C:\\Users\\Lenovo\\Desktop\\python_app\\tuuleenergia_tomodachi exists.\n"
     ]
    }
   ],
   "source": [
    "from tomodachi_core.models.weather_impact_model.tomodachi_model import TomodachiModel\n",
    "from tomodachi_core.tomodachi.services import PandasService\n",
    "from config_loader import load_config\n",
    "\n",
    "import pandas as pd\n",
    "import numpy as np\n",
    "\n",
    "import os\n",
    "import pathlib\n",
    "\n",
    "\n",
    "# get curr dir\n",
    "current_dir = os.getcwd()\n",
    "\n",
    "# find the root using patlihb\n",
    "root_dir = pathlib.Path(current_dir).parents[0].resolve()\n",
    "\n",
    "# path to the config\n",
    "config_path = (root_dir / \"tomodachi_core\" / \"config_development\" / \"config.py\").resolve()\n",
    "\n",
    "# load the config\n",
    "config = load_config(config_path)\n",
    "\n",
    "# Grab the CSV_PATH\n",
    "CSV_PATH = config.SAVE_TO_PATH\n",
    "DIRTY_PATH = config.CSV_PATH\n",
    "\n",
    "\n",
    "# Finally, we have to combine the path\n",
    "CSV_PATH = (root_dir / CSV_PATH).resolve()\n",
    "DIRTY_PATH = (root_dir / DIRTY_PATH).resolve() # For checking out imputer work\n",
    "\n",
    "# Create PandasService\n",
    "pandas_service = PandasService(str(CSV_PATH))\n",
    "\n",
    "# load the data\n",
    "df = pandas_service.load_csv_data()"
   ]
  },
  {
   "cell_type": "code",
   "execution_count": 2,
   "id": "cf9114c2",
   "metadata": {},
   "outputs": [
    {
     "name": "stdout",
     "output_type": "stream",
     "text": [
      "            Timestamp  Wind_Speed  Wind_Gust  Wind_Direction  Temperature  \\\n",
      "0 2020-01-01 00:00:00    0.265077   4.876651             274     2.152885   \n",
      "1 2020-01-01 01:00:00   10.727089  13.030088             232    -9.783598   \n",
      "2 2020-01-01 02:00:00   16.280163  17.651853             175     2.125048   \n",
      "3 2020-01-01 03:00:00    5.110434   9.387124             235    -0.174307   \n",
      "4 2020-01-01 04:00:00   16.444265  20.349305               1     1.881483   \n",
      "5 2020-01-01 05:00:00   17.641930  18.989849             352     8.668347   \n",
      "\n",
      "    Humidity  Precipitation     Pressure  Cloud_Cover  Solar_Radiation  \\\n",
      "0  88.345267       8.519070   997.887007    18.112024       359.985040   \n",
      "1  70.172549       0.604355  1021.258081    76.901148       414.169416   \n",
      "2  73.305597       2.239670   983.310126    49.615723       150.986509   \n",
      "3  60.924091       1.314233  1032.161577    48.975636       879.761958   \n",
      "4  78.893660       9.442267   951.217727    48.506623       752.151006   \n",
      "5  76.722646       1.085045   950.070404    20.747013       945.304449   \n",
      "\n",
      "   Hour_of_Day  Day_of_Week  Month  Wind_Speed_Squared  Wind_Speed_Cubed  \\\n",
      "0            0            2      1            0.070266          0.018626   \n",
      "1            1            2      1          115.070448       1234.370982   \n",
      "2            2            2      1          265.043714       4314.954915   \n",
      "3            3            2      1           26.116535        133.466829   \n",
      "4            4            2      1          270.413853       4446.757073   \n",
      "5            5            2      1          311.237696       5490.833660   \n",
      "\n",
      "   Power_Output Precipitation_Unit  \n",
      "0      6.001146                 mm  \n",
      "1    128.699686                 mm  \n",
      "2    370.222084                 mm  \n",
      "3    -30.746944                 mm  \n",
      "4    495.256687                 mm  \n",
      "5    578.531763                 mm  \n"
     ]
    }
   ],
   "source": [
    "# Make sure we got beautiful df\n",
    "print(df.head(6))"
   ]
  },
  {
   "cell_type": "code",
   "execution_count": 3,
   "id": "c65a0a95",
   "metadata": {},
   "outputs": [
    {
     "name": "stdout",
     "output_type": "stream",
     "text": [
      "Timestamp             datetime64[ns]\n",
      "Wind_Speed                   float64\n",
      "Wind_Gust                    float64\n",
      "Wind_Direction                 int64\n",
      "Temperature                  float64\n",
      "Humidity                     float64\n",
      "Precipitation                float64\n",
      "Pressure                     float64\n",
      "Cloud_Cover                  float64\n",
      "Solar_Radiation              float64\n",
      "Hour_of_Day                    int64\n",
      "Day_of_Week                    int64\n",
      "Month                          int64\n",
      "Wind_Speed_Squared           float64\n",
      "Wind_Speed_Cubed             float64\n",
      "Power_Output                 float64\n",
      "Precipitation_Unit            object\n",
      "dtype: object\n"
     ]
    }
   ],
   "source": [
    "# Check the types\n",
    "print(df.dtypes)"
   ]
  },
  {
   "cell_type": "markdown",
   "id": "63b7a74f",
   "metadata": {},
   "source": [
    "### Actual SPRINT-3 job:"
   ]
  },
  {
   "cell_type": "code",
   "execution_count": 4,
   "id": "5d0c1256",
   "metadata": {},
   "outputs": [],
   "source": [
    "# Step 1\n",
    "df[\"Power_Output\"] = df[\"Power_Output\"].shift(-1)\n",
    "df = df.dropna()"
   ]
  },
  {
   "cell_type": "code",
   "execution_count": 5,
   "id": "dd300360",
   "metadata": {},
   "outputs": [],
   "source": [
    "X = df.drop(columns=[\"Power_Output\", \"Timestamp\"])\n",
    "y = df[\"Power_Output\"]"
   ]
  },
  {
   "cell_type": "code",
   "execution_count": 6,
   "id": "9bd33bc4",
   "metadata": {},
   "outputs": [],
   "source": [
    "# Step 2\n",
    "\n",
    "weather_cols = ['Temperature', 'Humidity', 'Wind_Speed', 'Wind_Gust', 'Pressure', 'Solar_Radiation']\n",
    "\n",
    "time_features = X[[\"Hour_of_Day\", \"Day_of_Week\", \"Month\"]]\n",
    "\n",
    "for col in weather_cols:\n",
    "    X[f'{col}_6h_avg'] = df[col].rolling(window=6).mean().shift(1)  # shift 1 hour to avoid leakage"
   ]
  },
  {
   "cell_type": "code",
   "execution_count": 10,
   "id": "998b121f",
   "metadata": {},
   "outputs": [],
   "source": [
    "# Step 3\n",
    "from tomodachi_core.tomodachi.services.preprocess import PreprocessData"
   ]
  },
  {
   "cell_type": "code",
   "execution_count": 8,
   "id": "e601b168",
   "metadata": {},
   "outputs": [],
   "source": [
    "from sklearn.model_selection import train_test_split\n",
    "X_train, X_test, y_train, y_test = train_test_split(X, y, test_size=0.2, random_state=42)"
   ]
  },
  {
   "cell_type": "code",
   "execution_count": 11,
   "id": "32f06469",
   "metadata": {},
   "outputs": [],
   "source": [
    "num_features = ['Temperature', 'Humidity', 'Wind_Speed', 'Wind_Gust', 'Pressure'] + [f'{c}_6h_avg' for c in weather_cols]\n",
    "mini_max_feature = ['Solar_Radiation']\n",
    "cat_features = ['Precipitation_Unit', 'Hour_of_Day', 'Day_of_Week', 'Month']  # if you want to treat time features categorically\n",
    "\n",
    "preprocessor = PreprocessData().preprocess(X, y)\n",
    "\n",
    "preprocessor.set_feature_groups(\n",
    "    num_features=num_features,\n",
    "    mini_max_feature=mini_max_feature,\n",
    "    cat_features=cat_features\n",
    ")\n",
    "\n",
    "# Step 3: Fit on training data\n",
    "X_train_processed = preprocessor.fit_transform(X_train)\n",
    "\n",
    "# Step 4: Transform test data\n",
    "X_test_processed = preprocessor.transform(X_test)"
   ]
  },
  {
   "cell_type": "code",
   "execution_count": 12,
   "id": "e9557ed7",
   "metadata": {},
   "outputs": [
    {
     "data": {
      "text/plain": [
       "array([[ 1.25973588, -2.24458906, -1.05769071, ...,  0.        ,\n",
       "         0.        ,  0.        ],\n",
       "       [-1.52008957,  2.00724556,  0.34717039, ...,  0.        ,\n",
       "         0.        ,  0.        ],\n",
       "       [-0.0103964 , -2.03859119, -0.46072559, ...,  0.        ,\n",
       "         0.        ,  0.        ],\n",
       "       ...,\n",
       "       [-0.0103964 , -0.24938231,  1.14902258, ...,  0.        ,\n",
       "         0.        ,  0.        ],\n",
       "       [ 0.22143798,  0.64561089, -0.13428514, ...,  1.        ,\n",
       "         0.        ,  0.        ],\n",
       "       [-0.34983278, -0.2704829 , -0.64319758, ...,  0.        ,\n",
       "         0.        ,  0.        ]], shape=(23999, 59))"
      ]
     },
     "execution_count": 12,
     "metadata": {},
     "output_type": "execute_result"
    }
   ],
   "source": [
    "X_train_processed"
   ]
  },
  {
   "cell_type": "code",
   "execution_count": 13,
   "id": "cb7ad6c9",
   "metadata": {},
   "outputs": [
    {
     "data": {
      "text/plain": [
       "array([[-1.45339036,  1.22265038,  0.55910919, ...,  0.        ,\n",
       "         0.        ,  0.        ],\n",
       "       [ 1.51900898, -0.00535717, -0.39368611, ...,  0.        ,\n",
       "         0.        ,  0.        ],\n",
       "       [-0.40008461, -0.52785934,  1.00796192, ...,  0.        ,\n",
       "         0.        ,  0.        ],\n",
       "       ...,\n",
       "       [ 1.71102225, -1.73306042, -0.55588933, ...,  0.        ,\n",
       "         0.        ,  0.        ],\n",
       "       [-1.48238347, -0.00535717,  0.38416589, ...,  0.        ,\n",
       "         0.        ,  1.        ],\n",
       "       [ 0.08515586, -0.40936642,  0.80848074, ...,  0.        ,\n",
       "         0.        ,  0.        ]], shape=(6000, 59))"
      ]
     },
     "execution_count": 13,
     "metadata": {},
     "output_type": "execute_result"
    }
   ],
   "source": [
    "X_test_processed"
   ]
  },
  {
   "cell_type": "code",
   "execution_count": 21,
   "id": "9d47c021",
   "metadata": {},
   "outputs": [
    {
     "data": {
      "text/plain": [
       "array(['Wind_Speed', 'Wind_Gust', 'Wind_Direction', 'Temperature',\n",
       "       'Humidity', 'Precipitation', 'Pressure', 'Cloud_Cover',\n",
       "       'Solar_Radiation', 'Hour_of_Day', 'Day_of_Week', 'Month',\n",
       "       'Wind_Speed_Squared', 'Wind_Speed_Cubed', 'Precipitation_Unit',\n",
       "       'Temperature_6h_avg', 'Humidity_6h_avg', 'Wind_Speed_6h_avg',\n",
       "       'Wind_Gust_6h_avg', 'Pressure_6h_avg', 'Solar_Radiation_6h_avg'],\n",
       "      dtype=object)"
      ]
     },
     "execution_count": 21,
     "metadata": {},
     "output_type": "execute_result"
    }
   ],
   "source": [
    "preprocessor.feature_names_in_"
   ]
  },
  {
   "cell_type": "code",
   "execution_count": 22,
   "id": "46dff2c3",
   "metadata": {},
   "outputs": [
    {
     "data": {
      "text/plain": [
       "21"
      ]
     },
     "execution_count": 22,
     "metadata": {},
     "output_type": "execute_result"
    }
   ],
   "source": [
    "preprocessor.n_features_in_"
   ]
  },
  {
   "cell_type": "markdown",
   "id": "542a8934",
   "metadata": {},
   "source": [
    "### Sklearn"
   ]
  },
  {
   "cell_type": "code",
   "execution_count": 15,
   "id": "0929e0d3",
   "metadata": {},
   "outputs": [],
   "source": [
    "from sklearn.compose import ColumnTransformer\n",
    "from sklearn.preprocessing import StandardScaler, MinMaxScaler, OneHotEncoder\n",
    "\n",
    "preprocessor = ColumnTransformer(\n",
    "    transformers=[\n",
    "        (\"num\", StandardScaler(), num_features),\n",
    "        (\"mini_max\", MinMaxScaler(), mini_max_feature),\n",
    "        (\"cat\", OneHotEncoder(handle_unknown=\"ignore\"), cat_features)\n",
    "    ]\n",
    ")\n",
    "\n",
    "X_scaled = preprocessor.fit_transform(X, y)"
   ]
  },
  {
   "cell_type": "code",
   "execution_count": 18,
   "id": "e416278d",
   "metadata": {},
   "outputs": [
    {
     "name": "stdout",
     "output_type": "stream",
     "text": [
      "Final feature names: ['Temperature' 'Humidity' 'Wind_Speed' 'Wind_Gust' 'Pressure'\n",
      " 'Temperature_6h_avg' 'Humidity_6h_avg' 'Wind_Speed_6h_avg'\n",
      " 'Wind_Gust_6h_avg' 'Pressure_6h_avg' 'Solar_Radiation_6h_avg'\n",
      " 'Solar_Radiation' 'Precipitation_Unit_ML' 'Precipitation_Unit_Mm'\n",
      " 'Precipitation_Unit_milimeter' 'Precipitation_Unit_mm' 'Hour_of_Day_0'\n",
      " 'Hour_of_Day_1' 'Hour_of_Day_2' 'Hour_of_Day_3' 'Hour_of_Day_4'\n",
      " 'Hour_of_Day_5' 'Hour_of_Day_6' 'Hour_of_Day_7' 'Hour_of_Day_8'\n",
      " 'Hour_of_Day_9' 'Hour_of_Day_10' 'Hour_of_Day_11' 'Hour_of_Day_12'\n",
      " 'Hour_of_Day_13' 'Hour_of_Day_14' 'Hour_of_Day_15' 'Hour_of_Day_16'\n",
      " 'Hour_of_Day_17' 'Hour_of_Day_18' 'Hour_of_Day_19' 'Hour_of_Day_20'\n",
      " 'Hour_of_Day_21' 'Hour_of_Day_22' 'Hour_of_Day_23' 'Day_of_Week_0'\n",
      " 'Day_of_Week_1' 'Day_of_Week_2' 'Day_of_Week_3' 'Day_of_Week_4'\n",
      " 'Day_of_Week_5' 'Day_of_Week_6' 'Month_1' 'Month_2' 'Month_3' 'Month_4'\n",
      " 'Month_5' 'Month_6' 'Month_7' 'Month_8' 'Month_9' 'Month_10' 'Month_11'\n",
      " 'Month_12']\n"
     ]
    }
   ],
   "source": [
    "cat_feature_names = preprocessor.named_transformers_['cat'].get_feature_names_out(cat_features)\n",
    "all_features = np.concatenate([num_features, mini_max_feature, cat_feature_names])\n",
    "print(\"Final feature names:\", all_features)"
   ]
  },
  {
   "cell_type": "code",
   "execution_count": 20,
   "id": "6437852b",
   "metadata": {},
   "outputs": [
    {
     "name": "stdout",
     "output_type": "stream",
     "text": [
      "   Temperature  Humidity  Wind_Speed  Wind_Gust  Pressure  Temperature_6h_avg  \\\n",
      "0    -0.458549  2.024266   -1.505153  -1.374700 -0.075770                 NaN   \n",
      "1    -1.659070  0.378803   -0.164144  -0.265959  0.734161                 NaN   \n",
      "2    -0.461349  0.662487    0.547643   0.362529 -0.580936                 NaN   \n",
      "3    -0.692608 -0.458605   -0.884080  -0.761346  1.112024                 NaN   \n",
      "4    -0.485846  1.168463    0.568678   0.729341 -1.693106                 NaN   \n",
      "\n",
      "   Humidity_6h_avg  Wind_Speed_6h_avg  Wind_Gust_6h_avg  Pressure_6h_avg  ...  \\\n",
      "0              NaN                NaN               NaN              NaN  ...   \n",
      "1              NaN                NaN               NaN              NaN  ...   \n",
      "2              NaN                NaN               NaN              NaN  ...   \n",
      "3              NaN                NaN               NaN              NaN  ...   \n",
      "4              NaN                NaN               NaN              NaN  ...   \n",
      "\n",
      "   Month_3  Month_4  Month_5  Month_6  Month_7  Month_8  Month_9  Month_10  \\\n",
      "0      0.0      0.0      0.0      0.0      0.0      0.0      0.0       0.0   \n",
      "1      0.0      0.0      0.0      0.0      0.0      0.0      0.0       0.0   \n",
      "2      0.0      0.0      0.0      0.0      0.0      0.0      0.0       0.0   \n",
      "3      0.0      0.0      0.0      0.0      0.0      0.0      0.0       0.0   \n",
      "4      0.0      0.0      0.0      0.0      0.0      0.0      0.0       0.0   \n",
      "\n",
      "   Month_11  Month_12  \n",
      "0       0.0       0.0  \n",
      "1       0.0       0.0  \n",
      "2       0.0       0.0  \n",
      "3       0.0       0.0  \n",
      "4       0.0       0.0  \n",
      "\n",
      "[5 rows x 59 columns]\n"
     ]
    }
   ],
   "source": [
    "X_scaled_dense = X_scaled.toarray()\n",
    "X_scaled_df = pd.DataFrame(X_scaled_dense, columns=all_features)\n",
    "print(X_scaled_df.head())"
   ]
  },
  {
   "cell_type": "markdown",
   "id": "1eb6311c",
   "metadata": {},
   "source": [
    "### IMPUTER: Little Recap (Imputer vs ColumnTransofmer)"
   ]
  },
  {
   "cell_type": "code",
   "execution_count": 23,
   "id": "2cd8da55",
   "metadata": {},
   "outputs": [],
   "source": [
    "my_service = PandasService(str(DIRTY_PATH))\n",
    "df = my_service.load_csv_data()"
   ]
  },
  {
   "cell_type": "code",
   "execution_count": 24,
   "id": "d2db6150",
   "metadata": {},
   "outputs": [
    {
     "data": {
      "text/html": [
       "<div>\n",
       "<style scoped>\n",
       "    .dataframe tbody tr th:only-of-type {\n",
       "        vertical-align: middle;\n",
       "    }\n",
       "\n",
       "    .dataframe tbody tr th {\n",
       "        vertical-align: top;\n",
       "    }\n",
       "\n",
       "    .dataframe thead th {\n",
       "        text-align: right;\n",
       "    }\n",
       "</style>\n",
       "<table border=\"1\" class=\"dataframe\">\n",
       "  <thead>\n",
       "    <tr style=\"text-align: right;\">\n",
       "      <th></th>\n",
       "      <th>Timestamp</th>\n",
       "      <th>Wind_Speed</th>\n",
       "      <th>Wind_Gust</th>\n",
       "      <th>Wind_Direction</th>\n",
       "      <th>Temperature</th>\n",
       "      <th>Humidity</th>\n",
       "      <th>Precipitation</th>\n",
       "      <th>Pressure</th>\n",
       "      <th>Cloud_Cover</th>\n",
       "      <th>Solar_Radiation</th>\n",
       "      <th>Hour_of_Day</th>\n",
       "      <th>Day_of_Week</th>\n",
       "      <th>Month</th>\n",
       "      <th>Wind_Speed_Squared</th>\n",
       "      <th>Wind_Speed_Cubed</th>\n",
       "      <th>Power_Output</th>\n",
       "      <th>Precipitation_Unit</th>\n",
       "    </tr>\n",
       "  </thead>\n",
       "  <tbody>\n",
       "    <tr>\n",
       "      <th>0</th>\n",
       "      <td>2020-01-01 00:00:00</td>\n",
       "      <td>0.265077</td>\n",
       "      <td>4.876651</td>\n",
       "      <td>274</td>\n",
       "      <td>2.152885</td>\n",
       "      <td>88.345267</td>\n",
       "      <td>8.519070</td>\n",
       "      <td>997.887007</td>\n",
       "      <td>18.112024</td>\n",
       "      <td>359.985040</td>\n",
       "      <td>0</td>\n",
       "      <td>2</td>\n",
       "      <td>1</td>\n",
       "      <td>0.070266</td>\n",
       "      <td>0.018626</td>\n",
       "      <td>6.001146</td>\n",
       "      <td>mm</td>\n",
       "    </tr>\n",
       "    <tr>\n",
       "      <th>1</th>\n",
       "      <td>2020-01-01 01:00:00</td>\n",
       "      <td>10.727089</td>\n",
       "      <td>13.030088</td>\n",
       "      <td>232</td>\n",
       "      <td>-9.783598</td>\n",
       "      <td>70.172549</td>\n",
       "      <td>0.604355</td>\n",
       "      <td>1021.258081</td>\n",
       "      <td>76.901148</td>\n",
       "      <td>414.169416</td>\n",
       "      <td>1</td>\n",
       "      <td>2</td>\n",
       "      <td>1</td>\n",
       "      <td>115.070448</td>\n",
       "      <td>1234.370982</td>\n",
       "      <td>128.699686</td>\n",
       "      <td>mm</td>\n",
       "    </tr>\n",
       "    <tr>\n",
       "      <th>2</th>\n",
       "      <td>2020-01-01 02:00:00</td>\n",
       "      <td>16.280163</td>\n",
       "      <td>17.651853</td>\n",
       "      <td>175</td>\n",
       "      <td>2.125048</td>\n",
       "      <td>73.305597</td>\n",
       "      <td>2.239670</td>\n",
       "      <td>983.310126</td>\n",
       "      <td>49.615723</td>\n",
       "      <td>150.986509</td>\n",
       "      <td>2</td>\n",
       "      <td>2</td>\n",
       "      <td>1</td>\n",
       "      <td>265.043714</td>\n",
       "      <td>4314.954915</td>\n",
       "      <td>370.222084</td>\n",
       "      <td>mm</td>\n",
       "    </tr>\n",
       "    <tr>\n",
       "      <th>3</th>\n",
       "      <td>2020-01-01 03:00:00</td>\n",
       "      <td>5.110434</td>\n",
       "      <td>9.387124</td>\n",
       "      <td>235</td>\n",
       "      <td>-0.174307</td>\n",
       "      <td>60.924091</td>\n",
       "      <td>1.314233</td>\n",
       "      <td>1032.161577</td>\n",
       "      <td>48.975636</td>\n",
       "      <td>879.761958</td>\n",
       "      <td>3</td>\n",
       "      <td>2</td>\n",
       "      <td>1</td>\n",
       "      <td>26.116535</td>\n",
       "      <td>133.466829</td>\n",
       "      <td>-30.746944</td>\n",
       "      <td>mm</td>\n",
       "    </tr>\n",
       "    <tr>\n",
       "      <th>4</th>\n",
       "      <td>2020-01-01 04:00:00</td>\n",
       "      <td>16.444265</td>\n",
       "      <td>20.349305</td>\n",
       "      <td>1</td>\n",
       "      <td>1.881483</td>\n",
       "      <td>78.893660</td>\n",
       "      <td>9.442267</td>\n",
       "      <td>951.217727</td>\n",
       "      <td>48.506623</td>\n",
       "      <td>752.151006</td>\n",
       "      <td>4</td>\n",
       "      <td>2</td>\n",
       "      <td>1</td>\n",
       "      <td>270.413853</td>\n",
       "      <td>4446.757073</td>\n",
       "      <td>495.256687</td>\n",
       "      <td>mm</td>\n",
       "    </tr>\n",
       "    <tr>\n",
       "      <th>...</th>\n",
       "      <td>...</td>\n",
       "      <td>...</td>\n",
       "      <td>...</td>\n",
       "      <td>...</td>\n",
       "      <td>...</td>\n",
       "      <td>...</td>\n",
       "      <td>...</td>\n",
       "      <td>...</td>\n",
       "      <td>...</td>\n",
       "      <td>...</td>\n",
       "      <td>...</td>\n",
       "      <td>...</td>\n",
       "      <td>...</td>\n",
       "      <td>...</td>\n",
       "      <td>...</td>\n",
       "      <td>...</td>\n",
       "      <td>...</td>\n",
       "    </tr>\n",
       "    <tr>\n",
       "      <th>30295</th>\n",
       "      <td>2023-03-09 00:00:00</td>\n",
       "      <td>19.155799</td>\n",
       "      <td>21.753286</td>\n",
       "      <td>48</td>\n",
       "      <td>NaN</td>\n",
       "      <td>71.432872</td>\n",
       "      <td>8.045355</td>\n",
       "      <td>970.138601</td>\n",
       "      <td>19.993591</td>\n",
       "      <td>981.661646</td>\n",
       "      <td>0</td>\n",
       "      <td>3</td>\n",
       "      <td>3</td>\n",
       "      <td>366.944632</td>\n",
       "      <td>7029.117569</td>\n",
       "      <td>697.938093</td>\n",
       "      <td>mm</td>\n",
       "    </tr>\n",
       "    <tr>\n",
       "      <th>30296</th>\n",
       "      <td>2021-06-20 04:00:00</td>\n",
       "      <td>4.255135</td>\n",
       "      <td>6.760641</td>\n",
       "      <td>143</td>\n",
       "      <td>29.918565</td>\n",
       "      <td>68.584030</td>\n",
       "      <td>3.477158</td>\n",
       "      <td>962.814249</td>\n",
       "      <td>22.214235</td>\n",
       "      <td>437.033112</td>\n",
       "      <td>4</td>\n",
       "      <td>6</td>\n",
       "      <td>6</td>\n",
       "      <td>18.106171</td>\n",
       "      <td>77.044199</td>\n",
       "      <td>28.517725</td>\n",
       "      <td>mm</td>\n",
       "    </tr>\n",
       "    <tr>\n",
       "      <th>30297</th>\n",
       "      <td>2021-03-26 06:00:00</td>\n",
       "      <td>14.315677</td>\n",
       "      <td>15.489399</td>\n",
       "      <td>47</td>\n",
       "      <td>3.875054</td>\n",
       "      <td>50.875164</td>\n",
       "      <td>1.915244</td>\n",
       "      <td>1014.743275</td>\n",
       "      <td>98.855762</td>\n",
       "      <td>162.440760</td>\n",
       "      <td>6</td>\n",
       "      <td>4</td>\n",
       "      <td>3</td>\n",
       "      <td>204.938595</td>\n",
       "      <td>2933.834635</td>\n",
       "      <td>362.628620</td>\n",
       "      <td>mm</td>\n",
       "    </tr>\n",
       "    <tr>\n",
       "      <th>30298</th>\n",
       "      <td>2020-03-27 13:00:00</td>\n",
       "      <td>18.209074</td>\n",
       "      <td>23.172418</td>\n",
       "      <td>71</td>\n",
       "      <td>7.155587</td>\n",
       "      <td>64.865156</td>\n",
       "      <td>5.935101</td>\n",
       "      <td>1035.863647</td>\n",
       "      <td>20.872151</td>\n",
       "      <td>953.018941</td>\n",
       "      <td>13</td>\n",
       "      <td>4</td>\n",
       "      <td>3</td>\n",
       "      <td>331.570365</td>\n",
       "      <td>6037.589202</td>\n",
       "      <td>607.445627</td>\n",
       "      <td>mm</td>\n",
       "    </tr>\n",
       "    <tr>\n",
       "      <th>30299</th>\n",
       "      <td>2022-12-03 09:00:00</td>\n",
       "      <td>2.660925</td>\n",
       "      <td>5.066079</td>\n",
       "      <td>191</td>\n",
       "      <td>1.515736</td>\n",
       "      <td>63.662077</td>\n",
       "      <td>1.218030</td>\n",
       "      <td>969.038910</td>\n",
       "      <td>44.053325</td>\n",
       "      <td>102.506264</td>\n",
       "      <td>9</td>\n",
       "      <td>5</td>\n",
       "      <td>12</td>\n",
       "      <td>7.080524</td>\n",
       "      <td>18.840748</td>\n",
       "      <td>-41.994970</td>\n",
       "      <td>mm</td>\n",
       "    </tr>\n",
       "  </tbody>\n",
       "</table>\n",
       "<p>30300 rows × 17 columns</p>\n",
       "</div>"
      ],
      "text/plain": [
       "                 Timestamp  Wind_Speed  Wind_Gust  Wind_Direction  \\\n",
       "0      2020-01-01 00:00:00    0.265077   4.876651             274   \n",
       "1      2020-01-01 01:00:00   10.727089  13.030088             232   \n",
       "2      2020-01-01 02:00:00   16.280163  17.651853             175   \n",
       "3      2020-01-01 03:00:00    5.110434   9.387124             235   \n",
       "4      2020-01-01 04:00:00   16.444265  20.349305               1   \n",
       "...                    ...         ...        ...             ...   \n",
       "30295  2023-03-09 00:00:00   19.155799  21.753286              48   \n",
       "30296  2021-06-20 04:00:00    4.255135   6.760641             143   \n",
       "30297  2021-03-26 06:00:00   14.315677  15.489399              47   \n",
       "30298  2020-03-27 13:00:00   18.209074  23.172418              71   \n",
       "30299  2022-12-03 09:00:00    2.660925   5.066079             191   \n",
       "\n",
       "       Temperature   Humidity  Precipitation     Pressure  Cloud_Cover  \\\n",
       "0         2.152885  88.345267       8.519070   997.887007    18.112024   \n",
       "1        -9.783598  70.172549       0.604355  1021.258081    76.901148   \n",
       "2         2.125048  73.305597       2.239670   983.310126    49.615723   \n",
       "3        -0.174307  60.924091       1.314233  1032.161577    48.975636   \n",
       "4         1.881483  78.893660       9.442267   951.217727    48.506623   \n",
       "...            ...        ...            ...          ...          ...   \n",
       "30295          NaN  71.432872       8.045355   970.138601    19.993591   \n",
       "30296    29.918565  68.584030       3.477158   962.814249    22.214235   \n",
       "30297     3.875054  50.875164       1.915244  1014.743275    98.855762   \n",
       "30298     7.155587  64.865156       5.935101  1035.863647    20.872151   \n",
       "30299     1.515736  63.662077       1.218030   969.038910    44.053325   \n",
       "\n",
       "       Solar_Radiation  Hour_of_Day  Day_of_Week  Month  Wind_Speed_Squared  \\\n",
       "0           359.985040            0            2      1            0.070266   \n",
       "1           414.169416            1            2      1          115.070448   \n",
       "2           150.986509            2            2      1          265.043714   \n",
       "3           879.761958            3            2      1           26.116535   \n",
       "4           752.151006            4            2      1          270.413853   \n",
       "...                ...          ...          ...    ...                 ...   \n",
       "30295       981.661646            0            3      3          366.944632   \n",
       "30296       437.033112            4            6      6           18.106171   \n",
       "30297       162.440760            6            4      3          204.938595   \n",
       "30298       953.018941           13            4      3          331.570365   \n",
       "30299       102.506264            9            5     12            7.080524   \n",
       "\n",
       "       Wind_Speed_Cubed  Power_Output Precipitation_Unit  \n",
       "0              0.018626      6.001146                 mm  \n",
       "1           1234.370982    128.699686                 mm  \n",
       "2           4314.954915    370.222084                 mm  \n",
       "3            133.466829    -30.746944                 mm  \n",
       "4           4446.757073    495.256687                 mm  \n",
       "...                 ...           ...                ...  \n",
       "30295       7029.117569    697.938093                 mm  \n",
       "30296         77.044199     28.517725                 mm  \n",
       "30297       2933.834635    362.628620                 mm  \n",
       "30298       6037.589202    607.445627                 mm  \n",
       "30299         18.840748    -41.994970                 mm  \n",
       "\n",
       "[30300 rows x 17 columns]"
      ]
     },
     "execution_count": 24,
     "metadata": {},
     "output_type": "execute_result"
    }
   ],
   "source": [
    "df"
   ]
  },
  {
   "cell_type": "code",
   "execution_count": 26,
   "id": "09cdc601",
   "metadata": {},
   "outputs": [
    {
     "name": "stdout",
     "output_type": "stream",
     "text": [
      "       Wind_Speed  Wind_Gust  Wind_Direction  Temperature   Humidity  \\\n",
      "0        0.265077   4.876651           274.0     2.152885  88.345267   \n",
      "1       10.727089  13.030088           232.0    -9.783598  70.172549   \n",
      "2       16.280163  17.651853           175.0     2.125048  73.305597   \n",
      "3        5.110434   9.387124           235.0    -0.174307  60.924091   \n",
      "4       16.444265  20.349305             1.0     1.881483  78.893660   \n",
      "...           ...        ...             ...          ...        ...   \n",
      "24659    9.044529  10.490345            88.0     0.417861  85.128582   \n",
      "24660    4.255135   6.760641           143.0    29.918565  68.584030   \n",
      "24661   14.315677  15.489399            47.0     3.875054  50.875164   \n",
      "24662   18.209074  23.172418            71.0     7.155587  64.865156   \n",
      "24663    2.660925   5.066079           191.0     1.515736  63.662077   \n",
      "\n",
      "       Precipitation     Pressure  Cloud_Cover  Solar_Radiation  Hour_of_Day  \\\n",
      "0           8.519070   997.887007    18.112024       359.985040          0.0   \n",
      "1           0.604355  1021.258081    76.901148       414.169416          1.0   \n",
      "2           2.239670   983.310126    49.615723       150.986509          2.0   \n",
      "3           1.314233  1032.161577    48.975636       879.761958          3.0   \n",
      "4           9.442267   951.217727    48.506623       752.151006          4.0   \n",
      "...              ...          ...          ...              ...          ...   \n",
      "24659       2.292364   952.178231    21.717680       758.242548         19.0   \n",
      "24660       3.477158   962.814249    22.214235       437.033112          4.0   \n",
      "24661       1.915244  1014.743275    98.855762       162.440760          6.0   \n",
      "24662       5.935101  1035.863647    20.872151       953.018941         13.0   \n",
      "24663       1.218030   969.038910    44.053325       102.506264          9.0   \n",
      "\n",
      "       Day_of_Week  Month  Wind_Speed_Squared  Wind_Speed_Cubed  \n",
      "0              2.0    1.0            0.070266          0.018626  \n",
      "1              2.0    1.0          115.070448       1234.370982  \n",
      "2              2.0    1.0          265.043714       4314.954915  \n",
      "3              2.0    1.0           26.116535        133.466829  \n",
      "4              2.0    1.0          270.413853       4446.757073  \n",
      "...            ...    ...                 ...               ...  \n",
      "24659          1.0    2.0           81.803513        739.874287  \n",
      "24660          6.0    6.0           18.106171         77.044199  \n",
      "24661          4.0    3.0          204.938595       2933.834635  \n",
      "24662          4.0    3.0          331.570365       6037.589202  \n",
      "24663          5.0   12.0            7.080524         18.840748  \n",
      "\n",
      "[24664 rows x 14 columns]\n"
     ]
    }
   ],
   "source": [
    "X = df.drop(columns=[\"Power_Output\", \"Precipitation_Unit\", \"Timestamp\"])\n",
    "y = df[\"Power_Output\"]\n",
    "X = X.dropna()\n",
    "y = y.dropna()\n",
    "preprocessor_raw = PreprocessData.preprocess(X, y)\n",
    "\n",
    "# apply imputer\n",
    "result = preprocessor_raw.imputer_preprocess(strategy='most_frequent')\n",
    "print(result.unwrap())"
   ]
  },
  {
   "cell_type": "code",
   "execution_count": 27,
   "id": "19bb40dd",
   "metadata": {},
   "outputs": [
    {
     "data": {
      "image/png": "[encoded data removed]",
      "text/plain": [
       "<Figure size 640x480 with 1 Axes>"
      ]
     },
     "metadata": {},
     "output_type": "display_data"
    }
   ],
   "source": [
    "import seaborn as sns\n",
    "import matplotlib.pyplot as plt\n",
    "\n",
    "sns.heatmap(X.isna(), cbar=False)\n",
    "plt.title(\"Missing Values Heatmap\")\n",
    "plt.show()\n"
   ]
  }
 ],
 "metadata": {
  "kernelspec": {
   "display_name": "Python 3",
   "language": "python",
   "name": "python3"
  },
  "language_info": {
   "codemirror_mode": {
    "name": "ipython",
    "version": 3
   },
   "file_extension": ".py",
   "mimetype": "text/x-python",
   "name": "python",
   "nbconvert_exporter": "python",
   "pygments_lexer": "ipython3",
   "version": "3.13.2"
  }
 },
 "nbformat": 4,
 "nbformat_minor": 5
}
